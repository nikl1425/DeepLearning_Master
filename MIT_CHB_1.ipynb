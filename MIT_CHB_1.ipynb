{
 "cells": [
  {
   "cell_type": "markdown",
   "metadata": {},
   "source": [
    "# CHB MIT DATABASE"
   ]
  },
  {
   "cell_type": "markdown",
   "metadata": {},
   "source": [
    "1. Load edf data\n",
    "2. define class sz/nsz\n",
    "3. insert class cols\n",
    "4. concat\n",
    "5. windowing\n",
    "6. ensemple learn resnet152, inceptionv3, incep+resnet\n",
    "7. define OHEM loss\n",
    "8. build network\n",
    "9. evaluate\n",
    "10. calculate for confussion matrices (f1-score etc.)"
   ]
  },
  {
   "cell_type": "code",
   "execution_count": 4,
   "metadata": {},
   "outputs": [
    {
     "name": "stdout",
     "output_type": "stream",
     "text": [
      "Tensor Flow Version: 2.5.0\n",
      "Keras Version: 2.5.0\n",
      "\n",
      "Python 3.9.7 (default, Sep 16 2021, 23:53:23) \n",
      "[Clang 12.0.0 ]\n",
      "Pandas 1.3.1\n",
      "Scikit-Learn 0.24.2\n",
      "GPU is available\n"
     ]
    }
   ],
   "source": [
    "# What version of Python do you have?\n",
    "import sys\n",
    "import os\n",
    "import tensorflow.keras\n",
    "import pandas as pd\n",
    "import sklearn as sk\n",
    "import tensorflow as tf\n",
    "import numpy as np\n",
    "import mne\n",
    "import pathlib\n",
    "import openpyxl\n",
    "from datetime import datetime\n",
    "import pytz\n",
    "import random\n",
    "import os\n",
    "from skimage.restoration import (denoise_wavelet, estimate_sigma)\n",
    "from pathlib import Path\n",
    "from tensorflow.keras.preprocessing.image import ImageDataGenerator\n",
    "from tensorflow.keras import layers, models, Sequential\n",
    "from matplotlib import pyplot as plt\n",
    "%matplotlib inline\n",
    "\n",
    "print(f\"Tensor Flow Version: {tf.__version__}\")\n",
    "print(f\"Keras Version: {tensorflow.keras.__version__}\")\n",
    "print()\n",
    "print(f\"Python {sys.version}\")\n",
    "print(f\"Pandas {pd.__version__}\")\n",
    "print(f\"Scikit-Learn {sk.__version__}\")\n",
    "gpu = len(tf.config.list_physical_devices('GPU'))>0\n",
    "print(\"GPU is\", \"available\" if gpu else \"NOT AVAILABLE\")"
   ]
  },
  {
   "cell_type": "code",
   "execution_count": 4,
   "metadata": {},
   "outputs": [
    {
     "data": {
      "text/plain": [
       "'/Users/niklashjort/Desktop/Notes/Speciale/projects'"
      ]
     },
     "execution_count": 4,
     "metadata": {},
     "output_type": "execute_result"
    }
   ],
   "source": [
    "cwd = os.getcwd()\n",
    "cwd"
   ]
  },
  {
   "cell_type": "code",
   "execution_count": 3,
   "metadata": {},
   "outputs": [
    {
     "name": "stdout",
     "output_type": "stream",
     "text": [
      "Dataset/CHB-MIT/chb-mit-scalp-eeg-database-1.0.0/chb01//chb01_22.edf\n",
      "Dataset/CHB-MIT/chb-mit-scalp-eeg-database-1.0.0/chb01//chb01_36.edf\n",
      "Dataset/CHB-MIT/chb-mit-scalp-eeg-database-1.0.0/chb01//chb01_37.edf\n",
      "Dataset/CHB-MIT/chb-mit-scalp-eeg-database-1.0.0/chb01//chb01_23.edf\n",
      "Dataset/CHB-MIT/chb-mit-scalp-eeg-database-1.0.0/chb01//chb01_27.edf\n",
      "<class 'str'>\n"
     ]
    }
   ],
   "source": [
    "database_path = 'Dataset/CHB-MIT/chb-mit-scalp-eeg-database-1.0.0/'\n",
    "patient_one_path = 'chb01/'\n",
    "\n",
    "def GetAllEdfFileNames(directory):\n",
    "    fileType = \".edf\"\n",
    "    files = os.listdir(directory)\n",
    "    edfFileNameList = [(directory + \"/\" + x) for x in files if (x.endswith(fileType))]\n",
    "    return edfFileNameList\n",
    "\n",
    "EEG_dataset= GetAllEdfFileNames(database_path + patient_one_path)\n",
    "\n",
    "for file in EEG_dataset[10:15]:\n",
    "    print(file)\n",
    "\n",
    "print(type(EEG_dataset[1]))"
   ]
  },
  {
   "cell_type": "code",
   "execution_count": 5,
   "metadata": {},
   "outputs": [
    {
     "name": "stdout",
     "output_type": "stream",
     "text": [
      "current_file: Dataset/CHB-MIT/chb-mit-scalp-eeg-database-1.0.0/chb01//chb01_36.edf\n"
     ]
    },
    {
     "data": {
      "text/html": [
       "<div>\n",
       "<style scoped>\n",
       "    .dataframe tbody tr th:only-of-type {\n",
       "        vertical-align: middle;\n",
       "    }\n",
       "\n",
       "    .dataframe tbody tr th {\n",
       "        vertical-align: top;\n",
       "    }\n",
       "\n",
       "    .dataframe thead th {\n",
       "        text-align: right;\n",
       "    }\n",
       "</style>\n",
       "<table border=\"1\" class=\"dataframe\">\n",
       "  <thead>\n",
       "    <tr style=\"text-align: right;\">\n",
       "      <th></th>\n",
       "      <th>FP1-F7</th>\n",
       "      <th>F7-T7</th>\n",
       "      <th>T7-P7</th>\n",
       "      <th>P7-O1</th>\n",
       "      <th>FP1-F3</th>\n",
       "      <th>F3-C3</th>\n",
       "      <th>C3-P3</th>\n",
       "      <th>P3-O1</th>\n",
       "      <th>FP2-F4</th>\n",
       "      <th>F4-C4</th>\n",
       "      <th>...</th>\n",
       "      <th>F8-T8</th>\n",
       "      <th>T8-P8</th>\n",
       "      <th>P8-O2</th>\n",
       "      <th>FZ-CZ</th>\n",
       "      <th>CZ-PZ</th>\n",
       "      <th>P7-T7</th>\n",
       "      <th>T7-FT9</th>\n",
       "      <th>FT9-FT10</th>\n",
       "      <th>FT10-T8</th>\n",
       "      <th>STI 014</th>\n",
       "    </tr>\n",
       "  </thead>\n",
       "  <tbody>\n",
       "    <tr>\n",
       "      <th>0</th>\n",
       "      <td>-3.496947e-05</td>\n",
       "      <td>8.068376e-05</td>\n",
       "      <td>-1.777778e-05</td>\n",
       "      <td>1.387057e-05</td>\n",
       "      <td>-1.170208e-04</td>\n",
       "      <td>-1.230769e-05</td>\n",
       "      <td>5.177045e-05</td>\n",
       "      <td>1.193651e-04</td>\n",
       "      <td>-1.650794e-04</td>\n",
       "      <td>1.275702e-04</td>\n",
       "      <td>...</td>\n",
       "      <td>1.041270e-04</td>\n",
       "      <td>5.489621e-05</td>\n",
       "      <td>-1.853968e-04</td>\n",
       "      <td>-1.545299e-04</td>\n",
       "      <td>4.708181e-05</td>\n",
       "      <td>1.816850e-05</td>\n",
       "      <td>-7.130647e-05</td>\n",
       "      <td>-1.699634e-05</td>\n",
       "      <td>9.006105e-05</td>\n",
       "      <td>54.0</td>\n",
       "    </tr>\n",
       "    <tr>\n",
       "      <th>1</th>\n",
       "      <td>1.953602e-07</td>\n",
       "      <td>1.953602e-07</td>\n",
       "      <td>1.953602e-07</td>\n",
       "      <td>1.953602e-07</td>\n",
       "      <td>1.953602e-07</td>\n",
       "      <td>1.953602e-07</td>\n",
       "      <td>1.953602e-07</td>\n",
       "      <td>1.953602e-07</td>\n",
       "      <td>1.953602e-07</td>\n",
       "      <td>1.953602e-07</td>\n",
       "      <td>...</td>\n",
       "      <td>1.953602e-07</td>\n",
       "      <td>1.953602e-07</td>\n",
       "      <td>1.953602e-07</td>\n",
       "      <td>1.953602e-07</td>\n",
       "      <td>1.953602e-07</td>\n",
       "      <td>1.953602e-07</td>\n",
       "      <td>1.953602e-07</td>\n",
       "      <td>1.953602e-07</td>\n",
       "      <td>1.953602e-07</td>\n",
       "      <td>0.0</td>\n",
       "    </tr>\n",
       "    <tr>\n",
       "      <th>2</th>\n",
       "      <td>1.953602e-07</td>\n",
       "      <td>1.953602e-07</td>\n",
       "      <td>1.953602e-07</td>\n",
       "      <td>1.953602e-07</td>\n",
       "      <td>1.953602e-07</td>\n",
       "      <td>-1.953602e-07</td>\n",
       "      <td>1.953602e-07</td>\n",
       "      <td>5.860806e-07</td>\n",
       "      <td>1.953602e-07</td>\n",
       "      <td>1.953602e-07</td>\n",
       "      <td>...</td>\n",
       "      <td>1.953602e-07</td>\n",
       "      <td>1.953602e-07</td>\n",
       "      <td>-1.953602e-07</td>\n",
       "      <td>-5.860806e-07</td>\n",
       "      <td>1.953602e-07</td>\n",
       "      <td>1.953602e-07</td>\n",
       "      <td>1.953602e-07</td>\n",
       "      <td>1.953602e-07</td>\n",
       "      <td>1.953602e-07</td>\n",
       "      <td>0.0</td>\n",
       "    </tr>\n",
       "    <tr>\n",
       "      <th>3</th>\n",
       "      <td>1.953602e-07</td>\n",
       "      <td>1.953602e-07</td>\n",
       "      <td>-5.860806e-07</td>\n",
       "      <td>1.953602e-07</td>\n",
       "      <td>1.953602e-07</td>\n",
       "      <td>-3.711844e-06</td>\n",
       "      <td>1.953602e-07</td>\n",
       "      <td>3.321123e-06</td>\n",
       "      <td>-5.860806e-07</td>\n",
       "      <td>1.953602e-07</td>\n",
       "      <td>...</td>\n",
       "      <td>1.758242e-06</td>\n",
       "      <td>-9.768010e-07</td>\n",
       "      <td>-2.539683e-06</td>\n",
       "      <td>-4.493284e-06</td>\n",
       "      <td>9.768010e-07</td>\n",
       "      <td>9.768010e-07</td>\n",
       "      <td>-1.367521e-06</td>\n",
       "      <td>5.860806e-07</td>\n",
       "      <td>1.758242e-06</td>\n",
       "      <td>0.0</td>\n",
       "    </tr>\n",
       "    <tr>\n",
       "      <th>4</th>\n",
       "      <td>1.953602e-07</td>\n",
       "      <td>1.953602e-07</td>\n",
       "      <td>1.953602e-07</td>\n",
       "      <td>5.860806e-07</td>\n",
       "      <td>-1.953602e-07</td>\n",
       "      <td>-5.860806e-07</td>\n",
       "      <td>1.758242e-06</td>\n",
       "      <td>1.953602e-07</td>\n",
       "      <td>-1.953602e-07</td>\n",
       "      <td>1.953602e-07</td>\n",
       "      <td>...</td>\n",
       "      <td>1.953602e-07</td>\n",
       "      <td>1.953602e-07</td>\n",
       "      <td>1.953602e-07</td>\n",
       "      <td>5.860806e-07</td>\n",
       "      <td>5.860806e-07</td>\n",
       "      <td>1.953602e-07</td>\n",
       "      <td>1.953602e-07</td>\n",
       "      <td>1.953602e-07</td>\n",
       "      <td>1.953602e-07</td>\n",
       "      <td>0.0</td>\n",
       "    </tr>\n",
       "  </tbody>\n",
       "</table>\n",
       "<p>5 rows × 23 columns</p>\n",
       "</div>"
      ],
      "text/plain": [
       "         FP1-F7         F7-T7         T7-P7         P7-O1        FP1-F3  \\\n",
       "0 -3.496947e-05  8.068376e-05 -1.777778e-05  1.387057e-05 -1.170208e-04   \n",
       "1  1.953602e-07  1.953602e-07  1.953602e-07  1.953602e-07  1.953602e-07   \n",
       "2  1.953602e-07  1.953602e-07  1.953602e-07  1.953602e-07  1.953602e-07   \n",
       "3  1.953602e-07  1.953602e-07 -5.860806e-07  1.953602e-07  1.953602e-07   \n",
       "4  1.953602e-07  1.953602e-07  1.953602e-07  5.860806e-07 -1.953602e-07   \n",
       "\n",
       "          F3-C3         C3-P3         P3-O1        FP2-F4         F4-C4  ...  \\\n",
       "0 -1.230769e-05  5.177045e-05  1.193651e-04 -1.650794e-04  1.275702e-04  ...   \n",
       "1  1.953602e-07  1.953602e-07  1.953602e-07  1.953602e-07  1.953602e-07  ...   \n",
       "2 -1.953602e-07  1.953602e-07  5.860806e-07  1.953602e-07  1.953602e-07  ...   \n",
       "3 -3.711844e-06  1.953602e-07  3.321123e-06 -5.860806e-07  1.953602e-07  ...   \n",
       "4 -5.860806e-07  1.758242e-06  1.953602e-07 -1.953602e-07  1.953602e-07  ...   \n",
       "\n",
       "          F8-T8         T8-P8         P8-O2         FZ-CZ         CZ-PZ  \\\n",
       "0  1.041270e-04  5.489621e-05 -1.853968e-04 -1.545299e-04  4.708181e-05   \n",
       "1  1.953602e-07  1.953602e-07  1.953602e-07  1.953602e-07  1.953602e-07   \n",
       "2  1.953602e-07  1.953602e-07 -1.953602e-07 -5.860806e-07  1.953602e-07   \n",
       "3  1.758242e-06 -9.768010e-07 -2.539683e-06 -4.493284e-06  9.768010e-07   \n",
       "4  1.953602e-07  1.953602e-07  1.953602e-07  5.860806e-07  5.860806e-07   \n",
       "\n",
       "          P7-T7        T7-FT9      FT9-FT10       FT10-T8  STI 014  \n",
       "0  1.816850e-05 -7.130647e-05 -1.699634e-05  9.006105e-05     54.0  \n",
       "1  1.953602e-07  1.953602e-07  1.953602e-07  1.953602e-07      0.0  \n",
       "2  1.953602e-07  1.953602e-07  1.953602e-07  1.953602e-07      0.0  \n",
       "3  9.768010e-07 -1.367521e-06  5.860806e-07  1.758242e-06      0.0  \n",
       "4  1.953602e-07  1.953602e-07  1.953602e-07  1.953602e-07      0.0  \n",
       "\n",
       "[5 rows x 23 columns]"
      ]
     },
     "execution_count": 5,
     "metadata": {},
     "output_type": "execute_result"
    }
   ],
   "source": [
    "def ReadEdfFile(FileName, print_reader_info = False):\n",
    "    print(\"current_file: \" + FileName)\n",
    "    try:\n",
    "        if(print_reader_info):\n",
    "            data = mne.io.read_raw_edf(FileName, verbose=True)\n",
    "        else:\n",
    "            data = mne.io.read_raw_edf(FileName, verbose=False)\n",
    "\n",
    "        raw_data = data.get_data()\n",
    "        converted_raw = pd.DataFrame(raw_data.transpose(), columns=data.ch_names)\n",
    "        return converted_raw\n",
    "    except:\n",
    "        print(\"error: something went wrong with edf-reading\")\n",
    "\n",
    "ch01_df = ReadEdfFile(EEG_dataset[11])\n",
    "ch01_df.head()"
   ]
  },
  {
   "cell_type": "markdown",
   "metadata": {},
   "source": [
    "## Memory Usage & Loading Time"
   ]
  },
  {
   "cell_type": "code",
   "execution_count": 6,
   "metadata": {},
   "outputs": [
    {
     "name": "stdout",
     "output_type": "stream",
     "text": [
      "<class 'pandas.core.frame.DataFrame'>\n",
      "RangeIndex: 921600 entries, 0 to 921599\n",
      "Data columns (total 23 columns):\n",
      " #   Column    Non-Null Count   Dtype  \n",
      "---  ------    --------------   -----  \n",
      " 0   FP1-F7    921600 non-null  float64\n",
      " 1   F7-T7     921600 non-null  float64\n",
      " 2   T7-P7     921600 non-null  float64\n",
      " 3   P7-O1     921600 non-null  float64\n",
      " 4   FP1-F3    921600 non-null  float64\n",
      " 5   F3-C3     921600 non-null  float64\n",
      " 6   C3-P3     921600 non-null  float64\n",
      " 7   P3-O1     921600 non-null  float64\n",
      " 8   FP2-F4    921600 non-null  float64\n",
      " 9   F4-C4     921600 non-null  float64\n",
      " 10  C4-P4     921600 non-null  float64\n",
      " 11  P4-O2     921600 non-null  float64\n",
      " 12  FP2-F8    921600 non-null  float64\n",
      " 13  F8-T8     921600 non-null  float64\n",
      " 14  T8-P8     921600 non-null  float64\n",
      " 15  P8-O2     921600 non-null  float64\n",
      " 16  FZ-CZ     921600 non-null  float64\n",
      " 17  CZ-PZ     921600 non-null  float64\n",
      " 18  P7-T7     921600 non-null  float64\n",
      " 19  T7-FT9    921600 non-null  float64\n",
      " 20  FT9-FT10  921600 non-null  float64\n",
      " 21  FT10-T8   921600 non-null  float64\n",
      " 22  STI 014   921600 non-null  float64\n",
      "dtypes: float64(23)\n",
      "memory usage: 161.7 MB\n",
      "None\n"
     ]
    }
   ],
   "source": [
    "print(ch01_df.info(memory_usage='deep'))"
   ]
  },
  {
   "cell_type": "code",
   "execution_count": 8,
   "metadata": {},
   "outputs": [
    {
     "name": "stdout",
     "output_type": "stream",
     "text": [
      "161.72 MB\n"
     ]
    }
   ],
   "source": [
    "def mem_usage(pandas_obj):\n",
    "    if isinstance(pandas_obj,pd.DataFrame):\n",
    "        usage_b = pandas_obj.memory_usage(deep=True).sum()\n",
    "    else: # we assume if not a df it's a series\n",
    "        usage_b = pandas_obj.memory_usage(deep=True)\n",
    "    usage_mb = usage_b / 1024 ** 2 # convert bytes to megabytes\n",
    "    return \"{:03.2f} MB\".format(usage_mb)\n",
    "\n",
    "print(mem_usage(ch01_df))"
   ]
  },
  {
   "cell_type": "markdown",
   "metadata": {},
   "source": [
    "## Add col ['timems', class] - Reduce dtypes - Compress + Save"
   ]
  },
  {
   "cell_type": "markdown",
   "metadata": {},
   "source": [
    "Adding cols"
   ]
  },
  {
   "cell_type": "code",
   "execution_count": 9,
   "metadata": {},
   "outputs": [
    {
     "data": {
      "text/plain": [
       "pandas.io.parquet.FastParquetImpl"
      ]
     },
     "execution_count": 9,
     "metadata": {},
     "output_type": "execute_result"
    }
   ],
   "source": [
    "pd.io.parquet.get_engine('auto').__class__"
   ]
  },
  {
   "cell_type": "markdown",
   "metadata": {},
   "source": [
    "Reduce dtypes, save memory, uptimize loading times"
   ]
  },
  {
   "cell_type": "code",
   "execution_count": 7,
   "metadata": {},
   "outputs": [],
   "source": [
    "def downcast_dtypes(df):\n",
    "    _start = df.memory_usage(deep=True).sum() / 1024 ** 2\n",
    "    float_cols = [c for c in df if df[c].dtype == 'float64']\n",
    "    int_cols = [c for c in df if df[c].dtype in ['int64', 'int32']]\n",
    "    df[float_cols] = df[float_cols].astype(np.float32)\n",
    "    df[int_cols] = df[int_cols].astype(np.int16)\n",
    "    _end = df.memory_usage(deep=True).sum() / 1024 ** 2\n",
    "    saved_time = (_start - _end) / _start * 100\n",
    "    print(f\"Saved: {saved_time:.2f}%\")\n",
    "    return df"
   ]
  },
  {
   "cell_type": "markdown",
   "metadata": {},
   "source": [
    "Insert time ms in dataframe function"
   ]
  },
  {
   "cell_type": "code",
   "execution_count": 106,
   "metadata": {},
   "outputs": [],
   "source": [
    "import re\n",
    "\n",
    "summary_file_path = database_path + patient_one_path + 'chb01-summary.txt'\n",
    "\n",
    "\n",
    "timestamp_info_pattern = \"Number of Seizures$\"\n",
    "\n",
    "str1 = \"\"\n",
    "\n",
    "with open(summary_file_path, 'r') as f:\n",
    "    for line in f:\n",
    "        str1 += str(line).replace(\"\\n\", \"<br>\")"
   ]
  },
  {
   "cell_type": "markdown",
   "metadata": {},
   "source": [
    "Get sz information for [patient]-summary.txt files. </br>\n",
    "Then get information on seizures timestamp and the file name </br>"
   ]
  },
  {
   "cell_type": "code",
   "execution_count": 165,
   "metadata": {},
   "outputs": [
    {
     "name": "stdout",
     "output_type": "stream",
     "text": [
      "File Name: chb01_18.edf File Start Time: 04:45:06 File End Time: 5:45:06 Number of Seizures in File: 1 Seizure Start Time: 1720 seconds Seizure End Time: 1810 seconds\n",
      "------------props----------------\n",
      "chb01_18\n",
      "04:45:06\n"
     ]
    }
   ],
   "source": [
    "s = re.findall('<br><br>(.*?)<br><br>', str1)\n",
    "\n",
    "for index, line in enumerate(s):\n",
    "    if re.match('(^Channels in EDF Files:|^Channels changed:)', line):\n",
    "        s.remove(s[index])\n",
    "    else:\n",
    "        pass"
   ]
  },
  {
   "cell_type": "code",
   "execution_count": 168,
   "metadata": {},
   "outputs": [
    {
     "name": "stdout",
     "output_type": "stream",
     "text": [
      "File Name: chb01_18.edf File Start Time: 04:45:06 File End Time: 5:45:06 Number of Seizures in File: 1 Seizure Start Time: 1720 seconds Seizure End Time: 1810 seconds\n",
      "------------props----------------\n",
      "chb01_18\n",
      "17106000\n"
     ]
    }
   ],
   "source": [
    "class FileInformationContainer:\n",
    "    def __init__(self, information_str):\n",
    "        self.information_str = self.clean_string(information_str)\n",
    "        self.file_name = self.set_filename()\n",
    "        self.time_start = self.set_file_time_start_ms()\n",
    "        self.sz_count = None\n",
    "        self.sz_info = []\n",
    "        \n",
    "    def clean_string(self, uncleaned_str):\n",
    "        return uncleaned_str.replace(\"<br>\", \" \")\n",
    "\n",
    "    def set_filename(self):\n",
    "        filename_found = re.match(r\"^File Name: (.+?).edf\", self.information_str)\n",
    "        if filename_found:\n",
    "            return filename_found.group(1)\n",
    "        else:\n",
    "            print(f\"{self.file_name} failed get_filename\")\n",
    "            return \"filename not found\"\n",
    "    \n",
    "    def get_milli_sec(self, time_str):\n",
    "        \"\"\"Get Seconds from time.\"\"\"\n",
    "        h, m, s = time_str.split(':')\n",
    "        return (int(h) * 3600 + int(m) * 60 + int(s)) * 1000\n",
    "\n",
    "    def set_file_time_start_ms(self):\n",
    "        time_start_found = re.match(r\".*File Start Time: (.*?) File\", self.information_str)\n",
    "        if time_start_found:\n",
    "            try:\n",
    "                return self.get_milli_sec(time_start_found.group(1))\n",
    "            except Exception as e :\n",
    "                print(f\"{self.file_name}: error {e} cannot convert to ms time\")\n",
    "                return f\"{e}\"\n",
    "        else:\n",
    "            print(f\"{self.file_name} failed get_file_time_start_ms\")\n",
    "            return \"time start not found\"\n",
    "    \n",
    "    \n",
    "\n",
    "    def get(self):\n",
    "        return self.information_str\n",
    "\n",
    "\n",
    "obj = FileInformationContainer(s[8])\n",
    "print(obj.get())\n",
    "print(\"------------props----------------\")\n",
    "print(obj.file_name)\n",
    "print(obj.time_start)"
   ]
  },
  {
   "cell_type": "markdown",
   "metadata": {},
   "source": [
    "Compress & save"
   ]
  },
  {
   "cell_type": "code",
   "execution_count": 8,
   "metadata": {},
   "outputs": [],
   "source": [
    "filename = \"hej2\"\n",
    "def df_save_compress(path, patient, filename, df):\n",
    "    df.to_parquet(f\"{path}{patient}{filename}.parquet.gzip\", compression=\"gzip\")\n",
    "\n",
    "df_save_compress(database_path, patient_one_path, filename, ch01_df)"
   ]
  },
  {
   "cell_type": "markdown",
   "metadata": {},
   "source": [
    "# Read & load compressed dataframes"
   ]
  },
  {
   "cell_type": "code",
   "execution_count": 12,
   "metadata": {},
   "outputs": [],
   "source": [
    "compressed_file_type = \".parquet.gzip\"\n",
    "compressed_df = pd.read_parquet(database_path + patient_one_path + filename + compressed_file_type)"
   ]
  },
  {
   "cell_type": "code",
   "execution_count": 13,
   "metadata": {},
   "outputs": [
    {
     "data": {
      "text/plain": [
       "pandas.core.frame.DataFrame"
      ]
     },
     "execution_count": 13,
     "metadata": {},
     "output_type": "execute_result"
    }
   ],
   "source": [
    "type(compressed_df)"
   ]
  }
 ],
 "metadata": {
  "interpreter": {
   "hash": "36ba892f7ad20bf7fdc5c3ef3188feda3b9d9c608c682b5345226fde4f33924b"
  },
  "kernelspec": {
   "display_name": "Python 3.9.7 64-bit (conda)",
   "name": "python3"
  },
  "language_info": {
   "codemirror_mode": {
    "name": "ipython",
    "version": 3
   },
   "file_extension": ".py",
   "mimetype": "text/x-python",
   "name": "python",
   "nbconvert_exporter": "python",
   "pygments_lexer": "ipython3",
   "version": "3.9.7"
  },
  "orig_nbformat": 4
 },
 "nbformat": 4,
 "nbformat_minor": 2
}
