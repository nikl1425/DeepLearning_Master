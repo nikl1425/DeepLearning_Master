{
 "cells": [
  {
   "cell_type": "markdown",
   "metadata": {},
   "source": [
    "# CHB MIT DATABASE"
   ]
  },
  {
   "cell_type": "markdown",
   "metadata": {},
   "source": [
    "1. Load edf data\n",
    "2. define class sz/nsz\n",
    "3. insert class cols\n",
    "4. concat\n",
    "5. windowing\n",
    "6. ensemple learn resnet152, inceptionv3, incep+resnet\n",
    "7. define OHEM loss\n",
    "8. build network\n",
    "9. evaluate\n",
    "10. calculate for confussion matrices (f1-score etc.)"
   ]
  },
  {
   "cell_type": "code",
   "execution_count": 1,
   "metadata": {},
   "outputs": [
    {
     "name": "stdout",
     "output_type": "stream",
     "text": [
      "Tensor Flow Version: 2.5.0\n",
      "Keras Version: 2.5.0\n",
      "\n",
      "Python 3.9.7 (default, Sep 16 2021, 23:53:23) \n",
      "[Clang 12.0.0 ]\n",
      "Pandas 1.3.1\n",
      "Scikit-Learn 0.24.2\n",
      "GPU is available\n"
     ]
    }
   ],
   "source": [
    "# What version of Python do you have?\n",
    "import sys\n",
    "import os\n",
    "import tensorflow.keras\n",
    "import pandas as pd\n",
    "import sklearn as sk\n",
    "import tensorflow as tf\n",
    "import numpy as np\n",
    "import re\n",
    "import mne\n",
    "import pathlib\n",
    "import openpyxl\n",
    "from datetime import datetime\n",
    "import pytz\n",
    "import random\n",
    "import os\n",
    "from skimage.restoration import (denoise_wavelet, estimate_sigma)\n",
    "from pathlib import Path\n",
    "from tensorflow.keras.preprocessing.image import ImageDataGenerator\n",
    "from tensorflow.keras import layers, models, Sequential\n",
    "from matplotlib import pyplot as plt\n",
    "%matplotlib inline\n",
    "\n",
    "print(f\"Tensor Flow Version: {tf.__version__}\")\n",
    "print(f\"Keras Version: {tensorflow.keras.__version__}\")\n",
    "print()\n",
    "print(f\"Python {sys.version}\")\n",
    "print(f\"Pandas {pd.__version__}\")\n",
    "print(f\"Scikit-Learn {sk.__version__}\")\n",
    "gpu = len(tf.config.list_physical_devices('GPU'))>0\n",
    "print(\"GPU is\", \"available\" if gpu else \"NOT AVAILABLE\")"
   ]
  },
  {
   "cell_type": "markdown",
   "metadata": {},
   "source": [
    "## GLOBAL VARIABLES"
   ]
  },
  {
   "cell_type": "code",
   "execution_count": 2,
   "metadata": {},
   "outputs": [
    {
     "data": {
      "text/plain": [
       "'/Users/niklashjort/Desktop/Notes/Speciale/projects'"
      ]
     },
     "execution_count": 2,
     "metadata": {},
     "output_type": "execute_result"
    }
   ],
   "source": [
    "cwd = os.getcwd()\n",
    "FREQ = 256\n",
    "database_path = 'Dataset/CHB-MIT/chb-mit-scalp-eeg-database-1.0.0/'\n",
    "filtered_database_path = 'Dataset/CHB-MIT/Filtered-chb-mit/'\n",
    "filted_db_parquet_path = \"Dataset/CHB-MIT/dataframe-parquet\"\n",
    "edf_file_type = \".edf\"\n",
    "patient_one_path = 'chb04/'\n",
    "summary_txt_file_type = \"-summary.txt\"\n",
    "cwd"
   ]
  },
  {
   "cell_type": "code",
   "execution_count": 3,
   "metadata": {},
   "outputs": [],
   "source": [
    "def get_all_patient_folder_names(database_path):\n",
    "    folders = os.listdir(database_path)\n",
    "    patient_folder_names = [(database_path + \"/\" + x) for x in folders if (x.find(\".DS_Store\") == -1)]\n",
    "    return patient_folder_names\n",
    "\n",
    "def get_all_file_names(directory):\n",
    "    files = os.listdir(directory)\n",
    "    edfFileNameList = [(directory + \"/\" + x) for x in files if (x.endswith(edf_file_type))]\n",
    "    summary_info_file_name = [(directory + \"/\" + x) for x in files if (x.endswith(summary_txt_file_type))]\n",
    "    return (summary_info_file_name[0], edfFileNameList)"
   ]
  },
  {
   "cell_type": "code",
   "execution_count": 4,
   "metadata": {},
   "outputs": [
    {
     "name": "stdout",
     "output_type": "stream",
     "text": [
      "summary file name: Dataset/CHB-MIT/Filtered-chb-mit//chb20/chb20-summary.txt edf file name: Dataset/CHB-MIT/Filtered-chb-mit//chb20/chb20_59.edf\n"
     ]
    }
   ],
   "source": [
    "# Testing:\n",
    "summary_file_path, edf_file_paths = get_all_file_names(get_all_patient_folder_names(filtered_database_path)[0])\n",
    "\n",
    "print(f\"summary file name: {summary_file_path} edf file name: {edf_file_paths[0]}\")"
   ]
  },
  {
   "cell_type": "code",
   "execution_count": 5,
   "metadata": {},
   "outputs": [],
   "source": [
    "def ReadEdfFile(FileName, print_reader_info = False):\n",
    "    try:\n",
    "        if(print_reader_info):\n",
    "            data = mne.io.read_raw_edf(FileName)\n",
    "            raw_data = data.get_data()\n",
    "            converted_raw = pd.DataFrame(raw_data.transpose(), columns=data.ch_names)\n",
    "            return converted_raw\n",
    "        else:\n",
    "            data = mne.io.read_raw_edf(FileName, verbose='error')\n",
    "            raw_data = data.get_data()\n",
    "            converted_raw = pd.DataFrame(raw_data.transpose(), columns=data.ch_names)\n",
    "            return converted_raw\n",
    "    except Exception as e:\n",
    "        pass"
   ]
  },
  {
   "cell_type": "markdown",
   "metadata": {},
   "source": [
    "## PROBLEM! bad channel: solution find conda mne and modify package."
   ]
  },
  {
   "cell_type": "code",
   "execution_count": 6,
   "metadata": {},
   "outputs": [
    {
     "name": "stdout",
     "output_type": "stream",
     "text": [
      "0.16.2\n"
     ]
    }
   ],
   "source": [
    "print(mne.__version__)\n",
    "bla = \"Dataset/CHB-MIT/Filtered-chb-mit//chb18/chb18_01.edf\"\n",
    "ReadEdfFile(bla)"
   ]
  },
  {
   "cell_type": "code",
   "execution_count": 7,
   "metadata": {},
   "outputs": [
    {
     "data": {
      "text/html": [
       "<div>\n",
       "<style scoped>\n",
       "    .dataframe tbody tr th:only-of-type {\n",
       "        vertical-align: middle;\n",
       "    }\n",
       "\n",
       "    .dataframe tbody tr th {\n",
       "        vertical-align: top;\n",
       "    }\n",
       "\n",
       "    .dataframe thead th {\n",
       "        text-align: right;\n",
       "    }\n",
       "</style>\n",
       "<table border=\"1\" class=\"dataframe\">\n",
       "  <thead>\n",
       "    <tr style=\"text-align: right;\">\n",
       "      <th></th>\n",
       "      <th>FP1-F7</th>\n",
       "      <th>F7-T7</th>\n",
       "      <th>T7-P7</th>\n",
       "      <th>P7-O1</th>\n",
       "      <th>.-0</th>\n",
       "      <th>FP1-F3</th>\n",
       "      <th>F3-C3</th>\n",
       "      <th>C3-P3</th>\n",
       "      <th>P3-O1</th>\n",
       "      <th>.-1</th>\n",
       "      <th>...</th>\n",
       "      <th>FP2-F8</th>\n",
       "      <th>F8-T8</th>\n",
       "      <th>T8-P8</th>\n",
       "      <th>P8-O2</th>\n",
       "      <th>.-4</th>\n",
       "      <th>P7-T7</th>\n",
       "      <th>T7-FT9</th>\n",
       "      <th>FT9-FT10</th>\n",
       "      <th>FT10-T8</th>\n",
       "      <th>STI 014</th>\n",
       "    </tr>\n",
       "  </thead>\n",
       "  <tbody>\n",
       "    <tr>\n",
       "      <th>0</th>\n",
       "      <td>5.919414e-05</td>\n",
       "      <td>6.388278e-05</td>\n",
       "      <td>-3.809524e-05</td>\n",
       "      <td>-4.825397e-05</td>\n",
       "      <td>1.953602e-07</td>\n",
       "      <td>8.400488e-06</td>\n",
       "      <td>5.489621e-05</td>\n",
       "      <td>-3.711844e-06</td>\n",
       "      <td>-2.285714e-05</td>\n",
       "      <td>1.953602e-07</td>\n",
       "      <td>...</td>\n",
       "      <td>1.738706e-05</td>\n",
       "      <td>4.004884e-05</td>\n",
       "      <td>-2.793651e-05</td>\n",
       "      <td>-5.919414e-05</td>\n",
       "      <td>1.953602e-07</td>\n",
       "      <td>3.848596e-05</td>\n",
       "      <td>-3.711844e-06</td>\n",
       "      <td>-1.113553e-05</td>\n",
       "      <td>-1.894994e-05</td>\n",
       "      <td>131045.0</td>\n",
       "    </tr>\n",
       "    <tr>\n",
       "      <th>1</th>\n",
       "      <td>1.953602e-07</td>\n",
       "      <td>1.953602e-07</td>\n",
       "      <td>1.953602e-07</td>\n",
       "      <td>1.953602e-07</td>\n",
       "      <td>1.953602e-07</td>\n",
       "      <td>1.953602e-07</td>\n",
       "      <td>1.953602e-07</td>\n",
       "      <td>1.953602e-07</td>\n",
       "      <td>1.953602e-07</td>\n",
       "      <td>1.953602e-07</td>\n",
       "      <td>...</td>\n",
       "      <td>1.953602e-07</td>\n",
       "      <td>1.953602e-07</td>\n",
       "      <td>1.953602e-07</td>\n",
       "      <td>1.953602e-07</td>\n",
       "      <td>1.953602e-07</td>\n",
       "      <td>1.953602e-07</td>\n",
       "      <td>1.953602e-07</td>\n",
       "      <td>1.953602e-07</td>\n",
       "      <td>1.953602e-07</td>\n",
       "      <td>0.0</td>\n",
       "    </tr>\n",
       "    <tr>\n",
       "      <th>2</th>\n",
       "      <td>1.953602e-07</td>\n",
       "      <td>1.953602e-07</td>\n",
       "      <td>1.953602e-07</td>\n",
       "      <td>5.860806e-07</td>\n",
       "      <td>1.953602e-07</td>\n",
       "      <td>1.953602e-07</td>\n",
       "      <td>1.953602e-07</td>\n",
       "      <td>1.953602e-07</td>\n",
       "      <td>5.860806e-07</td>\n",
       "      <td>1.953602e-07</td>\n",
       "      <td>...</td>\n",
       "      <td>1.953602e-07</td>\n",
       "      <td>1.953602e-07</td>\n",
       "      <td>1.953602e-07</td>\n",
       "      <td>1.953602e-07</td>\n",
       "      <td>1.953602e-07</td>\n",
       "      <td>1.953602e-07</td>\n",
       "      <td>1.953602e-07</td>\n",
       "      <td>1.953602e-07</td>\n",
       "      <td>-1.953602e-07</td>\n",
       "      <td>0.0</td>\n",
       "    </tr>\n",
       "    <tr>\n",
       "      <th>3</th>\n",
       "      <td>1.953602e-07</td>\n",
       "      <td>1.953602e-07</td>\n",
       "      <td>1.953602e-07</td>\n",
       "      <td>1.758242e-06</td>\n",
       "      <td>1.953602e-07</td>\n",
       "      <td>1.953602e-07</td>\n",
       "      <td>1.953602e-07</td>\n",
       "      <td>1.953602e-07</td>\n",
       "      <td>1.367521e-06</td>\n",
       "      <td>1.953602e-07</td>\n",
       "      <td>...</td>\n",
       "      <td>1.953602e-07</td>\n",
       "      <td>1.953602e-07</td>\n",
       "      <td>1.953602e-07</td>\n",
       "      <td>1.953602e-07</td>\n",
       "      <td>1.953602e-07</td>\n",
       "      <td>1.953602e-07</td>\n",
       "      <td>5.860806e-07</td>\n",
       "      <td>9.768010e-07</td>\n",
       "      <td>-9.768010e-07</td>\n",
       "      <td>0.0</td>\n",
       "    </tr>\n",
       "    <tr>\n",
       "      <th>4</th>\n",
       "      <td>1.953602e-07</td>\n",
       "      <td>5.860806e-07</td>\n",
       "      <td>1.953602e-07</td>\n",
       "      <td>-1.758242e-06</td>\n",
       "      <td>1.953602e-07</td>\n",
       "      <td>1.953602e-07</td>\n",
       "      <td>1.953602e-07</td>\n",
       "      <td>1.953602e-07</td>\n",
       "      <td>-1.367521e-06</td>\n",
       "      <td>1.953602e-07</td>\n",
       "      <td>...</td>\n",
       "      <td>1.953602e-07</td>\n",
       "      <td>5.860806e-07</td>\n",
       "      <td>1.953602e-07</td>\n",
       "      <td>-1.953602e-07</td>\n",
       "      <td>1.953602e-07</td>\n",
       "      <td>1.953602e-07</td>\n",
       "      <td>-9.768010e-07</td>\n",
       "      <td>-1.758242e-06</td>\n",
       "      <td>3.321123e-06</td>\n",
       "      <td>0.0</td>\n",
       "    </tr>\n",
       "  </tbody>\n",
       "</table>\n",
       "<p>5 rows × 28 columns</p>\n",
       "</div>"
      ],
      "text/plain": [
       "         FP1-F7         F7-T7         T7-P7         P7-O1           .-0  \\\n",
       "0  5.919414e-05  6.388278e-05 -3.809524e-05 -4.825397e-05  1.953602e-07   \n",
       "1  1.953602e-07  1.953602e-07  1.953602e-07  1.953602e-07  1.953602e-07   \n",
       "2  1.953602e-07  1.953602e-07  1.953602e-07  5.860806e-07  1.953602e-07   \n",
       "3  1.953602e-07  1.953602e-07  1.953602e-07  1.758242e-06  1.953602e-07   \n",
       "4  1.953602e-07  5.860806e-07  1.953602e-07 -1.758242e-06  1.953602e-07   \n",
       "\n",
       "         FP1-F3         F3-C3         C3-P3         P3-O1           .-1  ...  \\\n",
       "0  8.400488e-06  5.489621e-05 -3.711844e-06 -2.285714e-05  1.953602e-07  ...   \n",
       "1  1.953602e-07  1.953602e-07  1.953602e-07  1.953602e-07  1.953602e-07  ...   \n",
       "2  1.953602e-07  1.953602e-07  1.953602e-07  5.860806e-07  1.953602e-07  ...   \n",
       "3  1.953602e-07  1.953602e-07  1.953602e-07  1.367521e-06  1.953602e-07  ...   \n",
       "4  1.953602e-07  1.953602e-07  1.953602e-07 -1.367521e-06  1.953602e-07  ...   \n",
       "\n",
       "         FP2-F8         F8-T8         T8-P8         P8-O2           .-4  \\\n",
       "0  1.738706e-05  4.004884e-05 -2.793651e-05 -5.919414e-05  1.953602e-07   \n",
       "1  1.953602e-07  1.953602e-07  1.953602e-07  1.953602e-07  1.953602e-07   \n",
       "2  1.953602e-07  1.953602e-07  1.953602e-07  1.953602e-07  1.953602e-07   \n",
       "3  1.953602e-07  1.953602e-07  1.953602e-07  1.953602e-07  1.953602e-07   \n",
       "4  1.953602e-07  5.860806e-07  1.953602e-07 -1.953602e-07  1.953602e-07   \n",
       "\n",
       "          P7-T7        T7-FT9      FT9-FT10       FT10-T8   STI 014  \n",
       "0  3.848596e-05 -3.711844e-06 -1.113553e-05 -1.894994e-05  131045.0  \n",
       "1  1.953602e-07  1.953602e-07  1.953602e-07  1.953602e-07       0.0  \n",
       "2  1.953602e-07  1.953602e-07  1.953602e-07 -1.953602e-07       0.0  \n",
       "3  1.953602e-07  5.860806e-07  9.768010e-07 -9.768010e-07       0.0  \n",
       "4  1.953602e-07 -9.768010e-07 -1.758242e-06  3.321123e-06       0.0  \n",
       "\n",
       "[5 rows x 28 columns]"
      ]
     },
     "execution_count": 7,
     "metadata": {},
     "output_type": "execute_result"
    }
   ],
   "source": [
    "# Testing \n",
    "test_df = ReadEdfFile(edf_file_paths[8], print_reader_info=False)\n",
    "test_df.head()"
   ]
  },
  {
   "cell_type": "markdown",
   "metadata": {},
   "source": [
    "## Memory Usage & Loading Time"
   ]
  },
  {
   "cell_type": "markdown",
   "metadata": {},
   "source": [
    "Edf files takes a lot of memory (look below)"
   ]
  },
  {
   "cell_type": "code",
   "execution_count": 8,
   "metadata": {},
   "outputs": [
    {
     "name": "stdout",
     "output_type": "stream",
     "text": [
      "196.88 MB\n"
     ]
    }
   ],
   "source": [
    "# print(test_df.info(memory_usage='deep'))\n",
    "def mem_usage(pandas_obj):\n",
    "    if isinstance(pandas_obj,pd.DataFrame):\n",
    "        usage_b = pandas_obj.memory_usage(deep=True).sum()\n",
    "    else: # we assume if not a df it's a series\n",
    "        usage_b = pandas_obj.memory_usage(deep=True)\n",
    "    usage_mb = usage_b / 1024 ** 2 # convert bytes to megabytes\n",
    "    return \"{:03.2f} MB\".format(usage_mb)\n",
    "\n",
    "print(mem_usage(test_df))"
   ]
  },
  {
   "cell_type": "markdown",
   "metadata": {},
   "source": [
    "## Add col ['timems', class] - Reduce dtypes - Compress + Save"
   ]
  },
  {
   "cell_type": "markdown",
   "metadata": {},
   "source": [
    "Adding cols"
   ]
  },
  {
   "cell_type": "code",
   "execution_count": 9,
   "metadata": {},
   "outputs": [
    {
     "data": {
      "text/plain": [
       "pandas.io.parquet.FastParquetImpl"
      ]
     },
     "execution_count": 9,
     "metadata": {},
     "output_type": "execute_result"
    }
   ],
   "source": [
    "pd.io.parquet.get_engine('auto').__class__"
   ]
  },
  {
   "cell_type": "markdown",
   "metadata": {},
   "source": [
    "Reduce dtypes, save memory, uptimize loading times"
   ]
  },
  {
   "cell_type": "code",
   "execution_count": 10,
   "metadata": {},
   "outputs": [],
   "source": [
    "def downcast_dtypes(df):\n",
    "    _start = df.memory_usage(deep=True).sum() / 1024 ** 2\n",
    "    float_cols = [c for c in df if df[c].dtype == 'float64']\n",
    "    int_cols = [c for c in df if df[c].dtype in ['int64', 'int32']]\n",
    "    df[float_cols] = df[float_cols].astype(np.float32)\n",
    "    df[int_cols] = df[int_cols].astype(np.int16)\n",
    "    _end = df.memory_usage(deep=True).sum() / 1024 ** 2\n",
    "    saved_time = (_start - _end) / _start * 100\n",
    "    #print(f\"Saved: {saved_time:.2f}%\")\n",
    "    return df"
   ]
  },
  {
   "cell_type": "code",
   "execution_count": 11,
   "metadata": {},
   "outputs": [],
   "source": [
    "# Testing:\n",
    "test_df = downcast_dtypes(test_df)"
   ]
  },
  {
   "cell_type": "markdown",
   "metadata": {},
   "source": [
    "Insert time ms in dataframe function"
   ]
  },
  {
   "cell_type": "code",
   "execution_count": 12,
   "metadata": {},
   "outputs": [],
   "source": [
    "def read_format_info_file(txt_summary_file_path):\n",
    "    str_container = \"\"\n",
    "    with open(txt_summary_file_path, 'r') as f:\n",
    "        for line in f:\n",
    "            str_container += str(line).replace(\"\\n\", \"<br>\")\n",
    "\n",
    "    formatted_str = re.findall('(.*?)<br><br>', str_container)\n",
    "    bla = [x.group() for x in re.finditer('(.*?)<br><br>', str_container)]\n",
    "    for index, line in enumerate(formatted_str):\n",
    "        if re.match('(^Channels in EDF Files:|^Channels changed:)', line):\n",
    "            formatted_str.remove(formatted_str[index])\n",
    "        else:\n",
    "            pass\n",
    "    return formatted_str\n"
   ]
  },
  {
   "cell_type": "code",
   "execution_count": 13,
   "metadata": {},
   "outputs": [
    {
     "data": {
      "text/plain": [
       "['Data Sampling Rate: 256 Hz<br>*************************',\n",
       " 'File Name: chb20_01.edf<br>File Start Time: 16:55:08<br>File End Time: 17:55:14<br>Number of Seizures in File: 0',\n",
       " 'File Name: chb20_02.edf<br>File Start Time: 17:55:44<br>File End Time: 18:55:44<br>Number of Seizures in File: 0',\n",
       " 'File Name: chb20_03.edf<br>File Start Time: 18:55:51<br>File End Time: 19:55:51<br>Number of Seizures in File: 0',\n",
       " 'File Name: chb20_04.edf<br>File Start Time: 19:55:59<br>File End Time: 20:55:59<br>Number of Seizures in File: 0',\n",
       " 'File Name: chb20_05.edf<br>File Start Time: 20:56:06<br>File End Time: 21:56:06<br>Number of Seizures in File: 0',\n",
       " 'File Name: chb20_06.edf<br>File Start Time: 21:56:13<br>File End Time: 22:56:13<br>Number of Seizures in File: 0',\n",
       " 'File Name: chb20_07.edf<br>File Start Time: 22:56:19<br>File End Time: 23:56:19<br>Number of Seizures in File: 0',\n",
       " 'File Name: chb20_08.edf<br>File Start Time: 23:56:26<br>File End Time: 24:56:26<br>Number of Seizures in File: 0',\n",
       " 'File Name: chb20_11.edf<br>File Start Time: 02:56:46<br>File End Time: 3:56:46<br>Number of Seizures in File: 0',\n",
       " 'File Name: chb20_12.edf<br>File Start Time: 03:56:53<br>File End Time: 4:56:53<br>Number of Seizures in File: 1<br>Seizure 1 Start Time: 94 seconds<br>Seizure 1 End Time: 123 seconds',\n",
       " 'File Name: chb20_13.edf<br>File Start Time: 04:57:00<br>File End Time: 5:57:00<br>Number of Seizures in File: 2<br>Seizure 1 Start Time: 1440 seconds<br>Seizure 1 End Time: 1470 seconds<br>Seizure 2 Start Time: 2498 seconds<br>Seizure 2 End Time: 2537 seconds',\n",
       " 'File Name: chb20_14.edf<br>File Start Time: 05:57:07<br>File End Time: 6:57:07<br>Number of Seizures in File: 1<br>Seizure 1 Start Time: 1971 seconds<br>Seizure 1 End Time: 2009 seconds',\n",
       " 'File Name: chb20_15.edf<br>File Start Time: 06:57:14<br>File End Time: 7:57:14<br>Number of Seizures in File: 2<br>Seizure 1 Start Time: 390 seconds<br>Seizure 1 End Time: 425 seconds<br>Seizure 2 Start Time: 1689 seconds<br>Seizure 2 End Time: 1738 seconds',\n",
       " 'File Name: chb20_16.edf<br>File Start Time: 07:57:20<br>File End Time: 8:55:09<br>Number of Seizures in File: 1<br>Seizure 1 Start Time: 2226 seconds<br>Seizure 1 End Time: 2261 seconds',\n",
       " 'File Name: chb20_17.edf<br>File Start Time: 08:55:24<br>File End Time: 9:55:24<br>Number of Seizures in File: 0',\n",
       " 'File Name: chb20_21.edf<br>File Start Time: 12:51:27<br>File End Time: 13:51:45<br>Number of Seizures in File: 0',\n",
       " 'File Name: chb20_22.edf<br>File Start Time: 13:53:06<br>File End Time: 14:05:28<br>Number of Seizures in File: 0',\n",
       " 'File Name: chb20_23.edf<br>File Start Time: 14:11:44<br>File End Time: 15:01:08<br>Number of Seizures in File: 0',\n",
       " 'File Name: chb20_25.edf<br>File Start Time: 16:05:20<br>File End Time: 17:05:20<br>Number of Seizures in File: 0',\n",
       " 'File Name: chb20_26.edf<br>File Start Time: 17:05:27<br>File End Time: 18:05:27<br>Number of Seizures in File: 0',\n",
       " 'File Name: chb20_27.edf<br>File Start Time: 18:05:33<br>File End Time: 19:05:33<br>Number of Seizures in File: 0',\n",
       " 'File Name: chb20_28.edf<br>File Start Time: 19:05:40<br>File End Time: 20:05:40<br>Number of Seizures in File: 0',\n",
       " 'File Name: chb20_29.edf<br>File Start Time: 20:05:47<br>File End Time: 21:05:47<br>Number of Seizures in File: 0',\n",
       " 'File Name: chb20_30.edf<br>File Start Time: 21:05:54<br>File End Time: 22:05:54<br>Number of Seizures in File: 0',\n",
       " 'File Name: chb20_31.edf<br>File Start Time: 22:06:01<br>File End Time: 23:06:01<br>Number of Seizures in File: 0',\n",
       " 'File Name: chb20_34.edf<br>File Start Time: 01:06:21<br>File End Time: 2:06:21<br>Number of Seizures in File: 0',\n",
       " 'File Name: chb20_59.edf<br>File Start Time: 00:44:04<br>File End Time: 1:44:04<br>Number of Seizures in File: 0',\n",
       " 'File Name: chb20_60.edf<br>File Start Time: 01:44:11<br>File End Time: 2:44:11<br>Number of Seizures in File: 0']"
      ]
     },
     "execution_count": 13,
     "metadata": {},
     "output_type": "execute_result"
    }
   ],
   "source": [
    "# Testing:\n",
    "read_format_info_file(filtered_database_path + \"/chb20/chb20-summary.txt\")"
   ]
  },
  {
   "cell_type": "code",
   "execution_count": 14,
   "metadata": {},
   "outputs": [
    {
     "name": "stdout",
     "output_type": "stream",
     "text": [
      "index: 0 line: Data Sampling Rate: 256 Hz<br>*************************\n",
      "index: 1 line: File Name: chb20_01.edf<br>File Start Time: 16:55:08<br>File End Time: 17:55:14<br>Number of Seizures in File: 0\n",
      "index: 2 line: File Name: chb20_02.edf<br>File Start Time: 17:55:44<br>File End Time: 18:55:44<br>Number of Seizures in File: 0\n",
      "index: 3 line: File Name: chb20_03.edf<br>File Start Time: 18:55:51<br>File End Time: 19:55:51<br>Number of Seizures in File: 0\n",
      "index: 4 line: File Name: chb20_04.edf<br>File Start Time: 19:55:59<br>File End Time: 20:55:59<br>Number of Seizures in File: 0\n",
      "index: 5 line: File Name: chb20_05.edf<br>File Start Time: 20:56:06<br>File End Time: 21:56:06<br>Number of Seizures in File: 0\n",
      "index: 6 line: File Name: chb20_06.edf<br>File Start Time: 21:56:13<br>File End Time: 22:56:13<br>Number of Seizures in File: 0\n",
      "index: 7 line: File Name: chb20_07.edf<br>File Start Time: 22:56:19<br>File End Time: 23:56:19<br>Number of Seizures in File: 0\n",
      "index: 8 line: File Name: chb20_08.edf<br>File Start Time: 23:56:26<br>File End Time: 24:56:26<br>Number of Seizures in File: 0\n",
      "index: 9 line: File Name: chb20_11.edf<br>File Start Time: 02:56:46<br>File End Time: 3:56:46<br>Number of Seizures in File: 0\n",
      "index: 10 line: File Name: chb20_12.edf<br>File Start Time: 03:56:53<br>File End Time: 4:56:53<br>Number of Seizures in File: 1<br>Seizure 1 Start Time: 94 seconds<br>Seizure 1 End Time: 123 seconds\n",
      "index: 11 line: File Name: chb20_13.edf<br>File Start Time: 04:57:00<br>File End Time: 5:57:00<br>Number of Seizures in File: 2<br>Seizure 1 Start Time: 1440 seconds<br>Seizure 1 End Time: 1470 seconds<br>Seizure 2 Start Time: 2498 seconds<br>Seizure 2 End Time: 2537 seconds\n",
      "index: 12 line: File Name: chb20_14.edf<br>File Start Time: 05:57:07<br>File End Time: 6:57:07<br>Number of Seizures in File: 1<br>Seizure 1 Start Time: 1971 seconds<br>Seizure 1 End Time: 2009 seconds\n",
      "index: 13 line: File Name: chb20_15.edf<br>File Start Time: 06:57:14<br>File End Time: 7:57:14<br>Number of Seizures in File: 2<br>Seizure 1 Start Time: 390 seconds<br>Seizure 1 End Time: 425 seconds<br>Seizure 2 Start Time: 1689 seconds<br>Seizure 2 End Time: 1738 seconds\n",
      "index: 14 line: File Name: chb20_16.edf<br>File Start Time: 07:57:20<br>File End Time: 8:55:09<br>Number of Seizures in File: 1<br>Seizure 1 Start Time: 2226 seconds<br>Seizure 1 End Time: 2261 seconds\n",
      "index: 15 line: File Name: chb20_17.edf<br>File Start Time: 08:55:24<br>File End Time: 9:55:24<br>Number of Seizures in File: 0\n",
      "index: 16 line: File Name: chb20_21.edf<br>File Start Time: 12:51:27<br>File End Time: 13:51:45<br>Number of Seizures in File: 0\n",
      "index: 17 line: File Name: chb20_22.edf<br>File Start Time: 13:53:06<br>File End Time: 14:05:28<br>Number of Seizures in File: 0\n",
      "index: 18 line: File Name: chb20_23.edf<br>File Start Time: 14:11:44<br>File End Time: 15:01:08<br>Number of Seizures in File: 0\n",
      "index: 19 line: File Name: chb20_25.edf<br>File Start Time: 16:05:20<br>File End Time: 17:05:20<br>Number of Seizures in File: 0\n",
      "index: 20 line: File Name: chb20_26.edf<br>File Start Time: 17:05:27<br>File End Time: 18:05:27<br>Number of Seizures in File: 0\n",
      "index: 21 line: File Name: chb20_27.edf<br>File Start Time: 18:05:33<br>File End Time: 19:05:33<br>Number of Seizures in File: 0\n",
      "index: 22 line: File Name: chb20_28.edf<br>File Start Time: 19:05:40<br>File End Time: 20:05:40<br>Number of Seizures in File: 0\n",
      "index: 23 line: File Name: chb20_29.edf<br>File Start Time: 20:05:47<br>File End Time: 21:05:47<br>Number of Seizures in File: 0\n",
      "index: 24 line: File Name: chb20_30.edf<br>File Start Time: 21:05:54<br>File End Time: 22:05:54<br>Number of Seizures in File: 0\n",
      "index: 25 line: File Name: chb20_31.edf<br>File Start Time: 22:06:01<br>File End Time: 23:06:01<br>Number of Seizures in File: 0\n",
      "index: 26 line: File Name: chb20_34.edf<br>File Start Time: 01:06:21<br>File End Time: 2:06:21<br>Number of Seizures in File: 0\n",
      "index: 27 line: File Name: chb20_59.edf<br>File Start Time: 00:44:04<br>File End Time: 1:44:04<br>Number of Seizures in File: 0\n",
      "index: 28 line: File Name: chb20_60.edf<br>File Start Time: 01:44:11<br>File End Time: 2:44:11<br>Number of Seizures in File: 0\n"
     ]
    }
   ],
   "source": [
    "# Testing:\n",
    "for index, obj in enumerate(read_format_info_file(summary_file_path)):\n",
    "    print(f\"index: {index} line: {obj}\")"
   ]
  },
  {
   "cell_type": "markdown",
   "metadata": {},
   "source": [
    "Get sz information for [patient]-summary.txt files. </br>\n",
    "Then get information on seizures timestamp and the file name </br>"
   ]
  },
  {
   "cell_type": "code",
   "execution_count": 15,
   "metadata": {},
   "outputs": [],
   "source": [
    "class FileInformationContainer:\n",
    "    def __init__(self, information_str):\n",
    "        self.information_str = self.clean_string(information_str)\n",
    "        self.file_name = self.set_filename()\n",
    "        self.time_start = self.set_file_time_start_ms()\n",
    "        self.sz_info = self.set_sz_information()\n",
    "        \n",
    "    def clean_string(self, uncleaned_str):\n",
    "        return uncleaned_str.replace(\"<br>\", \" \")\n",
    "\n",
    "    def set_filename(self):\n",
    "        filename_found = re.match(r\"^File Name: (.+?).edf\", self.information_str)\n",
    "        if filename_found:\n",
    "            return filename_found.group(1)\n",
    "        else:\n",
    "            print(f\"{self.file_name} failed get_filename\")\n",
    "            return \"filename not found\"\n",
    "    \n",
    "    def get_milli_sec(self, time_str):\n",
    "        \"\"\"Get Seconds from time.\"\"\"\n",
    "        h, m, s = time_str.split(':')\n",
    "        return (int(h) * 3600 + int(m) * 60 + int(s)) * 1000\n",
    "\n",
    "    def set_file_time_start_ms(self):\n",
    "        time_start_found = re.match(r\".*File Start Time: (.*?) File\", self.information_str)\n",
    "        if time_start_found:\n",
    "            try:\n",
    "                return self.get_milli_sec(time_start_found.group(1))\n",
    "            except Exception as e :\n",
    "                print(f\"{self.file_name}: error {e} cannot convert to ms time\")\n",
    "                return f\"{e}\"\n",
    "        else:\n",
    "            print(f\"{self.file_name} failed get_file_time_start_ms\")\n",
    "            return \"time start not found\"\n",
    "    \n",
    "    def get_sz_count(self):\n",
    "        sz_count = 0\n",
    "        count_found = re.search(r\".*Seizures in File: (.*?) Seizure\", self.information_str)\n",
    "        if count_found:\n",
    "            sz_count = count_found.group(1)\n",
    "        if int(sz_count) > 0:\n",
    "            return int(sz_count)\n",
    "        else:\n",
    "            return 0\n",
    "        \n",
    "\n",
    "    def set_sz_information(self):\n",
    "        if(type(self.get_sz_count()) != None and self.get_sz_count() > 0):\n",
    "            try:\n",
    "                pattern = re.compile(r\"Seizure [1-9] (?P<state>[?:Start|End]+) Time: (?P<Sec>[0-9]+)\")\n",
    "                myList = [m.groupdict() for m in pattern.finditer(self.information_str)]\n",
    "                for item in myList:\n",
    "                    converted_time = int(item.get(\"Sec\")) * 1000\n",
    "                    item[\"Sec\"] = converted_time\n",
    "                formatted = []\n",
    "                for i in range(0, len(myList), 2):\n",
    "                    formatted.append({\"sz_start\" : myList[i][\"Sec\"], \"sz_end\" : myList[i+1][\"Sec\"]})\n",
    "                return formatted\n",
    "            except Exception as e:\n",
    "                print(f\"set_sz_information failed at file: {self.file_name} with the following exception: {e}\")\n",
    "        else:\n",
    "            return []\n",
    "\n",
    "    def get(self):\n",
    "        return self.information_str"
   ]
  },
  {
   "cell_type": "code",
   "execution_count": 16,
   "metadata": {},
   "outputs": [
    {
     "name": "stdout",
     "output_type": "stream",
     "text": [
      "Object with sz \n",
      " info-str: File Name: chb20_01.edf File Start Time: 16:55:08 File End Time: 17:55:14 Number of Seizures in File: 0\n",
      " file-name: chb20_01\n",
      " time-start: 60908000\n",
      " sz-information: [] \n",
      "\n",
      "-------------------------------------\n",
      "Object with sz \n",
      " info-str: File Name: chb20_04.edf File Start Time: 19:55:59 File End Time: 20:55:59 Number of Seizures in File: 0\n",
      " file-name: chb20_04\n",
      " time-start: 71759000\n",
      " sz-information: []\n"
     ]
    }
   ],
   "source": [
    "# Testing:\n",
    "w_no_sz_str = FileInformationContainer(read_format_info_file(summary_file_path)[1])\n",
    "print(f\"Object with sz \\n info-str: {w_no_sz_str.information_str}\\n file-name: {w_no_sz_str.file_name}\\n time-start: {w_no_sz_str.time_start}\\n sz-information: {w_no_sz_str.sz_info} \\n\")\n",
    "print(\"-------------------------------------\")\n",
    "w_sz_str = FileInformationContainer(read_format_info_file(summary_file_path)[4])\n",
    "print(f\"Object with sz \\n info-str: {w_sz_str.information_str}\\n file-name: {w_sz_str.file_name}\\n time-start: {w_sz_str.time_start}\\n sz-information: {w_sz_str.sz_info}\")"
   ]
  },
  {
   "cell_type": "code",
   "execution_count": 17,
   "metadata": {},
   "outputs": [
    {
     "name": "stdout",
     "output_type": "stream",
     "text": [
      "chb20_04\n"
     ]
    },
    {
     "data": {
      "text/plain": [
       "71759000"
      ]
     },
     "execution_count": 17,
     "metadata": {},
     "output_type": "execute_result"
    }
   ],
   "source": [
    "# Creating Test object:\n",
    "obj = FileInformationContainer(read_format_info_file(summary_file_path)[4])\n",
    "print(obj.file_name)\n",
    "obj.time_start"
   ]
  },
  {
   "cell_type": "markdown",
   "metadata": {},
   "source": [
    "Insert timestamp in files based of freq"
   ]
  },
  {
   "cell_type": "code",
   "execution_count": 18,
   "metadata": {},
   "outputs": [],
   "source": [
    "def insert_time_stamp(dataframe, file_start_time):\n",
    "    period_row_increment_value =  (1 / 256) * 1000\n",
    "    dataframe.insert(0, \"timestamp\", [file_start_time + i * period_row_increment_value for i in dataframe.index])\n",
    "    \n",
    "    \n",
    "insert_time_stamp(test_df, obj.time_start)"
   ]
  },
  {
   "cell_type": "code",
   "execution_count": 19,
   "metadata": {},
   "outputs": [
    {
     "data": {
      "text/html": [
       "<div>\n",
       "<style scoped>\n",
       "    .dataframe tbody tr th:only-of-type {\n",
       "        vertical-align: middle;\n",
       "    }\n",
       "\n",
       "    .dataframe tbody tr th {\n",
       "        vertical-align: top;\n",
       "    }\n",
       "\n",
       "    .dataframe thead th {\n",
       "        text-align: right;\n",
       "    }\n",
       "</style>\n",
       "<table border=\"1\" class=\"dataframe\">\n",
       "  <thead>\n",
       "    <tr style=\"text-align: right;\">\n",
       "      <th></th>\n",
       "      <th>timestamp</th>\n",
       "      <th>FP1-F7</th>\n",
       "      <th>F7-T7</th>\n",
       "      <th>T7-P7</th>\n",
       "      <th>P7-O1</th>\n",
       "      <th>.-0</th>\n",
       "      <th>FP1-F3</th>\n",
       "      <th>F3-C3</th>\n",
       "      <th>C3-P3</th>\n",
       "      <th>P3-O1</th>\n",
       "      <th>...</th>\n",
       "      <th>FP2-F8</th>\n",
       "      <th>F8-T8</th>\n",
       "      <th>T8-P8</th>\n",
       "      <th>P8-O2</th>\n",
       "      <th>.-4</th>\n",
       "      <th>P7-T7</th>\n",
       "      <th>T7-FT9</th>\n",
       "      <th>FT9-FT10</th>\n",
       "      <th>FT10-T8</th>\n",
       "      <th>STI 014</th>\n",
       "    </tr>\n",
       "  </thead>\n",
       "  <tbody>\n",
       "    <tr>\n",
       "      <th>0</th>\n",
       "      <td>7.175900e+07</td>\n",
       "      <td>5.919414e-05</td>\n",
       "      <td>6.388278e-05</td>\n",
       "      <td>-3.809524e-05</td>\n",
       "      <td>-4.825397e-05</td>\n",
       "      <td>1.953602e-07</td>\n",
       "      <td>8.400489e-06</td>\n",
       "      <td>5.489622e-05</td>\n",
       "      <td>-3.711844e-06</td>\n",
       "      <td>-2.285714e-05</td>\n",
       "      <td>...</td>\n",
       "      <td>1.738706e-05</td>\n",
       "      <td>4.004884e-05</td>\n",
       "      <td>-2.793651e-05</td>\n",
       "      <td>-5.919414e-05</td>\n",
       "      <td>1.953602e-07</td>\n",
       "      <td>3.848596e-05</td>\n",
       "      <td>-3.711844e-06</td>\n",
       "      <td>-1.113553e-05</td>\n",
       "      <td>-1.894994e-05</td>\n",
       "      <td>131045.0</td>\n",
       "    </tr>\n",
       "    <tr>\n",
       "      <th>1</th>\n",
       "      <td>7.175900e+07</td>\n",
       "      <td>1.953602e-07</td>\n",
       "      <td>1.953602e-07</td>\n",
       "      <td>1.953602e-07</td>\n",
       "      <td>1.953602e-07</td>\n",
       "      <td>1.953602e-07</td>\n",
       "      <td>1.953602e-07</td>\n",
       "      <td>1.953602e-07</td>\n",
       "      <td>1.953602e-07</td>\n",
       "      <td>1.953602e-07</td>\n",
       "      <td>...</td>\n",
       "      <td>1.953602e-07</td>\n",
       "      <td>1.953602e-07</td>\n",
       "      <td>1.953602e-07</td>\n",
       "      <td>1.953602e-07</td>\n",
       "      <td>1.953602e-07</td>\n",
       "      <td>1.953602e-07</td>\n",
       "      <td>1.953602e-07</td>\n",
       "      <td>1.953602e-07</td>\n",
       "      <td>1.953602e-07</td>\n",
       "      <td>0.0</td>\n",
       "    </tr>\n",
       "    <tr>\n",
       "      <th>2</th>\n",
       "      <td>7.175901e+07</td>\n",
       "      <td>1.953602e-07</td>\n",
       "      <td>1.953602e-07</td>\n",
       "      <td>1.953602e-07</td>\n",
       "      <td>5.860806e-07</td>\n",
       "      <td>1.953602e-07</td>\n",
       "      <td>1.953602e-07</td>\n",
       "      <td>1.953602e-07</td>\n",
       "      <td>1.953602e-07</td>\n",
       "      <td>5.860806e-07</td>\n",
       "      <td>...</td>\n",
       "      <td>1.953602e-07</td>\n",
       "      <td>1.953602e-07</td>\n",
       "      <td>1.953602e-07</td>\n",
       "      <td>1.953602e-07</td>\n",
       "      <td>1.953602e-07</td>\n",
       "      <td>1.953602e-07</td>\n",
       "      <td>1.953602e-07</td>\n",
       "      <td>1.953602e-07</td>\n",
       "      <td>-1.953602e-07</td>\n",
       "      <td>0.0</td>\n",
       "    </tr>\n",
       "    <tr>\n",
       "      <th>3</th>\n",
       "      <td>7.175901e+07</td>\n",
       "      <td>1.953602e-07</td>\n",
       "      <td>1.953602e-07</td>\n",
       "      <td>1.953602e-07</td>\n",
       "      <td>1.758242e-06</td>\n",
       "      <td>1.953602e-07</td>\n",
       "      <td>1.953602e-07</td>\n",
       "      <td>1.953602e-07</td>\n",
       "      <td>1.953602e-07</td>\n",
       "      <td>1.367521e-06</td>\n",
       "      <td>...</td>\n",
       "      <td>1.953602e-07</td>\n",
       "      <td>1.953602e-07</td>\n",
       "      <td>1.953602e-07</td>\n",
       "      <td>1.953602e-07</td>\n",
       "      <td>1.953602e-07</td>\n",
       "      <td>1.953602e-07</td>\n",
       "      <td>5.860806e-07</td>\n",
       "      <td>9.768009e-07</td>\n",
       "      <td>-9.768009e-07</td>\n",
       "      <td>0.0</td>\n",
       "    </tr>\n",
       "    <tr>\n",
       "      <th>4</th>\n",
       "      <td>7.175902e+07</td>\n",
       "      <td>1.953602e-07</td>\n",
       "      <td>5.860806e-07</td>\n",
       "      <td>1.953602e-07</td>\n",
       "      <td>-1.758242e-06</td>\n",
       "      <td>1.953602e-07</td>\n",
       "      <td>1.953602e-07</td>\n",
       "      <td>1.953602e-07</td>\n",
       "      <td>1.953602e-07</td>\n",
       "      <td>-1.367521e-06</td>\n",
       "      <td>...</td>\n",
       "      <td>1.953602e-07</td>\n",
       "      <td>5.860806e-07</td>\n",
       "      <td>1.953602e-07</td>\n",
       "      <td>-1.953602e-07</td>\n",
       "      <td>1.953602e-07</td>\n",
       "      <td>1.953602e-07</td>\n",
       "      <td>-9.768009e-07</td>\n",
       "      <td>-1.758242e-06</td>\n",
       "      <td>3.321123e-06</td>\n",
       "      <td>0.0</td>\n",
       "    </tr>\n",
       "  </tbody>\n",
       "</table>\n",
       "<p>5 rows × 29 columns</p>\n",
       "</div>"
      ],
      "text/plain": [
       "      timestamp        FP1-F7         F7-T7         T7-P7         P7-O1  \\\n",
       "0  7.175900e+07  5.919414e-05  6.388278e-05 -3.809524e-05 -4.825397e-05   \n",
       "1  7.175900e+07  1.953602e-07  1.953602e-07  1.953602e-07  1.953602e-07   \n",
       "2  7.175901e+07  1.953602e-07  1.953602e-07  1.953602e-07  5.860806e-07   \n",
       "3  7.175901e+07  1.953602e-07  1.953602e-07  1.953602e-07  1.758242e-06   \n",
       "4  7.175902e+07  1.953602e-07  5.860806e-07  1.953602e-07 -1.758242e-06   \n",
       "\n",
       "            .-0        FP1-F3         F3-C3         C3-P3         P3-O1  ...  \\\n",
       "0  1.953602e-07  8.400489e-06  5.489622e-05 -3.711844e-06 -2.285714e-05  ...   \n",
       "1  1.953602e-07  1.953602e-07  1.953602e-07  1.953602e-07  1.953602e-07  ...   \n",
       "2  1.953602e-07  1.953602e-07  1.953602e-07  1.953602e-07  5.860806e-07  ...   \n",
       "3  1.953602e-07  1.953602e-07  1.953602e-07  1.953602e-07  1.367521e-06  ...   \n",
       "4  1.953602e-07  1.953602e-07  1.953602e-07  1.953602e-07 -1.367521e-06  ...   \n",
       "\n",
       "         FP2-F8         F8-T8         T8-P8         P8-O2           .-4  \\\n",
       "0  1.738706e-05  4.004884e-05 -2.793651e-05 -5.919414e-05  1.953602e-07   \n",
       "1  1.953602e-07  1.953602e-07  1.953602e-07  1.953602e-07  1.953602e-07   \n",
       "2  1.953602e-07  1.953602e-07  1.953602e-07  1.953602e-07  1.953602e-07   \n",
       "3  1.953602e-07  1.953602e-07  1.953602e-07  1.953602e-07  1.953602e-07   \n",
       "4  1.953602e-07  5.860806e-07  1.953602e-07 -1.953602e-07  1.953602e-07   \n",
       "\n",
       "          P7-T7        T7-FT9      FT9-FT10       FT10-T8   STI 014  \n",
       "0  3.848596e-05 -3.711844e-06 -1.113553e-05 -1.894994e-05  131045.0  \n",
       "1  1.953602e-07  1.953602e-07  1.953602e-07  1.953602e-07       0.0  \n",
       "2  1.953602e-07  1.953602e-07  1.953602e-07 -1.953602e-07       0.0  \n",
       "3  1.953602e-07  5.860806e-07  9.768009e-07 -9.768009e-07       0.0  \n",
       "4  1.953602e-07 -9.768009e-07 -1.758242e-06  3.321123e-06       0.0  \n",
       "\n",
       "[5 rows x 29 columns]"
      ]
     },
     "execution_count": 19,
     "metadata": {},
     "output_type": "execute_result"
    }
   ],
   "source": [
    "# Testing:\n",
    "test_df.head()"
   ]
  },
  {
   "cell_type": "markdown",
   "metadata": {},
   "source": [
    "insert class column based on the below frow paper: </br>\n",
    "Interictal = normal state </br>\n",
    "Preictal I = 30 min. before sz </br>\n",
    "Preictal II = 10 min. before sz </br>\n",
    "Seizure = sz_start -> sz_end "
   ]
  },
  {
   "cell_type": "code",
   "execution_count": 20,
   "metadata": {},
   "outputs": [],
   "source": [
    "def insert_class_col(dataframe, sz_info_list):\n",
    "    \n",
    "    if \"class\" not in dataframe.columns:\n",
    "        dataframe.insert(0, \"class\", np.nan)\n",
    "\n",
    "    if len(sz_info_list) == 0:\n",
    "        dataframe.loc[(dataframe['class'] != \"seizure\") & (dataframe['class'] != \"Preictal I\") & (dataframe['class'] != \"Preictal II\"), \"class\"] = \"Interictal\"\n",
    "    else:\n",
    "        for item in sz_info_list:\n",
    "            sz_start = item[\"sz_start\"]\n",
    "            sz_end = item[\"sz_end\"]\n",
    "            #print(f\"hihi: {dataframe.iloc[0]['timestamp']}\")\n",
    "            actual_sz_start = dataframe.iloc[0]['timestamp'] + sz_start\n",
    "            preictal_one_start = actual_sz_start - (30 * 60 * 1000)\n",
    "            preictal_two_start = actual_sz_start - (10 * 60 * 1000)\n",
    "            actual_sz_end = dataframe.iloc[0]['timestamp'] + sz_end\n",
    "            #print(f\"sz: {sz_start} end: {sz_end} prei1: {preictal_one_start} prei2: {preictal_two_start} actsz: {actual_sz_start} actend: {actual_sz_end}\")\n",
    "            dataframe['timestamp'] = pd.to_numeric(dataframe['timestamp'])\n",
    "\n",
    "            #INSERTING INTERICTAL\n",
    "            dataframe.loc[(dataframe['class'] != \"seizure\") & (dataframe['class'] != \"Preictal I\") & (dataframe['class'] != \"Preictal II\") & (dataframe['timestamp'] > actual_sz_end) | (dataframe['timestamp'] < actual_sz_start), \"class\"] = \"Interictal\"\n",
    "\n",
    "            #INSERTING PREICTAL I\n",
    "            dataframe.loc[(dataframe['class'] != \"seizure\") & (dataframe['class'] != \"Preictal II\")  & (dataframe['timestamp'] >= preictal_one_start) & (dataframe['timestamp'] < preictal_two_start), \"class\"] = \"Preictal I\"\n",
    "\n",
    "            #INSERTING PREICTAL II\n",
    "            dataframe.loc[(dataframe['class'] != \"seizure\") & (dataframe['timestamp'] >= preictal_two_start) & (dataframe['timestamp'] < actual_sz_start), \"class\"] = \"Preictal II\"\n",
    "\n",
    "            #INSERTING SEIZURE CLASS\n",
    "            dataframe.loc[(dataframe['timestamp'] >= actual_sz_start) & (dataframe['timestamp'] < actual_sz_end), \"class\"] = \"seizure\"\n",
    "\n",
    "            \n",
    "           # print(f\"na: {dataframe['class'].isna().sum()}\")\n",
    "            #print(f\"datapoint: {((actual_sz_end - actual_sz_start)/3906) * 1000}\")\n",
    "            #print(dataframe[\"class\"].value_counts())\n",
    "    \n",
    "\n",
    "    "
   ]
  },
  {
   "cell_type": "code",
   "execution_count": 21,
   "metadata": {},
   "outputs": [],
   "source": [
    "#test_df = test_df.drop(columns=\"class\")"
   ]
  },
  {
   "cell_type": "code",
   "execution_count": 22,
   "metadata": {},
   "outputs": [],
   "source": [
    "# # Testing:\n",
    "# filename = obj.file_name\n",
    "# count = obj.get_sz_count()\n",
    "# start = obj.sz_info[0][\"sz_start\"]\n",
    "# end = obj.sz_info[0][\"sz_end\"]\n",
    "# print(f\"filename: {filename} sz_count: {count} sz_start: {start} sz_end: {end}\")\n",
    "# insert_class_col(test_df, obj.sz_info)\n",
    "# test_df['class'].value_counts()"
   ]
  },
  {
   "cell_type": "markdown",
   "metadata": {},
   "source": [
    "Missing \"Preictal I\" because seizure is very early from file time start..."
   ]
  },
  {
   "cell_type": "markdown",
   "metadata": {},
   "source": [
    "Compress & save"
   ]
  },
  {
   "cell_type": "code",
   "execution_count": 23,
   "metadata": {},
   "outputs": [],
   "source": [
    "def df_save_compress(path, filename, df):\n",
    "    df.to_parquet(f\"{path}{filename}.parquet.gzip\", compression=\"gzip\")\n",
    "# Exampled\n",
    "# df_save_compress(database_path, patient_one_path, \"filename\", ch01_df)"
   ]
  },
  {
   "cell_type": "markdown",
   "metadata": {},
   "source": [
    "external_hardisk_drive_path"
   ]
  },
  {
   "cell_type": "code",
   "execution_count": 24,
   "metadata": {},
   "outputs": [],
   "source": [
    "external_hardisk_drive_path = os.path.dirname('/Volumes/LaCie/Database/')\n",
    "\n",
    "## Test\n",
    "# file_name = \"test.txt\"\n",
    "# test  = os.path.join(external_hardisk_drive_path, file_name)\n",
    "# file1 = open(test, \"w\")\n",
    "# file1.write(\"fileinfo\")\n",
    "# file1.close()\n"
   ]
  },
  {
   "cell_type": "markdown",
   "metadata": {},
   "source": [
    "1. Load all files in paper. </br> 2. For each directory (patient) extract file information to object.</br> 3. Downcast datatypes. </br>4. Insert class and timestamp cols.</br> 5.Compress and save."
   ]
  },
  {
   "cell_type": "markdown",
   "metadata": {},
   "source": [
    "## Modifying and saving all dataframes to parquet format"
   ]
  },
  {
   "cell_type": "code",
   "execution_count": 25,
   "metadata": {},
   "outputs": [],
   "source": [
    "# for patient in get_all_patient_folder_names(filtered_database_path):\n",
    "#     current_patient = patient\n",
    "#     info_txt_path, edf_files = get_all_file_names(current_patient)\n",
    "#     # read & extract information\n",
    "#     info_txt = read_format_info_file(info_txt_path)\n",
    "#     for line in info_txt[2:]:\n",
    "#         edf_info_container = FileInformationContainer(line)\n",
    "#         selected_edf_path = [x for x in edf_files if (edf_info_container.file_name in x)][0]\n",
    "#         edf_df = ReadEdfFile(selected_edf_path)\n",
    "#         if edf_df is not None:\n",
    "#             edf_df = downcast_dtypes(edf_df)\n",
    "#             insert_time_stamp(edf_df, edf_info_container.time_start)\n",
    "#             insert_class_col(edf_df, edf_info_container.sz_info)\n",
    "#             print(f\"filename: {edf_info_container.file_name} classes: {edf_df['class'].value_counts()}\")\n",
    "#             df_save_compress(external_hardisk_drive_path, edf_info_container.file_name, edf_df)"
   ]
  },
  {
   "cell_type": "markdown",
   "metadata": {},
   "source": [
    "# Read & load compressed dataframes"
   ]
  },
  {
   "cell_type": "markdown",
   "metadata": {},
   "source": [
    "Get all compressed dataframe file names"
   ]
  },
  {
   "cell_type": "code",
   "execution_count": 26,
   "metadata": {},
   "outputs": [
    {
     "name": "stdout",
     "output_type": "stream",
     "text": [
      "chb01_02.parquet.gzip\n",
      "chb01_03.parquet.gzip\n",
      "chb01_04.parquet.gzip\n",
      "chb01_05.parquet.gzip\n",
      "chb01_06.parquet.gzip\n",
      "chb01_07.parquet.gzip\n",
      "chb01_08.parquet.gzip\n",
      "chb01_09.parquet.gzip\n",
      "chb01_10.parquet.gzip\n",
      "chb01_11.parquet.gzip\n",
      "chb01_12.parquet.gzip\n",
      "chb01_13.parquet.gzip\n",
      "chb01_14.parquet.gzip\n",
      "chb01_15.parquet.gzip\n",
      "chb01_16.parquet.gzip\n",
      "chb01_17.parquet.gzip\n",
      "chb01_18.parquet.gzip\n",
      "chb01_19.parquet.gzip\n",
      "chb01_20.parquet.gzip\n",
      "chb01_21.parquet.gzip\n",
      "chb01_22.parquet.gzip\n",
      "chb01_23.parquet.gzip\n",
      "chb01_24.parquet.gzip\n",
      "chb01_25.parquet.gzip\n",
      "chb01_26.parquet.gzip\n",
      "chb01_27.parquet.gzip\n",
      "chb01_29.parquet.gzip\n",
      "chb01_30.parquet.gzip\n",
      "chb01_31.parquet.gzip\n",
      "chb01_32.parquet.gzip\n",
      "chb01_33.parquet.gzip\n",
      "chb01_34.parquet.gzip\n",
      "chb01_36.parquet.gzip\n",
      "chb01_37.parquet.gzip\n",
      "chb01_38.parquet.gzip\n",
      "chb01_39.parquet.gzip\n",
      "chb01_40.parquet.gzip\n",
      "chb01_41.parquet.gzip\n",
      "chb01_42.parquet.gzip\n",
      "chb01_43.parquet.gzip\n",
      "chb02_02.parquet.gzip\n",
      "chb02_03.parquet.gzip\n",
      "chb02_04.parquet.gzip\n",
      "chb02_05.parquet.gzip\n",
      "chb02_06.parquet.gzip\n",
      "chb02_07.parquet.gzip\n",
      "chb02_08.parquet.gzip\n",
      "chb02_09.parquet.gzip\n",
      "chb02_10.parquet.gzip\n",
      "chb02_11.parquet.gzip\n",
      "chb02_12.parquet.gzip\n",
      "chb02_13.parquet.gzip\n",
      "chb02_14.parquet.gzip\n",
      "chb02_15.parquet.gzip\n",
      "chb02_16.parquet.gzip\n",
      "chb02_16+.parquet.gzip\n",
      "chb02_17.parquet.gzip\n",
      "chb02_18.parquet.gzip\n",
      "chb02_19.parquet.gzip\n",
      "chb02_20.parquet.gzip\n",
      "chb02_21.parquet.gzip\n",
      "chb02_22.parquet.gzip\n",
      "chb02_23.parquet.gzip\n",
      "chb02_24.parquet.gzip\n",
      "chb02_25.parquet.gzip\n",
      "chb02_26.parquet.gzip\n",
      "chb02_27.parquet.gzip\n",
      "chb02_28.parquet.gzip\n",
      "chb02_29.parquet.gzip\n",
      "chb02_30.parquet.gzip\n",
      "chb02_31.parquet.gzip\n",
      "chb02_32.parquet.gzip\n",
      "chb02_33.parquet.gzip\n",
      "chb02_34.parquet.gzip\n",
      "chb02_35.parquet.gzip\n",
      "chb03_02.parquet.gzip\n",
      "chb03_03.parquet.gzip\n",
      "chb03_04.parquet.gzip\n",
      "chb03_05.parquet.gzip\n",
      "chb03_06.parquet.gzip\n",
      "chb03_07.parquet.gzip\n",
      "chb03_08.parquet.gzip\n",
      "chb03_09.parquet.gzip\n",
      "chb03_10.parquet.gzip\n",
      "chb03_11.parquet.gzip\n",
      "chb03_12.parquet.gzip\n",
      "chb03_13.parquet.gzip\n",
      "chb03_14.parquet.gzip\n",
      "chb03_15.parquet.gzip\n",
      "chb03_16.parquet.gzip\n",
      "chb03_17.parquet.gzip\n",
      "chb03_18.parquet.gzip\n",
      "chb03_19.parquet.gzip\n",
      "chb03_20.parquet.gzip\n",
      "chb03_21.parquet.gzip\n",
      "chb03_22.parquet.gzip\n",
      "chb03_23.parquet.gzip\n",
      "chb03_24.parquet.gzip\n",
      "chb03_25.parquet.gzip\n",
      "chb03_26.parquet.gzip\n",
      "chb03_27.parquet.gzip\n",
      "chb03_28.parquet.gzip\n",
      "chb03_29.parquet.gzip\n",
      "chb03_30.parquet.gzip\n",
      "chb03_31.parquet.gzip\n",
      "chb03_32.parquet.gzip\n",
      "chb03_33.parquet.gzip\n",
      "chb03_34.parquet.gzip\n",
      "chb03_35.parquet.gzip\n",
      "chb03_36.parquet.gzip\n",
      "chb03_37.parquet.gzip\n",
      "chb07_02.parquet.gzip\n",
      "chb07_03.parquet.gzip\n",
      "chb07_04.parquet.gzip\n",
      "chb07_05.parquet.gzip\n",
      "chb07_06.parquet.gzip\n",
      "chb07_07.parquet.gzip\n",
      "chb07_08.parquet.gzip\n",
      "chb07_09.parquet.gzip\n",
      "chb07_10.parquet.gzip\n",
      "chb07_11.parquet.gzip\n",
      "chb07_12.parquet.gzip\n",
      "chb07_13.parquet.gzip\n",
      "chb07_14.parquet.gzip\n",
      "chb07_15.parquet.gzip\n",
      "chb07_16.parquet.gzip\n",
      "chb07_17.parquet.gzip\n",
      "chb07_18.parquet.gzip\n",
      "chb10_02.parquet.gzip\n",
      "chb10_03.parquet.gzip\n",
      "chb10_04.parquet.gzip\n",
      "chb10_05.parquet.gzip\n",
      "chb10_06.parquet.gzip\n",
      "chb10_07.parquet.gzip\n",
      "chb10_08.parquet.gzip\n",
      "chb10_12.parquet.gzip\n",
      "chb10_13.parquet.gzip\n",
      "chb10_14.parquet.gzip\n",
      "chb10_15.parquet.gzip\n",
      "chb10_16.parquet.gzip\n",
      "chb10_17.parquet.gzip\n",
      "chb10_18.parquet.gzip\n",
      "chb10_19.parquet.gzip\n",
      "chb10_20.parquet.gzip\n",
      "chb10_21.parquet.gzip\n",
      "chb10_22.parquet.gzip\n",
      "chb10_27.parquet.gzip\n",
      "chb10_28.parquet.gzip\n",
      "chb10_30.parquet.gzip\n",
      "chb10_31.parquet.gzip\n",
      "chb10_38.parquet.gzip\n",
      "chb18_02.parquet.gzip\n",
      "chb18_03.parquet.gzip\n",
      "chb18_04.parquet.gzip\n",
      "chb18_05.parquet.gzip\n",
      "chb18_06.parquet.gzip\n",
      "chb18_07.parquet.gzip\n",
      "chb18_08.parquet.gzip\n",
      "chb18_09.parquet.gzip\n",
      "chb18_10.parquet.gzip\n",
      "chb18_11.parquet.gzip\n",
      "chb18_12.parquet.gzip\n",
      "chb18_13.parquet.gzip\n",
      "chb18_14.parquet.gzip\n",
      "chb18_15.parquet.gzip\n",
      "chb18_16.parquet.gzip\n",
      "chb18_17.parquet.gzip\n",
      "chb18_18.parquet.gzip\n",
      "chb18_19.parquet.gzip\n",
      "chb18_20.parquet.gzip\n",
      "chb18_21.parquet.gzip\n",
      "chb18_22.parquet.gzip\n",
      "chb18_23.parquet.gzip\n",
      "chb18_24.parquet.gzip\n",
      "chb18_25.parquet.gzip\n",
      "chb18_26.parquet.gzip\n",
      "chb18_27.parquet.gzip\n",
      "chb18_28.parquet.gzip\n",
      "chb18_29.parquet.gzip\n",
      "chb18_30.parquet.gzip\n",
      "chb18_31.parquet.gzip\n",
      "chb18_32.parquet.gzip\n",
      "chb18_33.parquet.gzip\n",
      "chb18_34.parquet.gzip\n",
      "chb18_35.parquet.gzip\n",
      "chb20_02.parquet.gzip\n",
      "chb20_03.parquet.gzip\n",
      "chb20_04.parquet.gzip\n",
      "chb20_05.parquet.gzip\n",
      "chb20_06.parquet.gzip\n",
      "chb20_07.parquet.gzip\n",
      "chb20_08.parquet.gzip\n",
      "chb20_11.parquet.gzip\n",
      "chb20_12.parquet.gzip\n",
      "chb20_13.parquet.gzip\n",
      "chb20_14.parquet.gzip\n",
      "chb20_15.parquet.gzip\n",
      "chb20_16.parquet.gzip\n",
      "chb20_17.parquet.gzip\n",
      "chb20_21.parquet.gzip\n",
      "chb20_22.parquet.gzip\n",
      "chb20_23.parquet.gzip\n",
      "chb20_25.parquet.gzip\n",
      "chb20_26.parquet.gzip\n",
      "chb20_27.parquet.gzip\n",
      "chb20_28.parquet.gzip\n",
      "chb20_29.parquet.gzip\n",
      "chb20_30.parquet.gzip\n",
      "chb20_31.parquet.gzip\n",
      "chb20_34.parquet.gzip\n",
      "chb20_59.parquet.gzip\n",
      "chb20_60.parquet.gzip\n",
      "chb22_02.parquet.gzip\n",
      "chb22_03.parquet.gzip\n",
      "chb22_04.parquet.gzip\n",
      "chb22_05.parquet.gzip\n",
      "chb22_06.parquet.gzip\n",
      "chb22_07.parquet.gzip\n",
      "chb22_08.parquet.gzip\n",
      "chb22_09.parquet.gzip\n",
      "chb22_10.parquet.gzip\n",
      "chb22_11.parquet.gzip\n",
      "chb22_15.parquet.gzip\n",
      "chb22_16.parquet.gzip\n",
      "chb22_17.parquet.gzip\n",
      "chb22_18.parquet.gzip\n",
      "chb22_19.parquet.gzip\n",
      "chb22_20.parquet.gzip\n",
      "chb22_21.parquet.gzip\n",
      "chb22_22.parquet.gzip\n",
      "chb22_23.parquet.gzip\n",
      "chb22_24.parquet.gzip\n",
      "chb22_25.parquet.gzip\n",
      "chb22_26.parquet.gzip\n",
      "chb22_27.parquet.gzip\n",
      "chb22_28.parquet.gzip\n",
      "chb22_29.parquet.gzip\n",
      "chb22_30.parquet.gzip\n",
      "chb22_38.parquet.gzip\n",
      "chb22_51.parquet.gzip\n",
      "chb22_54.parquet.gzip\n",
      "windows\n"
     ]
    }
   ],
   "source": [
    "for f in os.listdir(external_hardisk_drive_path):\n",
    "    print(f)"
   ]
  },
  {
   "cell_type": "code",
   "execution_count": 27,
   "metadata": {},
   "outputs": [],
   "source": [
    "compressed_file_type = \".parquet.gzip\"\n",
    "files = [external_hardisk_drive_path + \"/\" + f for f in os.listdir(external_hardisk_drive_path) if f.endswith(compressed_file_type)]"
   ]
  },
  {
   "cell_type": "markdown",
   "metadata": {},
   "source": [
    "Function for reducing number of channels"
   ]
  },
  {
   "cell_type": "code",
   "execution_count": 28,
   "metadata": {},
   "outputs": [],
   "source": [
    "def remove_cols(dataframe, col_start = 0, col_end = 0):\n",
    "    if col_end == 0:\n",
    "        col_end = len(dataframe.columns) - 1\n",
    "    \n",
    "    dataframe = dataframe.iloc[: , col_start: col_end]\n",
    "    return dataframe\n"
   ]
  },
  {
   "cell_type": "markdown",
   "metadata": {},
   "source": [
    "Read compressed dataframes and format. Extract classes to seperate dataframes"
   ]
  },
  {
   "cell_type": "code",
   "execution_count": 29,
   "metadata": {},
   "outputs": [],
   "source": [
    "matches = ['.-0','.-1', '.-2', '.-3', '.-4', 'STI 014']\n",
    "\n",
    "def read_compressed_df(path):\n",
    "    df = pd.read_parquet(path)\n",
    "    \n",
    "    # Remove STI 14 col:\n",
    "    if any(x in df.columns for x in matches):\n",
    "        for col_name in matches:\n",
    "            try:\n",
    "                df.drop(columns=col_name, inplace=True)\n",
    "                \n",
    "            except:\n",
    "                pass\n",
    "\n",
    "    sz_df = df.loc[df['class'] == \"seizure\"].reset_index(drop=True)\n",
    "    sz_df = remove_cols(sz_df, col_end=10)\n",
    "\n",
    "    prei_one_df = df.loc[df['class'] == \"Preictal I\"]\n",
    "    prei_one_df = remove_cols(prei_one_df, col_end=10)\n",
    "\n",
    "    prei_two_df = df.loc[df['class'] == \"Preictal II\"]\n",
    "    prei_two_df = remove_cols(prei_two_df, col_end=10)\n",
    "\n",
    "    inter_df = df.loc[df['class'] == \"Interictal\"]\n",
    "    inter_df = remove_cols(inter_df, col_end=10)\n",
    "\n",
    "    channels = [item for item in list(sz_df.columns) if item != \"class\" if item != \"timestamp\"]\n",
    "\n",
    "    return (sz_df, prei_one_df, prei_two_df, inter_df, channels)"
   ]
  },
  {
   "cell_type": "code",
   "execution_count": 30,
   "metadata": {},
   "outputs": [],
   "source": [
    "# paths = (os.path.join(root, filename)\n",
    "#     for root, _, filenames in os.walk(\"/volumes/LaCie/Database/\")\n",
    "#     for filename in filenames)\n",
    "\n",
    "# for path in paths:\n",
    "#     newname = path.replace('Database', \"\", 2)\n",
    "#     if newname != path:\n",
    "#         os.rename(path, newname)\n",
    "   "
   ]
  },
  {
   "cell_type": "markdown",
   "metadata": {},
   "source": [
    "## Window Function:"
   ]
  },
  {
   "cell_type": "code",
   "execution_count": 31,
   "metadata": {},
   "outputs": [],
   "source": [
    "def get_window(channel, start_index, data, size = 4, overlap = 0, is_sezure = False, frequency = 256):\n",
    "    if(is_sezure):\n",
    "        overlap = 2\n",
    "    else:\n",
    "        overlap = overlap\n",
    "    \n",
    "    \n",
    "    start = start_index * (size - overlap) * frequency\n",
    "    end = start + (size * frequency)\n",
    "    #print(\"is_sezure: \" + str(is_sezure) + \" time: \" + str(datetime.fromtimestamp((data['timestamp'][start:start+1]/1000).tolist()[0]).strftime('%H:%M:%S')) + str(' lenthWindow: '+ str(len(data[channel][start:end].tolist()))) + ' start: ' + str(start) + \" end: \" + str(end) )\n",
    "\n",
    "    return [data[channel][start:end].tolist(), datetime.fromtimestamp((data['timestamp'][start:start+1]/1000).tolist()[0]).strftime('%H:%M:%S')]"
   ]
  },
  {
   "cell_type": "code",
   "execution_count": 32,
   "metadata": {},
   "outputs": [],
   "source": [
    "def get_max_window_iteration(dataframe, buffer):\n",
    "    len_of_df = int(len(dataframe) / (buffer*256))\n",
    "    return len_of_df\n"
   ]
  },
  {
   "cell_type": "code",
   "execution_count": 33,
   "metadata": {},
   "outputs": [],
   "source": [
    "import psutil\n",
    "import gc"
   ]
  },
  {
   "cell_type": "code",
   "execution_count": 39,
   "metadata": {},
   "outputs": [],
   "source": [
    "def spec_transform_save_to_folder(index, win, channel, patient_state, patient, plot_title = False):\n",
    "    plt.figure(figsize=(7,7))\n",
    "    series = win[0]\n",
    "    time_of_observation = str(datetime.strptime(win[1], \"%H:%M:%S\").strftime(\"%H:%M:%S\")).replace(\":\", \"-\")\n",
    "    try:\n",
    "        series = np.array(series).astype(np.float)\n",
    "    except Exception as e:\n",
    "        print(f\"error: {e}\")\n",
    "        print(f\"patient_state: {patient_state} channel: {channel} index: {index} window: {series}\")\n",
    "    denoised_series = denoise_wavelet(series, method='BayesShrink',wavelet='db6', mode='soft',rescale_sigma=True, multichannel=False, wavelet_levels=3)\n",
    "    if plot_title:\n",
    "        plt.title(f\"{channel} : is_seizure = {patient_state} : {time_of_observation}\")\n",
    "\n",
    "    plt.specgram(denoised_series,Fs=500,cmap='jet')\n",
    "\n",
    "    if patient_state == \"seizure\":\n",
    "        plt.savefig(f'{external_hardisk_drive_path}/windows/Seizure/{patient}_{index}_{channel}_{time_of_observation}.png')\n",
    "    elif patient_state == \"interictal\":\n",
    "        plt.savefig(f'{external_hardisk_drive_path}/windows/Interictal/{patient}_{index}_{channel}_{time_of_observation}.png')\n",
    "    elif patient_state == \"prei_one\":\n",
    "        plt.savefig(f'{external_hardisk_drive_path}/windows/Preictal_One/{patient}_{index}_{channel}_{str(time_of_observation).strip()}.png')\n",
    "    elif patient_state == \"prei_two\":\n",
    "        plt.savefig(f'{external_hardisk_drive_path}/windows/Preictal_Two/{patient}_{index}_{channel}_{str(time_of_observation).strip()}.png')\n",
    "    \n",
    "    del series\n",
    "    plt.clf()    \n",
    "    plt.close()\n",
    "    gc.collect()"
   ]
  },
  {
   "cell_type": "code",
   "execution_count": 41,
   "metadata": {},
   "outputs": [
    {
     "name": "stdout",
     "output_type": "stream",
     "text": [
      "started file: /Volumes/LaCie/Database/chb01_05.parquet.gzip index: 3\n",
      "memory usage = 84.8 : available memory = 15.228652954101562\n",
      "filename: /Volumes/LaCie/Database/chb01_05.parquet.gzip = done : count = 4 : files left = 237 : time of creation = 2021-10-12 01:47:15.589473\n",
      "started file: /Volumes/LaCie/Database/chb01_06.parquet.gzip index: 4\n",
      "memory usage = 83.7 : available memory = 16.287612915039062\n",
      "filename: /Volumes/LaCie/Database/chb01_06.parquet.gzip = done : count = 5 : files left = 236 : time of creation = 2021-10-12 02:35:58.538082\n",
      "started file: /Volumes/LaCie/Database/chb01_07.parquet.gzip index: 5\n",
      "memory usage = 84.4 : available memory = 15.550804138183594\n",
      "filename: /Volumes/LaCie/Database/chb01_07.parquet.gzip = done : count = 6 : files left = 235 : time of creation = 2021-10-12 03:35:04.177847\n",
      "started file: /Volumes/LaCie/Database/chb01_08.parquet.gzip index: 6\n",
      "memory usage = 84.4 : available memory = 15.645408630371094\n",
      "filename: /Volumes/LaCie/Database/chb01_08.parquet.gzip = done : count = 7 : files left = 234 : time of creation = 2021-10-12 05:06:07.612240\n",
      "started file: /Volumes/LaCie/Database/chb01_09.parquet.gzip index: 7\n"
     ]
    }
   ],
   "source": [
    "count = 3\n",
    "\n",
    "try:\n",
    "    for filename in files[7:15]:\n",
    "        print(\"started file: \" + str(filename) + \" index: \" + str(count))\n",
    "        sz, prei_one, prei_two, inter, selected_channels = read_compressed_df(filename)\n",
    "        patient = re.search('/Volumes/LaCie/Database/(.*).parquet.gzip', filename).group(1)\n",
    "        for channel in selected_channels:\n",
    "            if len(inter) > 0 and inter.empty == False:\n",
    "                inter_win = [get_window(channel=channel,start_index=i, data=inter) for i in range(get_max_window_iteration(inter, 4))]\n",
    "                for index, window in enumerate(inter_win):\n",
    "                    spec_transform_save_to_folder(win=window, index=index, channel=channel, patient_state = \"interictal\", patient=patient)\n",
    "                del inter_win\n",
    "\n",
    "            if len(sz) > 0 and sz.empty == False:\n",
    "                sz_win = [get_window(channel=channel, start_index=i, data=sz, is_sezure=True) for i in range(get_max_window_iteration(sz, 2))]\n",
    "                for index, window in enumerate(sz_win):\n",
    "                    spec_transform_save_to_folder(channel=channel, index=index, win=window, patient_state=\"seizure\", patient=patient)\n",
    "                del sz_win\n",
    "\n",
    "            if len(prei_one) > 0 and prei_one.empty == False:\n",
    "                prei_one_win = [get_window(channel=channel,start_index=i, data=inter) for i in range(get_max_window_iteration(prei_one, 4))]\n",
    "                for index, window in enumerate(prei_one_win):\n",
    "                    spec_transform_save_to_folder(channel=channel, index=index, win=window, patient_state=\"prei_one\", patient=patient)\n",
    "                del prei_one_win\n",
    "\n",
    "            if len(prei_two) > 0 and prei_two.empty == False:\n",
    "                prei_two_win = [get_window(channel=channel, start_index=i, data=inter) for i in range(get_max_window_iteration(prei_two, 4))]\n",
    "                for index, window in enumerate(prei_two_win):\n",
    "                    spec_transform_save_to_folder(channel=channel, index=index, win=window, patient_state=\"prei_two\", patient=patient)\n",
    "                del prei_two_win\n",
    "\n",
    "        count += 1\n",
    "        print(f\"memory usage = {psutil.virtual_memory().percent} : available memory = {psutil.virtual_memory().available * 100 / psutil.virtual_memory().total}\")\n",
    "        print(f\"filename: {filename} = done : count = {count} : files left = {len(files) - count} : time of creation = {datetime.now()}\")\n",
    "        del sz, prei_one, prei_two, inter\n",
    "except Exception as e:\n",
    "    print(e)"
   ]
  },
  {
   "cell_type": "markdown",
   "metadata": {},
   "source": [
    "Nået til index 4 i files count er 3"
   ]
  },
  {
   "cell_type": "code",
   "execution_count": null,
   "metadata": {},
   "outputs": [
    {
     "data": {
      "text/plain": [
       "[<matplotlib.lines.Line2D at 0x2b76aa4c0>]"
      ]
     },
     "execution_count": 247,
     "metadata": {},
     "output_type": "execute_result"
    },
    {
     "data": {
      "image/png": "[encoded data removed]",
      "text/plain": [
       "<Figure size 432x288 with 1 Axes>"
      ]
     },
     "metadata": {
      "needs_background": "light"
     },
     "output_type": "display_data"
    }
   ],
   "source": [
    "plt.plot(np.array(inter_win[0][0]))"
   ]
  },
  {
   "cell_type": "code",
   "execution_count": null,
   "metadata": {},
   "outputs": [
    {
     "data": {
      "text/plain": [
       "130140"
      ]
     },
     "execution_count": 329,
     "metadata": {},
     "output_type": "execute_result"
    }
   ],
   "source": [
    "241 * 6\n",
    "\n",
    "1446 * 90\n"
   ]
  }
 ],
 "metadata": {
  "interpreter": {
   "hash": "36ba892f7ad20bf7fdc5c3ef3188feda3b9d9c608c682b5345226fde4f33924b"
  },
  "kernelspec": {
   "display_name": "Python 3.9.7 64-bit (conda)",
   "name": "python3"
  },
  "language_info": {
   "codemirror_mode": {
    "name": "ipython",
    "version": 3
   },
   "file_extension": ".py",
   "mimetype": "text/x-python",
   "name": "python",
   "nbconvert_exporter": "python",
   "pygments_lexer": "ipython3",
   "version": "3.9.7"
  },
  "orig_nbformat": 4
 },
 "nbformat": 4,
 "nbformat_minor": 2
}
