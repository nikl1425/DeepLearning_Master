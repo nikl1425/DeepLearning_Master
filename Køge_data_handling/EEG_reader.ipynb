{
 "cells": [
  {
   "cell_type": "code",
   "execution_count": 1,
   "metadata": {},
   "outputs": [
    {
     "name": "stdout",
     "output_type": "stream",
     "text": [
      "Tensor Flow Version: 2.6.0\n",
      "Keras Version: 2.6.0\n",
      "\n",
      "Python 3.7.11 (default, Jul 27 2021, 09:42:29) [MSC v.1916 64 bit (AMD64)]\n",
      "Pandas 1.3.3\n",
      "Scikit-Learn 0.24.2\n",
      "GPU is available\n"
     ]
    }
   ],
   "source": [
    "# What version of Python do you have?\n",
    "import sys\n",
    "import os\n",
    "import tensorflow.keras\n",
    "import pandas as pd\n",
    "import sklearn as sk\n",
    "import tensorflow as tf\n",
    "import numpy as np\n",
    "import re\n",
    "import mne\n",
    "import pathlib\n",
    "import openpyxl\n",
    "from datetime import datetime\n",
    "import pytz\n",
    "import random\n",
    "import os\n",
    "from skimage.restoration import (denoise_wavelet, estimate_sigma)\n",
    "from pathlib import Path\n",
    "from tensorflow.keras.preprocessing.image import ImageDataGenerator\n",
    "from tensorflow.keras import layers, models, Sequential\n",
    "from matplotlib import pyplot as plt\n",
    "from sklearn.metrics import classification_report, multilabel_confusion_matrix, ConfusionMatrixDisplay, confusion_matrix, plot_confusion_matrix\n",
    "from PIL import Image\n",
    "%matplotlib inline\n",
    "\n",
    "print(f\"Tensor Flow Version: {tf.__version__}\")\n",
    "print(f\"Keras Version: {tensorflow.keras.__version__}\")\n",
    "print()\n",
    "print(f\"Python {sys.version}\")\n",
    "print(f\"Pandas {pd.__version__}\")\n",
    "print(f\"Scikit-Learn {sk.__version__}\")\n",
    "gpu = len(tf.config.list_physical_devices('GPU'))>0\n",
    "print(\"GPU is\", \"available\" if gpu else \"NOT AVAILABLE\")"
   ]
  },
  {
   "cell_type": "code",
   "execution_count": 2,
   "metadata": {},
   "outputs": [],
   "source": [
    "os.chdir(\"E:/\")"
   ]
  },
  {
   "cell_type": "code",
   "execution_count": 11,
   "metadata": {},
   "outputs": [],
   "source": [
    "external_hardisk_drive_path = \"E:/Køge/\""
   ]
  },
  {
   "cell_type": "code",
   "execution_count": 7,
   "metadata": {},
   "outputs": [
    {
     "name": "stdout",
     "output_type": "stream",
     "text": [
      "EEG_csv_filtered\n",
      "ECG_csv_filtered\n",
      "Windows\n"
     ]
    }
   ],
   "source": [
    "for f in os.listdir(\"E:/Køge/\"):\n",
    "    print(f)"
   ]
  },
  {
   "cell_type": "code",
   "execution_count": 12,
   "metadata": {},
   "outputs": [],
   "source": [
    "files = [external_hardisk_drive_path + \"EEG_csv_filtered/\" + f for f in os.listdir(external_hardisk_drive_path + \"EEG_csv_filtered/\") if f.endswith(\"csv\")]"
   ]
  },
  {
   "cell_type": "code",
   "execution_count": 13,
   "metadata": {},
   "outputs": [
    {
     "data": {
      "text/plain": [
       "['E:/Køge/EEG_csv_filtered/patient_4_date_2019-05-21 1556430000.csv',\n",
       " 'E:/Køge/EEG_csv_filtered/patient_4_date_2019-05-22 0901320000.csv',\n",
       " 'E:/Køge/EEG_csv_filtered/patient_6_date_2019-08-26 1551140000.csv',\n",
       " 'E:/Køge/EEG_csv_filtered/patient_6_date_2019-08-29 0943290000.csv',\n",
       " 'E:/Køge/EEG_csv_filtered/patient_24_date_2020-11-02 0949020000.csv',\n",
       " 'E:/Køge/EEG_csv_filtered/patient_28_date_2020-09-07 1109100000.csv',\n",
       " 'E:/Køge/EEG_csv_filtered/patient_30_date_2020-09-21 0930550000.csv',\n",
       " 'E:/Køge/EEG_csv_filtered/patient_21_date_2020-06-15 1120350000.csv',\n",
       " 'E:/Køge/EEG_csv_filtered/patient_21_date_2020-06-16 1523290000.csv',\n",
       " 'E:/Køge/EEG_csv_filtered/patient_21_date_2020-06-17 1059500000.csv',\n",
       " 'E:/Køge/EEG_csv_filtered/patient_21_date_2020-06-17 1402280000.csv',\n",
       " 'E:/Køge/EEG_csv_filtered/patient_33_date_2021-02-01 1244260000.csv',\n",
       " 'E:/Køge/EEG_csv_filtered/patient_34_date_2021-02-15 0951300000.csv',\n",
       " 'E:/Køge/EEG_csv_filtered/patient_35_date_2021-03-15 0949180000.csv']"
      ]
     },
     "execution_count": 13,
     "metadata": {},
     "output_type": "execute_result"
    }
   ],
   "source": [
    "files"
   ]
  },
  {
   "cell_type": "code",
   "execution_count": 12,
   "metadata": {},
   "outputs": [
    {
     "name": "stdout",
     "output_type": "stream",
     "text": [
      "c:\\Users\\thoma\\Desktop\\speciale\\DeepLearning_Master\\Køge_data_handling\n",
      ".DS_Store\n",
      "._.DS_Store\n",
      "._Eventlist_RUC.xlsx\n",
      "EEG\n",
      "EKG\n",
      "Eventlist_RUC.xlsx\n",
      "~$Eventlist_RUC.xlsx\n"
     ]
    }
   ],
   "source": [
    "path_to_info = \"../../../EMU_monitor(ruc)/EMU_monitor(ruc)/\"\n",
    "\n",
    "print(os.getcwd())\n",
    "for f in os.listdir(path_to_info):\n",
    "    print(f)"
   ]
  },
  {
   "cell_type": "code",
   "execution_count": 13,
   "metadata": {},
   "outputs": [],
   "source": [
    "summary_xl_raw = pd.read_excel(path_to_info + \"Eventlist_RUC.xlsx\")"
   ]
  },
  {
   "cell_type": "code",
   "execution_count": null,
   "metadata": {},
   "outputs": [],
   "source": [
    "raw_xl = pd.read_excel()"
   ]
  }
 ],
 "metadata": {
  "interpreter": {
   "hash": "6e7f8d72e760dd7e6e3caedb330214dc76b4fc22099e9082eefd214a35743a05"
  },
  "kernelspec": {
   "display_name": "Python 3.7.11 64-bit ('AI_keras_env_GPU': conda)",
   "name": "python3"
  },
  "language_info": {
   "codemirror_mode": {
    "name": "ipython",
    "version": 3
   },
   "file_extension": ".py",
   "mimetype": "text/x-python",
   "name": "python",
   "nbconvert_exporter": "python",
   "pygments_lexer": "ipython3",
   "version": "3.7.11"
  },
  "orig_nbformat": 4
 },
 "nbformat": 4,
 "nbformat_minor": 2
}
