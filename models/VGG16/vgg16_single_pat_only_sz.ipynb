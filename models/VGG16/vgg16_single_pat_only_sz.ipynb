{
 "cells": [
  {
   "cell_type": "code",
   "execution_count": 2,
   "metadata": {},
   "outputs": [
    {
     "name": "stdout",
     "output_type": "stream",
     "text": [
      "Tensor Flow Version: 2.6.0\n",
      "Keras Version: 2.6.0\n",
      "\n",
      "Python 3.7.11 (default, Jul 27 2021, 09:42:29) [MSC v.1916 64 bit (AMD64)]\n",
      "Pandas 1.3.3\n",
      "Scikit-Learn 0.24.2\n",
      "GPU is available\n"
     ]
    }
   ],
   "source": [
    "# What version of Python do you have?\n",
    "import sys\n",
    "import os\n",
    "import tensorflow.keras\n",
    "import pandas as pd\n",
    "import sklearn as sk\n",
    "import tensorflow as tf\n",
    "import numpy as np\n",
    "import re\n",
    "import mne\n",
    "import pathlib\n",
    "import openpyxl\n",
    "from datetime import datetime\n",
    "import pytz\n",
    "import random\n",
    "import os\n",
    "from skimage.restoration import (denoise_wavelet, estimate_sigma)\n",
    "from pathlib import Path\n",
    "from tensorflow.keras.preprocessing.image import ImageDataGenerator\n",
    "from tensorflow.keras import layers, models, Sequential\n",
    "from matplotlib import pyplot as plt\n",
    "from sklearn.metrics import classification_report, multilabel_confusion_matrix, ConfusionMatrixDisplay, confusion_matrix, plot_confusion_matrix\n",
    "from PIL import Image\n",
    "%matplotlib inline\n",
    "\n",
    "print(f\"Tensor Flow Version: {tf.__version__}\")\n",
    "print(f\"Keras Version: {tensorflow.keras.__version__}\")\n",
    "print()\n",
    "print(f\"Python {sys.version}\")\n",
    "print(f\"Pandas {pd.__version__}\")\n",
    "print(f\"Scikit-Learn {sk.__version__}\")\n",
    "gpu = len(tf.config.list_physical_devices('GPU'))>0\n",
    "print(\"GPU is\", \"available\" if gpu else \"NOT AVAILABLE\")"
   ]
  },
  {
   "cell_type": "code",
   "execution_count": 2,
   "metadata": {},
   "outputs": [
    {
     "data": {
      "text/plain": [
       "'c:\\\\'"
      ]
     },
     "execution_count": 2,
     "metadata": {},
     "output_type": "execute_result"
    }
   ],
   "source": [
    "os.path.abspath(os.sep)"
   ]
  },
  {
   "cell_type": "code",
   "execution_count": 3,
   "metadata": {},
   "outputs": [],
   "source": [
    "# os.chdir(\"E:\\Database\")\n",
    "# os.getcwd()"
   ]
  },
  {
   "cell_type": "code",
   "execution_count": 4,
   "metadata": {},
   "outputs": [
    {
     "data": {
      "text/plain": [
       "'c:\\\\Users\\\\thoma\\\\Desktop\\\\speciale\\\\DeepLearning_Master\\\\models\\\\VGG16'"
      ]
     },
     "execution_count": 4,
     "metadata": {},
     "output_type": "execute_result"
    }
   ],
   "source": [
    "os.getcwd()"
   ]
  },
  {
   "cell_type": "code",
   "execution_count": 5,
   "metadata": {},
   "outputs": [],
   "source": [
    "# os.chdir(\"E:\\Database\")\n",
    "# train_path = \"E:/Database/Multi_Channel_Chb01/windows/train\"\n",
    "# batch_size = 10\n",
    "# resnet152_input_shape = (224, 224)\n",
    "\n",
    "# inceptionV3_input_shape = (299, 299)\n",
    "# os.getcwd()"
   ]
  },
  {
   "cell_type": "code",
   "execution_count": 6,
   "metadata": {},
   "outputs": [],
   "source": [
    "# import os\n",
    "# path = '/Users/myName/Desktop/directory'\n",
    "\n",
    "# count = 0\n",
    "# for folder in os.listdir(train_path):\n",
    "#     print(folder)\n",
    "#     for file in os.listdir(train_path + \"/\" + folder):\n",
    "#         print(file)\n",
    "#         print(len(file))\n",
    "#         if(len(file)> 25):\n",
    "#             try:\n",
    "#                 x = file[:-10] + \".png\"\n",
    "#                 os.rename(train_path + \"/\" + folder + \"/\" + file, train_path + \"/\" + folder + \"/\" + x)\n",
    "#                 os.remove(train_path + \"/\" + folder + \"/\" + file)\n",
    "#             except:\n",
    "#                 pass\n",
    "#         print(x)"
   ]
  },
  {
   "cell_type": "code",
   "execution_count": 3,
   "metadata": {},
   "outputs": [],
   "source": [
    "\n",
    "\n",
    "train_path = \"../../../windows_01_only_sz/win_chb_01\"\n",
    "\n",
    "test_path = \"../../../psd_dual_channel_10_patient/windows/test\"\n",
    "\n",
    "resnet152_input_shape = (224, 224)\n",
    "\n",
    "inceptionV3_input_shape = (299, 299)\n",
    "\n",
    "batch_size = 20"
   ]
  },
  {
   "cell_type": "code",
   "execution_count": 4,
   "metadata": {},
   "outputs": [
    {
     "name": "stdout",
     "output_type": "stream",
     "text": [
      "Interictal\n",
      "Preictal_One\n",
      "Preictal_Two\n",
      "Seizure\n"
     ]
    }
   ],
   "source": [
    "for f in os.listdir(train_path):\n",
    "    print(f)"
   ]
  },
  {
   "cell_type": "code",
   "execution_count": 5,
   "metadata": {},
   "outputs": [],
   "source": [
    "from tensorflow.keras.applications import VGG16, ResNet152"
   ]
  },
  {
   "cell_type": "code",
   "execution_count": 6,
   "metadata": {},
   "outputs": [
    {
     "data": {
      "text/plain": [
       "['Interictal', 'Preictal_One', 'Preictal_Two', 'Seizure']"
      ]
     },
     "execution_count": 6,
     "metadata": {},
     "output_type": "execute_result"
    }
   ],
   "source": [
    "labels = [item for item in os.listdir(train_path)]\n",
    "labels"
   ]
  },
  {
   "cell_type": "code",
   "execution_count": 7,
   "metadata": {},
   "outputs": [
    {
     "data": {
      "text/plain": [
       "[{'27232', 'Interictal'},\n",
       " {'11856', 'Preictal_One'},\n",
       " {'7848', 'Preictal_Two'},\n",
       " {'1752', 'Seizure'}]"
      ]
     },
     "execution_count": 7,
     "metadata": {},
     "output_type": "execute_result"
    }
   ],
   "source": [
    "def inspect_class_distribution():\n",
    "    dist_list = []\n",
    "    for i in os.listdir(train_path):\n",
    "        classname = i\n",
    "        number_of_png = str(len([x for x in os.listdir(train_path + \"/\" + i)]))\n",
    "        dict = {classname, number_of_png}\n",
    "        dist_list.append(dict)\n",
    "    return dist_list\n",
    "\n",
    "inspect_class_distribution()"
   ]
  },
  {
   "cell_type": "code",
   "execution_count": 8,
   "metadata": {},
   "outputs": [
    {
     "name": "stdout",
     "output_type": "stream",
     "text": [
      "Model: \"vgg16\"\n",
      "_________________________________________________________________\n",
      "Layer (type)                 Output Shape              Param #   \n",
      "=================================================================\n",
      "input_1 (InputLayer)         [(None, 299, 299, 3)]     0         \n",
      "_________________________________________________________________\n",
      "block1_conv1 (Conv2D)        (None, 299, 299, 64)      1792      \n",
      "_________________________________________________________________\n",
      "block1_conv2 (Conv2D)        (None, 299, 299, 64)      36928     \n",
      "_________________________________________________________________\n",
      "block1_pool (MaxPooling2D)   (None, 149, 149, 64)      0         \n",
      "_________________________________________________________________\n",
      "block2_conv1 (Conv2D)        (None, 149, 149, 128)     73856     \n",
      "_________________________________________________________________\n",
      "block2_conv2 (Conv2D)        (None, 149, 149, 128)     147584    \n",
      "_________________________________________________________________\n",
      "block2_pool (MaxPooling2D)   (None, 74, 74, 128)       0         \n",
      "_________________________________________________________________\n",
      "block3_conv1 (Conv2D)        (None, 74, 74, 256)       295168    \n",
      "_________________________________________________________________\n",
      "block3_conv2 (Conv2D)        (None, 74, 74, 256)       590080    \n",
      "_________________________________________________________________\n",
      "block3_conv3 (Conv2D)        (None, 74, 74, 256)       590080    \n",
      "_________________________________________________________________\n",
      "block3_pool (MaxPooling2D)   (None, 37, 37, 256)       0         \n",
      "_________________________________________________________________\n",
      "block4_conv1 (Conv2D)        (None, 37, 37, 512)       1180160   \n",
      "_________________________________________________________________\n",
      "block4_conv2 (Conv2D)        (None, 37, 37, 512)       2359808   \n",
      "_________________________________________________________________\n",
      "block4_conv3 (Conv2D)        (None, 37, 37, 512)       2359808   \n",
      "_________________________________________________________________\n",
      "block4_pool (MaxPooling2D)   (None, 18, 18, 512)       0         \n",
      "_________________________________________________________________\n",
      "block5_conv1 (Conv2D)        (None, 18, 18, 512)       2359808   \n",
      "_________________________________________________________________\n",
      "block5_conv2 (Conv2D)        (None, 18, 18, 512)       2359808   \n",
      "_________________________________________________________________\n",
      "block5_conv3 (Conv2D)        (None, 18, 18, 512)       2359808   \n",
      "_________________________________________________________________\n",
      "block5_pool (MaxPooling2D)   (None, 9, 9, 512)         0         \n",
      "=================================================================\n",
      "Total params: 14,714,688\n",
      "Trainable params: 0\n",
      "Non-trainable params: 14,714,688\n",
      "_________________________________________________________________\n"
     ]
    }
   ],
   "source": [
    "inceptionResnet = VGG16(\n",
    "    weights='imagenet',\n",
    "    include_top=False,\n",
    "    input_shape = (299, 299, 3)\n",
    ")\n",
    "\n",
    "for layer in inceptionResnet.layers:\n",
    "    layer.trainable = False\n",
    "\n",
    "inceptionResnet.summary()"
   ]
  },
  {
   "cell_type": "code",
   "execution_count": 36,
   "metadata": {},
   "outputs": [],
   "source": [
    "single_inc_model = Sequential()\n",
    "\n",
    "single_inc_model.add(inceptionResnet)\n",
    "single_inc_model.add(layers.Flatten())\n",
    "single_inc_model.add(layers.Dense(1024, activation='relu'))\n",
    "single_inc_model.add(layers.Dropout(0.6))\n",
    "single_inc_model.add(layers.Dense(512, activation='relu'))\n",
    "single_inc_model.add(layers.Dense(4, activation='softmax'))"
   ]
  },
  {
   "cell_type": "code",
   "execution_count": 14,
   "metadata": {},
   "outputs": [
    {
     "name": "stdout",
     "output_type": "stream",
     "text": [
      "Model: \"sequential\"\n",
      "_________________________________________________________________\n",
      "Layer (type)                 Output Shape              Param #   \n",
      "=================================================================\n",
      "vgg16 (Functional)           (None, 9, 9, 512)         14714688  \n",
      "_________________________________________________________________\n",
      "dense (Dense)                (None, 9, 9, 1024)        525312    \n",
      "_________________________________________________________________\n",
      "dropout (Dropout)            (None, 9, 9, 1024)        0         \n",
      "_________________________________________________________________\n",
      "flatten (Flatten)            (None, 82944)             0         \n",
      "_________________________________________________________________\n",
      "dense_1 (Dense)              (None, 512)               42467840  \n",
      "_________________________________________________________________\n",
      "dropout_1 (Dropout)          (None, 512)               0         \n",
      "_________________________________________________________________\n",
      "dense_2 (Dense)              (None, 4)                 2052      \n",
      "=================================================================\n",
      "Total params: 57,709,892\n",
      "Trainable params: 42,995,204\n",
      "Non-trainable params: 14,714,688\n",
      "_________________________________________________________________\n"
     ]
    }
   ],
   "source": [
    "single_inc_model.summary()"
   ]
  },
  {
   "cell_type": "code",
   "execution_count": 9,
   "metadata": {},
   "outputs": [
    {
     "name": "stdout",
     "output_type": "stream",
     "text": [
      "Model: \"sequential\"\n",
      "_________________________________________________________________\n",
      "Layer (type)                 Output Shape              Param #   \n",
      "=================================================================\n",
      "conv2d (Conv2D)              (None, 299, 299, 32)      896       \n",
      "_________________________________________________________________\n",
      "max_pooling2d (MaxPooling2D) (None, 149, 149, 32)      0         \n",
      "_________________________________________________________________\n",
      "dropout (Dropout)            (None, 149, 149, 32)      0         \n",
      "_________________________________________________________________\n",
      "flatten (Flatten)            (None, 710432)            0         \n",
      "_________________________________________________________________\n",
      "dense (Dense)                (None, 64)                45467712  \n",
      "_________________________________________________________________\n",
      "dense_1 (Dense)              (None, 4)                 260       \n",
      "=================================================================\n",
      "Total params: 45,468,868\n",
      "Trainable params: 45,468,868\n",
      "Non-trainable params: 0\n",
      "_________________________________________________________________\n"
     ]
    }
   ],
   "source": [
    "from tensorflow.keras.layers import Layer\n",
    "# build model\n",
    "model2 = Sequential()\n",
    "model2.add(layers.Conv2D(32, 3, padding='same', activation='relu',input_shape=(299,299,3))) \n",
    "model2.add(layers.MaxPool2D()) \n",
    "# model2.add(layers.Dropout(0.2))\n",
    "# model2.add(layers.Conv2D(64, 5, padding='same', activation='relu'))\n",
    "# model2.add(layers.MaxPool2D())\n",
    "model2.add(layers.Dropout(0.4))\n",
    "model2.add(layers.Flatten())\n",
    "model2.add(layers.Dense(64, activation='relu'))\n",
    "model2.add(layers.Dense(4, activation='sigmoid'))\n",
    "\n",
    "model2.summary()"
   ]
  },
  {
   "cell_type": "code",
   "execution_count": 16,
   "metadata": {},
   "outputs": [],
   "source": [
    "from tensorflow.keras.applications.resnet import preprocess_input"
   ]
  },
  {
   "cell_type": "code",
   "execution_count": 10,
   "metadata": {},
   "outputs": [],
   "source": [
    "generator = ImageDataGenerator(\n",
    "  validation_split=0.2,\n",
    "  rescale=1.255\n",
    ")"
   ]
  },
  {
   "cell_type": "code",
   "execution_count": 11,
   "metadata": {},
   "outputs": [
    {
     "name": "stdout",
     "output_type": "stream",
     "text": [
      "Found 38952 images belonging to 4 classes.\n"
     ]
    }
   ],
   "source": [
    "inception_train_gen = generator.flow_from_directory(\n",
    "    train_path,\n",
    "    batch_size=batch_size, \n",
    "    target_size=inceptionV3_input_shape, \n",
    "    shuffle=True,\n",
    "   # class_mode=\"binary\",\n",
    "    subset=\"training\")"
   ]
  },
  {
   "cell_type": "code",
   "execution_count": 12,
   "metadata": {},
   "outputs": [
    {
     "name": "stdout",
     "output_type": "stream",
     "text": [
      "Found 9736 images belonging to 4 classes.\n"
     ]
    }
   ],
   "source": [
    "inception_validation_gen = generator.flow_from_directory(\n",
    "    train_path,\n",
    "    batch_size=batch_size, \n",
    "    target_size=inceptionV3_input_shape, \n",
    "    shuffle=True,\n",
    " #   class_mode=\"binary\",\n",
    "    subset=\"validation\")"
   ]
  },
  {
   "cell_type": "code",
   "execution_count": 13,
   "metadata": {},
   "outputs": [
    {
     "data": {
      "text/plain": [
       "array([0, 0, 0, ..., 3, 3, 3])"
      ]
     },
     "execution_count": 13,
     "metadata": {},
     "output_type": "execute_result"
    }
   ],
   "source": [
    "inception_train_gen.classes"
   ]
  },
  {
   "cell_type": "code",
   "execution_count": 14,
   "metadata": {},
   "outputs": [],
   "source": [
    "class_weights = {0: 0.4469741480611046,\n",
    "                1: 1.0266531713900136,\n",
    "                2: 1.5509683995922527,\n",
    "                3: 6.947488584474886}"
   ]
  },
  {
   "cell_type": "code",
   "execution_count": 15,
   "metadata": {},
   "outputs": [],
   "source": [
    "from tensorflow.keras.optimizers import Adam, SGD\n",
    "opt = SGD(learning_rate=1e-5, momentum=0.9)\n",
    "\n",
    "model2.compile(\n",
    "    loss=\"categorical_crossentropy\",\n",
    "    optimizer=opt,\n",
    "    metrics=['accuracy']\n",
    ")"
   ]
  },
  {
   "cell_type": "code",
   "execution_count": 19,
   "metadata": {},
   "outputs": [],
   "source": [
    "model = models.Sequential()\n",
    "model.add(layers.Conv2D(32, (3, 3), activation='relu',\n",
    "                        input_shape=(299,299,3)))\n",
    "model.add(layers.MaxPooling2D((2, 2)))\n",
    "model.add(layers.Conv2D(64, (3, 3), activation='relu'))\n",
    "model.add(layers.MaxPooling2D((2, 2)))\n",
    "model.add(layers.Conv2D(128, (3, 3), activation='relu'))\n",
    "model.add(layers.MaxPooling2D((2, 2)))\n",
    "model.add(layers.Conv2D(128, (3, 3), activation='relu'))\n",
    "model.add(layers.MaxPooling2D((2, 2)))\n",
    "model.add(layers.Flatten())\n",
    "model.add(layers.Dense(512, activation='relu'))\n",
    "model.add(layers.Dense(4, activation='sigmoid'))"
   ]
  },
  {
   "cell_type": "code",
   "execution_count": 20,
   "metadata": {},
   "outputs": [],
   "source": [
    "from tensorflow.keras.optimizers import Adam, SGD\n",
    "opt = Adam(0.001)\n",
    "\n",
    "model.compile(\n",
    "    loss=\"categorical_crossentropy\",\n",
    "    optimizer=opt,\n",
    "    metrics=['accuracy']\n",
    ")"
   ]
  },
  {
   "cell_type": "code",
   "execution_count": 23,
   "metadata": {},
   "outputs": [],
   "source": [
    "import keras.backend as K\n",
    "from keras.callbacks import Callback\n",
    "\n",
    "\n",
    "class LRFinder(Callback):\n",
    "    \n",
    "    '''\n",
    "    A simple callback for finding the optimal learning rate range for your model + dataset. \n",
    "    \n",
    "    # Usage\n",
    "        ```python\n",
    "            lr_finder = LRFinder(min_lr=1e-5, \n",
    "                                 max_lr=1e-2, \n",
    "                                 steps_per_epoch=np.ceil(epoch_size/batch_size), \n",
    "                                 epochs=3)\n",
    "            model.fit(X_train, Y_train, callbacks=[lr_finder])\n",
    "            \n",
    "            lr_finder.plot_loss()\n",
    "        ```\n",
    "    \n",
    "    # Arguments\n",
    "        min_lr: The lower bound of the learning rate range for the experiment.\n",
    "        max_lr: The upper bound of the learning rate range for the experiment.\n",
    "        steps_per_epoch: Number of mini-batches in the dataset. Calculated as `np.ceil(epoch_size/batch_size)`. \n",
    "        epochs: Number of epochs to run experiment. Usually between 2 and 4 epochs is sufficient. \n",
    "        \n",
    "    # References\n",
    "        Blog post: jeremyjordan.me/nn-learning-rate\n",
    "        Original paper: https://arxiv.org/abs/1506.01186\n",
    "    '''\n",
    "    \n",
    "    def __init__(self, min_lr=1e-5, max_lr=1e-2, steps_per_epoch=None, epochs=None):\n",
    "        super().__init__()\n",
    "        \n",
    "        self.min_lr = min_lr\n",
    "        self.max_lr = max_lr\n",
    "        self.total_iterations = steps_per_epoch * epochs\n",
    "        self.iteration = 0\n",
    "        self.history = {}\n",
    "        \n",
    "    def clr(self):\n",
    "        '''Calculate the learning rate.'''\n",
    "        x = self.iteration / self.total_iterations \n",
    "        return self.min_lr + (self.max_lr-self.min_lr) * x\n",
    "        \n",
    "    def on_train_begin(self, logs=None):\n",
    "        '''Initialize the learning rate to the minimum value at the start of training.'''\n",
    "        logs = logs or {}\n",
    "        K.set_value(self.model.optimizer.lr, self.min_lr)\n",
    "        \n",
    "    def on_batch_end(self, epoch, logs=None):\n",
    "        '''Record previous batch statistics and update the learning rate.'''\n",
    "        logs = logs or {}\n",
    "        self.iteration += 1\n",
    "\n",
    "        self.history.setdefault('lr', []).append(K.get_value(self.model.optimizer.lr))\n",
    "        self.history.setdefault('iterations', []).append(self.iteration)\n",
    "\n",
    "        for k, v in logs.items():\n",
    "            self.history.setdefault(k, []).append(v)\n",
    "            \n",
    "        K.set_value(self.model.optimizer.lr, self.clr())\n",
    " \n",
    "    def plot_lr(self):\n",
    "        '''Helper function to quickly inspect the learning rate schedule.'''\n",
    "        plt.plot(self.history['iterations'], self.history['lr'])\n",
    "        plt.yscale('log')\n",
    "        plt.xlabel('Iteration')\n",
    "        plt.ylabel('Learning rate')\n",
    "        plt.show()\n",
    "        \n",
    "    def plot_loss(self):\n",
    "        '''Helper function to quickly observe the learning rate experiment results.'''\n",
    "        plt.plot(self.history['lr'], self.history['loss'])\n",
    "        plt.xscale('log')\n",
    "        plt.xlabel('Learning rate')\n",
    "        plt.ylabel('Loss')\n",
    "        plt.show()\n",
    "\n",
    "\n",
    "import numpy as np\n",
    "from keras.callbacks import LearningRateScheduler\n",
    "\n",
    "def step_decay_schedule(initial_lr=1e-3, decay_factor=0.75, step_size=10):\n",
    "    '''\n",
    "    Wrapper function to create a LearningRateScheduler with step decay schedule.\n",
    "    '''\n",
    "    def schedule(epoch):\n",
    "        return initial_lr * (decay_factor ** np.floor(epoch/step_size))\n",
    "    \n",
    "    return LearningRateScheduler(schedule)\n",
    "\n",
    "lr_sched = step_decay_schedule(initial_lr=1e-4, decay_factor=0.75, step_size=2)"
   ]
  },
  {
   "cell_type": "code",
   "execution_count": 16,
   "metadata": {},
   "outputs": [
    {
     "ename": "NameError",
     "evalue": "name 'LRFinder' is not defined",
     "output_type": "error",
     "traceback": [
      "\u001b[1;31m---------------------------------------------------------------------------\u001b[0m",
      "\u001b[1;31mNameError\u001b[0m                                 Traceback (most recent call last)",
      "\u001b[1;32m~\\AppData\\Local\\Temp/ipykernel_3132/3492234416.py\u001b[0m in \u001b[0;36m<module>\u001b[1;34m\u001b[0m\n\u001b[1;32m----> 1\u001b[1;33m lr_finder = LRFinder(min_lr=1e-5, \n\u001b[0m\u001b[0;32m      2\u001b[0m                     \u001b[0mmax_lr\u001b[0m\u001b[1;33m=\u001b[0m\u001b[1;36m1e-2\u001b[0m\u001b[1;33m,\u001b[0m\u001b[1;33m\u001b[0m\u001b[1;33m\u001b[0m\u001b[0m\n\u001b[0;32m      3\u001b[0m                     \u001b[0msteps_per_epoch\u001b[0m\u001b[1;33m=\u001b[0m\u001b[0mnp\u001b[0m\u001b[1;33m.\u001b[0m\u001b[0mceil\u001b[0m\u001b[1;33m(\u001b[0m\u001b[1;36m5\u001b[0m\u001b[1;33m/\u001b[0m\u001b[0mbatch_size\u001b[0m\u001b[1;33m)\u001b[0m\u001b[1;33m,\u001b[0m\u001b[1;33m\u001b[0m\u001b[1;33m\u001b[0m\u001b[0m\n\u001b[0;32m      4\u001b[0m                     epochs=3)\n\u001b[0;32m      5\u001b[0m \u001b[1;33m\u001b[0m\u001b[0m\n",
      "\u001b[1;31mNameError\u001b[0m: name 'LRFinder' is not defined"
     ]
    }
   ],
   "source": [
    "lr_finder = LRFinder(min_lr=1e-5, \n",
    "                    max_lr=1e-2, \n",
    "                    steps_per_epoch=np.ceil(5/batch_size), \n",
    "                    epochs=3)\n",
    "           "
   ]
  },
  {
   "cell_type": "code",
   "execution_count": null,
   "metadata": {},
   "outputs": [
    {
     "data": {
      "text/plain": [
       "[{'27232', 'Interictal'},\n",
       " {'11856', 'Preictal_One'},\n",
       " {'7848', 'Preictal_Two'},\n",
       " {'1752', 'Seizure'}]"
      ]
     },
     "metadata": {},
     "output_type": "display_data"
    }
   ],
   "source": [
    "def inspect_class_distribution():\n",
    "    dist_list = []\n",
    "    for i in os.listdir(train_path):\n",
    "        classname = i\n",
    "        number_of_png = str(len([x for x in os.listdir(train_path + \"/\" + i)]))\n",
    "        dict = {classname, number_of_png}\n",
    "        dist_list.append(dict)\n",
    "    return dist_list\n",
    "\n",
    "inspect_class_distribution()"
   ]
  },
  {
   "cell_type": "code",
   "execution_count": 22,
   "metadata": {},
   "outputs": [
    {
     "name": "stdout",
     "output_type": "stream",
     "text": [
      "Epoch 1/10\n",
      "1947/1947 [==============================] - 131s 67ms/step - loss: 1.3868 - accuracy: 0.2208 - val_loss: 1.3830 - val_accuracy: 0.5594\n",
      "Epoch 2/10\n",
      "1947/1947 [==============================] - 131s 67ms/step - loss: 1.3869 - accuracy: 0.2831 - val_loss: 1.3872 - val_accuracy: 0.2435\n",
      "Epoch 3/10\n",
      "1947/1947 [==============================] - 131s 67ms/step - loss: 1.3867 - accuracy: 0.2078 - val_loss: 1.3845 - val_accuracy: 0.5592\n",
      "Epoch 4/10\n",
      "1947/1947 [==============================] - 135s 69ms/step - loss: 1.3864 - accuracy: 0.2240 - val_loss: 1.3839 - val_accuracy: 0.1611\n",
      "Epoch 5/10\n",
      "1947/1947 [==============================] - 131s 67ms/step - loss: 1.3864 - accuracy: 0.2857 - val_loss: 1.3914 - val_accuracy: 0.1612\n",
      "Epoch 6/10\n",
      "1947/1947 [==============================] - 134s 69ms/step - loss: 1.3861 - accuracy: 0.1248 - val_loss: 1.3754 - val_accuracy: 0.5595\n",
      "Epoch 7/10\n",
      "1947/1947 [==============================] - 132s 68ms/step - loss: 1.3867 - accuracy: 0.2181 - val_loss: 1.3826 - val_accuracy: 0.5599\n",
      "Epoch 8/10\n",
      "1947/1947 [==============================] - 79893s 41s/step - loss: 1.3867 - accuracy: 0.3426 - val_loss: 1.3970 - val_accuracy: 0.0359\n",
      "Epoch 9/10\n",
      "1947/1947 [==============================] - 638s 328ms/step - loss: 1.3863 - accuracy: 0.1922 - val_loss: 1.3900 - val_accuracy: 0.0359\n",
      "Epoch 10/10\n",
      "1947/1947 [==============================] - 614s 315ms/step - loss: 1.3864 - accuracy: 0.1431 - val_loss: 1.3782 - val_accuracy: 0.5592\n"
     ]
    }
   ],
   "source": [
    "history = model.fit(\n",
    "    inception_train_gen,\n",
    "    epochs=10,\n",
    "    steps_per_epoch = inception_train_gen.samples//batch_size, \n",
    "    validation_data=inception_validation_gen, \n",
    "    validation_steps = inception_validation_gen.samples//batch_size,\n",
    "    #callbacks=[lr_finder]\n",
    "    class_weight=class_weights\n",
    "    \n",
    ")"
   ]
  },
  {
   "cell_type": "code",
   "execution_count": 26,
   "metadata": {},
   "outputs": [],
   "source": [
    "import PIL\n",
    "from pathlib import Path\n",
    "from PIL import UnidentifiedImageError\n",
    "\n",
    "path = Path(train_path).rglob(\"*.png\")\n",
    "for img_p in path:\n",
    "    try:\n",
    "        img = PIL.Image.open(img_p)\n",
    "    except PIL.UnidentifiedImageError:\n",
    "            print(img_p)"
   ]
  },
  {
   "cell_type": "code",
   "execution_count": 27,
   "metadata": {},
   "outputs": [],
   "source": [
    "#lr_finder.plot_loss()"
   ]
  },
  {
   "cell_type": "code",
   "execution_count": 32,
   "metadata": {},
   "outputs": [],
   "source": [
    "#single_inc_model.save(\"vgg16_20epoc_NFFT.h5\")"
   ]
  },
  {
   "cell_type": "code",
   "execution_count": 33,
   "metadata": {},
   "outputs": [],
   "source": [
    "with open('history.txt', 'w') as f:\n",
    "    f.write(str(history.history))"
   ]
  },
  {
   "cell_type": "code",
   "execution_count": 30,
   "metadata": {},
   "outputs": [
    {
     "data": {
      "text/plain": [
       "<Figure size 216x288 with 0 Axes>"
      ]
     },
     "metadata": {},
     "output_type": "display_data"
    },
    {
     "data": {
      "image/png": "[encoded data removed]",
      "text/plain": [
       "<Figure size 720x720 with 4 Axes>"
      ]
     },
     "metadata": {
      "needs_background": "light"
     },
     "output_type": "display_data"
    }
   ],
   "source": [
    "plt.figure(figsize=(3,4))\n",
    "fig, axs = plt.subplots(2,2, figsize=(10,10))\n",
    "plt.tight_layout()\n",
    "axs[0,0].set_title('acc')\n",
    "axs[0,0].plot(history.history['accuracy'], color='red')\n",
    "axs[0,1].set_title('loss')\n",
    "axs[0,1].plot(history.history['loss'], color='red')\n",
    "axs[1,0].set_title('val_acc')\n",
    "axs[1,0].plot(history.history['val_accuracy'], color='red')\n",
    "axs[1,1].set_title('val_loss')\n",
    "axs[1,1].plot(history.history['val_loss'], color='red')\n",
    "plt.savefig(\"eval.png\")"
   ]
  }
 ],
 "metadata": {
  "interpreter": {
   "hash": "6e7f8d72e760dd7e6e3caedb330214dc76b4fc22099e9082eefd214a35743a05"
  },
  "kernelspec": {
   "display_name": "Python 3.7.11 64-bit ('AI_keras_env_GPU': conda)",
   "name": "python3"
  },
  "language_info": {
   "codemirror_mode": {
    "name": "ipython",
    "version": 3
   },
   "file_extension": ".py",
   "mimetype": "text/x-python",
   "name": "python",
   "nbconvert_exporter": "python",
   "pygments_lexer": "ipython3",
   "version": "3.7.11"
  },
  "orig_nbformat": 4
 },
 "nbformat": 4,
 "nbformat_minor": 2
}
