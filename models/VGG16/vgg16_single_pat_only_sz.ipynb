{
 "cells": [
  {
   "cell_type": "code",
   "execution_count": 2,
   "metadata": {},
   "outputs": [
    {
     "name": "stdout",
     "output_type": "stream",
     "text": [
      "Tensor Flow Version: 2.6.0\n",
      "Keras Version: 2.6.0\n",
      "\n",
      "Python 3.7.11 (default, Jul 27 2021, 09:42:29) [MSC v.1916 64 bit (AMD64)]\n",
      "Pandas 1.3.3\n",
      "Scikit-Learn 0.24.2\n",
      "GPU is available\n"
     ]
    }
   ],
   "source": [
    "# What version of Python do you have?\n",
    "import sys\n",
    "import os\n",
    "import tensorflow.keras\n",
    "import pandas as pd\n",
    "import sklearn as sk\n",
    "import tensorflow as tf\n",
    "import numpy as np\n",
    "import re\n",
    "import mne\n",
    "import pathlib\n",
    "import openpyxl\n",
    "from datetime import datetime\n",
    "import pytz\n",
    "import random\n",
    "import os\n",
    "from skimage.restoration import (denoise_wavelet, estimate_sigma)\n",
    "from pathlib import Path\n",
    "from tensorflow.keras.preprocessing.image import ImageDataGenerator\n",
    "from tensorflow.keras import layers, models, Sequential\n",
    "from matplotlib import pyplot as plt\n",
    "from sklearn.metrics import classification_report, multilabel_confusion_matrix, ConfusionMatrixDisplay, confusion_matrix, plot_confusion_matrix\n",
    "from PIL import Image\n",
    "%matplotlib inline\n",
    "\n",
    "print(f\"Tensor Flow Version: {tf.__version__}\")\n",
    "print(f\"Keras Version: {tensorflow.keras.__version__}\")\n",
    "print()\n",
    "print(f\"Python {sys.version}\")\n",
    "print(f\"Pandas {pd.__version__}\")\n",
    "print(f\"Scikit-Learn {sk.__version__}\")\n",
    "gpu = len(tf.config.list_physical_devices('GPU'))>0\n",
    "print(\"GPU is\", \"available\" if gpu else \"NOT AVAILABLE\")"
   ]
  },
  {
   "cell_type": "code",
   "execution_count": 3,
   "metadata": {},
   "outputs": [
    {
     "data": {
      "text/plain": [
       "'E:\\\\Database'"
      ]
     },
     "execution_count": 3,
     "metadata": {},
     "output_type": "execute_result"
    }
   ],
   "source": [
    "os.chdir(\"E:\\Database\")\n",
    "train_path = \"E:\\Database\\All_channel_chb_01/train\"\n",
    "test_path = \"E:\\Database\\All_channel_chb_01/test\"\n",
    "batch_size = 10\n",
    "resnet152_input_shape = (224, 224)\n",
    "\n",
    "inceptionV3_input_shape = (299, 299)\n",
    "os.getcwd()"
   ]
  },
  {
   "cell_type": "code",
   "execution_count": 6,
   "metadata": {},
   "outputs": [],
   "source": [
    "# import os\n",
    "# path = '/Users/myName/Desktop/directory'\n",
    "\n",
    "# count = 0\n",
    "# for folder in os.listdir(train_path):\n",
    "#     print(folder)\n",
    "#     for file in os.listdir(train_path + \"/\" + folder):\n",
    "#         print(file)\n",
    "#         print(len(file))\n",
    "#         if(len(file)> 25):\n",
    "#             try:\n",
    "#                 x = file[:-10] + \".png\"\n",
    "#                 os.rename(train_path + \"/\" + folder + \"/\" + file, train_path + \"/\" + folder + \"/\" + x)\n",
    "#                 os.remove(train_path + \"/\" + folder + \"/\" + file)\n",
    "#             except:\n",
    "#                 pass\n",
    "#         print(x)"
   ]
  },
  {
   "cell_type": "code",
   "execution_count": 3,
   "metadata": {},
   "outputs": [],
   "source": [
    "# train_path = \"../../../windows_01_only_sz/win_chb_01\"\n",
    "# test_path = \"../../../psd_dual_channel_10_patient/windows/test\"\n",
    "# resnet152_input_shape = (224, 224)\n",
    "# inceptionV3_input_shape = (299, 299)\n",
    "# batch_size = 20"
   ]
  },
  {
   "cell_type": "code",
   "execution_count": 4,
   "metadata": {},
   "outputs": [
    {
     "name": "stdout",
     "output_type": "stream",
     "text": [
      "Interictal\n",
      "Preictal_Two\n",
      "Preictal_One\n",
      "Seizure\n"
     ]
    }
   ],
   "source": [
    "for f in os.listdir(train_path):\n",
    "    print(f)"
   ]
  },
  {
   "cell_type": "code",
   "execution_count": 5,
   "metadata": {},
   "outputs": [],
   "source": [
    "from tensorflow.keras.applications import VGG16, ResNet152"
   ]
  },
  {
   "cell_type": "code",
   "execution_count": 6,
   "metadata": {},
   "outputs": [
    {
     "data": {
      "text/plain": [
       "{'Interictal': '62402',\n",
       " 'Preictal_Two': '17361',\n",
       " 'Preictal_One': '24722',\n",
       " 'Seizure': '4089'}"
      ]
     },
     "execution_count": 6,
     "metadata": {},
     "output_type": "execute_result"
    }
   ],
   "source": [
    "def inspect_class_distribution():\n",
    "    dist_list = {}\n",
    "    for i in os.listdir(train_path):\n",
    "        classname = i\n",
    "        number_of_png = str(len([x for x in os.listdir(train_path + \"/\" + i)]))\n",
    "        dict = {classname, number_of_png}\n",
    "        dist_list[classname] =  number_of_png\n",
    "    return dist_list\n",
    "\n",
    "inspect_class_distribution()"
   ]
  },
  {
   "cell_type": "code",
   "execution_count": 7,
   "metadata": {},
   "outputs": [],
   "source": [
    "max_n_images = int(inspect_class_distribution().get('Seizure'))"
   ]
  },
  {
   "cell_type": "code",
   "execution_count": 8,
   "metadata": {},
   "outputs": [
    {
     "name": "stdout",
     "output_type": "stream",
     "text": [
      "No of unique items are: 99\n"
     ]
    }
   ],
   "source": [
    "myList = random.sample(range(1, 100),100-1)\n",
    "\n",
    "# taking an input list\n",
    "l1 = []\n",
    "  \n",
    "# taking an counter\n",
    "count = 0\n",
    "  \n",
    "# travesing the array\n",
    "for item in myList:\n",
    "    if item not in l1:\n",
    "        count += 1\n",
    "        l1.append(item)\n",
    "  \n",
    "# printing the output\n",
    "print(\"No of unique items are:\", count)"
   ]
  },
  {
   "cell_type": "code",
   "execution_count": 9,
   "metadata": {},
   "outputs": [],
   "source": [
    "path_list = random.sample(os.listdir(train_path + \"/Interictal\"), 2)"
   ]
  },
  {
   "cell_type": "code",
   "execution_count": 10,
   "metadata": {},
   "outputs": [],
   "source": [
    "def limit_data(data_dir,n=max_n_images):\n",
    "    a=[]\n",
    "    for i in os.listdir(data_dir):\n",
    "        image_path = random.sample(os.listdir(data_dir+'/'+i), n)\n",
    "        for k,j in enumerate(image_path):\n",
    "            if k>n:continue\n",
    "            a.append((f'{data_dir}/{i}/{j}',i))\n",
    "    return pd.DataFrame(a,columns=['filename','class'])"
   ]
  },
  {
   "cell_type": "code",
   "execution_count": 11,
   "metadata": {},
   "outputs": [],
   "source": [
    "balanced_data = limit_data(train_path)"
   ]
  },
  {
   "cell_type": "code",
   "execution_count": 12,
   "metadata": {},
   "outputs": [
    {
     "data": {
      "text/html": [
       "<div>\n",
       "<style scoped>\n",
       "    .dataframe tbody tr th:only-of-type {\n",
       "        vertical-align: middle;\n",
       "    }\n",
       "\n",
       "    .dataframe tbody tr th {\n",
       "        vertical-align: top;\n",
       "    }\n",
       "\n",
       "    .dataframe thead th {\n",
       "        text-align: right;\n",
       "    }\n",
       "</style>\n",
       "<table border=\"1\" class=\"dataframe\">\n",
       "  <thead>\n",
       "    <tr style=\"text-align: right;\">\n",
       "      <th></th>\n",
       "      <th>filename</th>\n",
       "      <th>class</th>\n",
       "    </tr>\n",
       "  </thead>\n",
       "  <tbody>\n",
       "    <tr>\n",
       "      <th>0</th>\n",
       "      <td>E:\\Database\\All_channel_chb_01/train/Intericta...</td>\n",
       "      <td>Interictal</td>\n",
       "    </tr>\n",
       "    <tr>\n",
       "      <th>1</th>\n",
       "      <td>E:\\Database\\All_channel_chb_01/train/Intericta...</td>\n",
       "      <td>Interictal</td>\n",
       "    </tr>\n",
       "    <tr>\n",
       "      <th>2</th>\n",
       "      <td>E:\\Database\\All_channel_chb_01/train/Intericta...</td>\n",
       "      <td>Interictal</td>\n",
       "    </tr>\n",
       "    <tr>\n",
       "      <th>3</th>\n",
       "      <td>E:\\Database\\All_channel_chb_01/train/Intericta...</td>\n",
       "      <td>Interictal</td>\n",
       "    </tr>\n",
       "    <tr>\n",
       "      <th>4</th>\n",
       "      <td>E:\\Database\\All_channel_chb_01/train/Intericta...</td>\n",
       "      <td>Interictal</td>\n",
       "    </tr>\n",
       "  </tbody>\n",
       "</table>\n",
       "</div>"
      ],
      "text/plain": [
       "                                            filename       class\n",
       "0  E:\\Database\\All_channel_chb_01/train/Intericta...  Interictal\n",
       "1  E:\\Database\\All_channel_chb_01/train/Intericta...  Interictal\n",
       "2  E:\\Database\\All_channel_chb_01/train/Intericta...  Interictal\n",
       "3  E:\\Database\\All_channel_chb_01/train/Intericta...  Interictal\n",
       "4  E:\\Database\\All_channel_chb_01/train/Intericta...  Interictal"
      ]
     },
     "execution_count": 12,
     "metadata": {},
     "output_type": "execute_result"
    }
   ],
   "source": [
    "balanced_data.head()"
   ]
  },
  {
   "cell_type": "code",
   "execution_count": 13,
   "metadata": {},
   "outputs": [
    {
     "data": {
      "text/html": [
       "<div>\n",
       "<style scoped>\n",
       "    .dataframe tbody tr th:only-of-type {\n",
       "        vertical-align: middle;\n",
       "    }\n",
       "\n",
       "    .dataframe tbody tr th {\n",
       "        vertical-align: top;\n",
       "    }\n",
       "\n",
       "    .dataframe thead th {\n",
       "        text-align: right;\n",
       "    }\n",
       "</style>\n",
       "<table border=\"1\" class=\"dataframe\">\n",
       "  <thead>\n",
       "    <tr style=\"text-align: right;\">\n",
       "      <th></th>\n",
       "      <th>filename</th>\n",
       "      <th>class</th>\n",
       "    </tr>\n",
       "  </thead>\n",
       "  <tbody>\n",
       "    <tr>\n",
       "      <th>1498</th>\n",
       "      <td>E:\\Database\\All_channel_chb_01/train/Intericta...</td>\n",
       "      <td>Interictal</td>\n",
       "    </tr>\n",
       "    <tr>\n",
       "      <th>15341</th>\n",
       "      <td>E:\\Database\\All_channel_chb_01/train/Seizure/c...</td>\n",
       "      <td>Seizure</td>\n",
       "    </tr>\n",
       "    <tr>\n",
       "      <th>1599</th>\n",
       "      <td>E:\\Database\\All_channel_chb_01/train/Intericta...</td>\n",
       "      <td>Interictal</td>\n",
       "    </tr>\n",
       "    <tr>\n",
       "      <th>497</th>\n",
       "      <td>E:\\Database\\All_channel_chb_01/train/Intericta...</td>\n",
       "      <td>Interictal</td>\n",
       "    </tr>\n",
       "    <tr>\n",
       "      <th>7571</th>\n",
       "      <td>E:\\Database\\All_channel_chb_01/train/Preictal_...</td>\n",
       "      <td>Preictal_Two</td>\n",
       "    </tr>\n",
       "  </tbody>\n",
       "</table>\n",
       "</div>"
      ],
      "text/plain": [
       "                                                filename         class\n",
       "1498   E:\\Database\\All_channel_chb_01/train/Intericta...    Interictal\n",
       "15341  E:\\Database\\All_channel_chb_01/train/Seizure/c...       Seizure\n",
       "1599   E:\\Database\\All_channel_chb_01/train/Intericta...    Interictal\n",
       "497    E:\\Database\\All_channel_chb_01/train/Intericta...    Interictal\n",
       "7571   E:\\Database\\All_channel_chb_01/train/Preictal_...  Preictal_Two"
      ]
     },
     "execution_count": 13,
     "metadata": {},
     "output_type": "execute_result"
    }
   ],
   "source": [
    "from sklearn.utils import shuffle\n",
    "\n",
    "balanced_data = shuffle(balanced_data)\n",
    "balanced_data.head()"
   ]
  },
  {
   "cell_type": "code",
   "execution_count": 14,
   "metadata": {},
   "outputs": [
    {
     "name": "stdout",
     "output_type": "stream",
     "text": [
      "4\n"
     ]
    },
    {
     "data": {
      "text/plain": [
       "16356"
      ]
     },
     "execution_count": 14,
     "metadata": {},
     "output_type": "execute_result"
    }
   ],
   "source": [
    "print(balanced_data['class'].nunique())\n",
    "balanced_data['filename'].nunique()"
   ]
  },
  {
   "cell_type": "code",
   "execution_count": 15,
   "metadata": {},
   "outputs": [
    {
     "name": "stdout",
     "output_type": "stream",
     "text": [
      "Model: \"vgg16\"\n",
      "_________________________________________________________________\n",
      "Layer (type)                 Output Shape              Param #   \n",
      "=================================================================\n",
      "input_1 (InputLayer)         [(None, 299, 299, 3)]     0         \n",
      "_________________________________________________________________\n",
      "block1_conv1 (Conv2D)        (None, 299, 299, 64)      1792      \n",
      "_________________________________________________________________\n",
      "block1_conv2 (Conv2D)        (None, 299, 299, 64)      36928     \n",
      "_________________________________________________________________\n",
      "block1_pool (MaxPooling2D)   (None, 149, 149, 64)      0         \n",
      "_________________________________________________________________\n",
      "block2_conv1 (Conv2D)        (None, 149, 149, 128)     73856     \n",
      "_________________________________________________________________\n",
      "block2_conv2 (Conv2D)        (None, 149, 149, 128)     147584    \n",
      "_________________________________________________________________\n",
      "block2_pool (MaxPooling2D)   (None, 74, 74, 128)       0         \n",
      "_________________________________________________________________\n",
      "block3_conv1 (Conv2D)        (None, 74, 74, 256)       295168    \n",
      "_________________________________________________________________\n",
      "block3_conv2 (Conv2D)        (None, 74, 74, 256)       590080    \n",
      "_________________________________________________________________\n",
      "block3_conv3 (Conv2D)        (None, 74, 74, 256)       590080    \n",
      "_________________________________________________________________\n",
      "block3_pool (MaxPooling2D)   (None, 37, 37, 256)       0         \n",
      "_________________________________________________________________\n",
      "block4_conv1 (Conv2D)        (None, 37, 37, 512)       1180160   \n",
      "_________________________________________________________________\n",
      "block4_conv2 (Conv2D)        (None, 37, 37, 512)       2359808   \n",
      "_________________________________________________________________\n",
      "block4_conv3 (Conv2D)        (None, 37, 37, 512)       2359808   \n",
      "_________________________________________________________________\n",
      "block4_pool (MaxPooling2D)   (None, 18, 18, 512)       0         \n",
      "_________________________________________________________________\n",
      "block5_conv1 (Conv2D)        (None, 18, 18, 512)       2359808   \n",
      "_________________________________________________________________\n",
      "block5_conv2 (Conv2D)        (None, 18, 18, 512)       2359808   \n",
      "_________________________________________________________________\n",
      "block5_conv3 (Conv2D)        (None, 18, 18, 512)       2359808   \n",
      "_________________________________________________________________\n",
      "block5_pool (MaxPooling2D)   (None, 9, 9, 512)         0         \n",
      "=================================================================\n",
      "Total params: 14,714,688\n",
      "Trainable params: 0\n",
      "Non-trainable params: 14,714,688\n",
      "_________________________________________________________________\n"
     ]
    }
   ],
   "source": [
    "vgg16 = VGG16(\n",
    "    weights='imagenet',\n",
    "    include_top=False,\n",
    "    input_shape = (299, 299, 3)\n",
    ")\n",
    "\n",
    "for layer in vgg16.layers:\n",
    "    layer.trainable = False\n",
    "\n",
    "vgg16.summary()"
   ]
  },
  {
   "cell_type": "code",
   "execution_count": 18,
   "metadata": {},
   "outputs": [],
   "source": [
    "model = Sequential()\n",
    "\n",
    "model.add(vgg16)\n",
    "model.add(layers.Flatten())\n",
    "model.add(layers.Dense(1024, activation='relu'))\n",
    "model.add(layers.Dropout(0.2))\n",
    "model.add(layers.Dense(512, activation='relu'))\n",
    "model.add(layers.Dropout(0.2))\n",
    "model.add(layers.Dense(206, activation='relu'))\n",
    "model.add(layers.Dense(4, activation='softmax'))"
   ]
  },
  {
   "cell_type": "code",
   "execution_count": 19,
   "metadata": {},
   "outputs": [
    {
     "name": "stdout",
     "output_type": "stream",
     "text": [
      "Model: \"sequential\"\n",
      "_________________________________________________________________\n",
      "Layer (type)                 Output Shape              Param #   \n",
      "=================================================================\n",
      "vgg16 (Functional)           (None, 9, 9, 512)         14714688  \n",
      "_________________________________________________________________\n",
      "flatten (Flatten)            (None, 41472)             0         \n",
      "_________________________________________________________________\n",
      "dense (Dense)                (None, 1024)              42468352  \n",
      "_________________________________________________________________\n",
      "dropout (Dropout)            (None, 1024)              0         \n",
      "_________________________________________________________________\n",
      "dense_1 (Dense)              (None, 512)               524800    \n",
      "_________________________________________________________________\n",
      "dropout_1 (Dropout)          (None, 512)               0         \n",
      "_________________________________________________________________\n",
      "dense_2 (Dense)              (None, 206)               105678    \n",
      "_________________________________________________________________\n",
      "dense_3 (Dense)              (None, 4)                 828       \n",
      "=================================================================\n",
      "Total params: 57,814,346\n",
      "Trainable params: 43,099,658\n",
      "Non-trainable params: 14,714,688\n",
      "_________________________________________________________________\n"
     ]
    }
   ],
   "source": [
    "model.summary()"
   ]
  },
  {
   "cell_type": "code",
   "execution_count": 16,
   "metadata": {},
   "outputs": [],
   "source": [
    "from tensorflow.keras.applications.resnet import preprocess_input"
   ]
  },
  {
   "cell_type": "code",
   "execution_count": 17,
   "metadata": {},
   "outputs": [],
   "source": [
    "generator = ImageDataGenerator(\n",
    "  validation_split=0.2,\n",
    "  rescale=1.255,\n",
    "  zoom_range=0.2\n",
    ")"
   ]
  },
  {
   "cell_type": "code",
   "execution_count": 18,
   "metadata": {},
   "outputs": [
    {
     "name": "stdout",
     "output_type": "stream",
     "text": [
      "Found 13085 validated image filenames belonging to 4 classes.\n"
     ]
    }
   ],
   "source": [
    "inception_train_gen = generator.flow_from_dataframe(\n",
    "    balanced_data,\n",
    "    batch_size=batch_size, \n",
    "    target_size=inceptionV3_input_shape, \n",
    "    shuffle=True,\n",
    "    subset=\"training\")"
   ]
  },
  {
   "cell_type": "code",
   "execution_count": 19,
   "metadata": {},
   "outputs": [
    {
     "name": "stdout",
     "output_type": "stream",
     "text": [
      "Found 3271 validated image filenames belonging to 4 classes.\n"
     ]
    }
   ],
   "source": [
    "inception_validation_gen = generator.flow_from_dataframe(\n",
    "    balanced_data,\n",
    "    batch_size=batch_size, \n",
    "    target_size=inceptionV3_input_shape, \n",
    "    shuffle=True,\n",
    " #   class_mode=\"binary\",\n",
    "    subset=\"validation\")"
   ]
  },
  {
   "cell_type": "code",
   "execution_count": 20,
   "metadata": {},
   "outputs": [
    {
     "data": {
      "text/plain": [
       "[3, 3, 2, 1, 3, 0, 2, 2, 0, 0]"
      ]
     },
     "execution_count": 20,
     "metadata": {},
     "output_type": "execute_result"
    }
   ],
   "source": [
    "x = 12000\n",
    "inception_train_gen.classes[x:x+10]"
   ]
  },
  {
   "cell_type": "code",
   "execution_count": 32,
   "metadata": {},
   "outputs": [],
   "source": [
    "model = models.Sequential()\n",
    "model.add(layers.Conv2D(32, (6, 6), activation='relu',\n",
    "                        input_shape=(299,299,3)))\n",
    "model.add(layers.MaxPooling2D((3, 3)))\n",
    "model.add(layers.Conv2D(64, (6, 6), activation='relu'))\n",
    "model.add(layers.MaxPooling2D((3, 3)))\n",
    "model.add(layers.Conv2D(512, (6, 6), activation='relu'))\n",
    "model.add(layers.MaxPooling2D((3, 3)))\n",
    "model.add(layers.Conv2D(256, (6, 6), activation='relu'))\n",
    "model.add(layers.MaxPooling2D((3, 3)))\n",
    "model.add(layers.Flatten())\n",
    "model.add(layers.Dense(256, activation='relu'))\n",
    "model.add(layers.Dense(512, activation='relu'))\n",
    "model.add(layers.Dropout(0.3))\n",
    "model.add(layers.Dense(4, activation='softmax'))"
   ]
  },
  {
   "cell_type": "code",
   "execution_count": 24,
   "metadata": {},
   "outputs": [],
   "source": [
    "#model.summary()"
   ]
  },
  {
   "cell_type": "code",
   "execution_count": 27,
   "metadata": {},
   "outputs": [],
   "source": [
    "#LOAD MODEL\n",
    "model = tf.keras.models.load_model(\"custom_cnn.h5\")"
   ]
  },
  {
   "cell_type": "code",
   "execution_count": 33,
   "metadata": {},
   "outputs": [],
   "source": [
    "from tensorflow.keras.optimizers import Adam, SGD, RMSprop\n",
    "opt = Adam(0.00001)\n",
    "\n",
    "model.compile(\n",
    "    loss=\"categorical_crossentropy\",\n",
    "    optimizer=opt,\n",
    "    metrics=['accuracy']\n",
    ")"
   ]
  },
  {
   "cell_type": "code",
   "execution_count": 23,
   "metadata": {},
   "outputs": [],
   "source": [
    "import keras.backend as K\n",
    "from keras.callbacks import Callback\n",
    "\n",
    "\n",
    "class LRFinder(Callback):\n",
    "    \n",
    "    '''\n",
    "    A simple callback for finding the optimal learning rate range for your model + dataset. \n",
    "    \n",
    "    # Usage\n",
    "        ```python\n",
    "            lr_finder = LRFinder(min_lr=1e-5, \n",
    "                                 max_lr=1e-2, \n",
    "                                 steps_per_epoch=np.ceil(epoch_size/batch_size), \n",
    "                                 epochs=3)\n",
    "            model.fit(X_train, Y_train, callbacks=[lr_finder])\n",
    "            \n",
    "            lr_finder.plot_loss()\n",
    "        ```\n",
    "    \n",
    "    # Arguments\n",
    "        min_lr: The lower bound of the learning rate range for the experiment.\n",
    "        max_lr: The upper bound of the learning rate range for the experiment.\n",
    "        steps_per_epoch: Number of mini-batches in the dataset. Calculated as `np.ceil(epoch_size/batch_size)`. \n",
    "        epochs: Number of epochs to run experiment. Usually between 2 and 4 epochs is sufficient. \n",
    "        \n",
    "    # References\n",
    "        Blog post: jeremyjordan.me/nn-learning-rate\n",
    "        Original paper: https://arxiv.org/abs/1506.01186\n",
    "    '''\n",
    "    \n",
    "    def __init__(self, min_lr=1e-5, max_lr=1e-2, steps_per_epoch=None, epochs=None):\n",
    "        super().__init__()\n",
    "        \n",
    "        self.min_lr = min_lr\n",
    "        self.max_lr = max_lr\n",
    "        self.total_iterations = steps_per_epoch * epochs\n",
    "        self.iteration = 0\n",
    "        self.history = {}\n",
    "        \n",
    "    def clr(self):\n",
    "        '''Calculate the learning rate.'''\n",
    "        x = self.iteration / self.total_iterations \n",
    "        return self.min_lr + (self.max_lr-self.min_lr) * x\n",
    "        \n",
    "    def on_train_begin(self, logs=None):\n",
    "        '''Initialize the learning rate to the minimum value at the start of training.'''\n",
    "        logs = logs or {}\n",
    "        K.set_value(self.model.optimizer.lr, self.min_lr)\n",
    "        \n",
    "    def on_batch_end(self, epoch, logs=None):\n",
    "        '''Record previous batch statistics and update the learning rate.'''\n",
    "        logs = logs or {}\n",
    "        self.iteration += 1\n",
    "\n",
    "        self.history.setdefault('lr', []).append(K.get_value(self.model.optimizer.lr))\n",
    "        self.history.setdefault('iterations', []).append(self.iteration)\n",
    "\n",
    "        for k, v in logs.items():\n",
    "            self.history.setdefault(k, []).append(v)\n",
    "            \n",
    "        K.set_value(self.model.optimizer.lr, self.clr())\n",
    " \n",
    "    def plot_lr(self):\n",
    "        '''Helper function to quickly inspect the learning rate schedule.'''\n",
    "        plt.plot(self.history['iterations'], self.history['lr'])\n",
    "        plt.yscale('log')\n",
    "        plt.xlabel('Iteration')\n",
    "        plt.ylabel('Learning rate')\n",
    "        plt.show()\n",
    "        \n",
    "    def plot_loss(self):\n",
    "        '''Helper function to quickly observe the learning rate experiment results.'''\n",
    "        plt.plot(self.history['lr'], self.history['loss'])\n",
    "        plt.xscale('log')\n",
    "        plt.xlabel('Learning rate')\n",
    "        plt.ylabel('Loss')\n",
    "        plt.show()\n",
    "\n",
    "\n",
    "import numpy as np\n",
    "from keras.callbacks import LearningRateScheduler\n",
    "\n",
    "def step_decay_schedule(initial_lr=1e-3, decay_factor=0.75, step_size=10):\n",
    "    '''\n",
    "    Wrapper function to create a LearningRateScheduler with step decay schedule.\n",
    "    '''\n",
    "    def schedule(epoch):\n",
    "        return initial_lr * (decay_factor ** np.floor(epoch/step_size))\n",
    "    \n",
    "    return LearningRateScheduler(schedule)\n",
    "\n",
    "lr_sched = step_decay_schedule(initial_lr=1e-4, decay_factor=0.75, step_size=2)"
   ]
  },
  {
   "cell_type": "code",
   "execution_count": 39,
   "metadata": {},
   "outputs": [],
   "source": [
    "# lr_finder = LRFinder(min_lr=1e-5, \n",
    "#                     max_lr=1e-2, \n",
    "#                     steps_per_epoch=np.ceil(5/batch_size), \n",
    "#                     epochs=3)"
   ]
  },
  {
   "cell_type": "code",
   "execution_count": 26,
   "metadata": {},
   "outputs": [
    {
     "data": {
      "text/plain": [
       "[{'62402', 'Interictal'},\n",
       " {'17361', 'Preictal_Two'},\n",
       " {'24722', 'Preictal_One'},\n",
       " {'4089', 'Seizure'}]"
      ]
     },
     "execution_count": 26,
     "metadata": {},
     "output_type": "execute_result"
    }
   ],
   "source": [
    "def inspect_class_distribution():\n",
    "    dist_list = []\n",
    "    for i in os.listdir(train_path):\n",
    "        classname = i\n",
    "        number_of_png = str(len([x for x in os.listdir(train_path + \"/\" + i)]))\n",
    "        dict = {classname, number_of_png}\n",
    "        dist_list.append(dict)\n",
    "    return dist_list\n",
    "\n",
    "inspect_class_distribution()"
   ]
  },
  {
   "cell_type": "code",
   "execution_count": 39,
   "metadata": {},
   "outputs": [
    {
     "name": "stdout",
     "output_type": "stream",
     "text": [
      "Epoch 1/20\n",
      "1308/1308 [==============================] - 260s 198ms/step - loss: 0.7105 - accuracy: 0.6795 - val_loss: 1.0850 - val_accuracy: 0.5642\n",
      "Epoch 2/20\n",
      "1308/1308 [==============================] - 262s 200ms/step - loss: 0.7046 - accuracy: 0.6814 - val_loss: 1.0965 - val_accuracy: 0.5566\n",
      "Epoch 3/20\n",
      "1308/1308 [==============================] - 262s 200ms/step - loss: 0.6936 - accuracy: 0.6879 - val_loss: 1.1061 - val_accuracy: 0.5593\n",
      "Epoch 4/20\n",
      "1308/1308 [==============================] - 263s 201ms/step - loss: 0.6911 - accuracy: 0.6907 - val_loss: 1.0585 - val_accuracy: 0.5706\n",
      "Epoch 5/20\n",
      "1308/1308 [==============================] - 261s 200ms/step - loss: 0.6790 - accuracy: 0.6933 - val_loss: 1.1277 - val_accuracy: 0.5709\n",
      "Epoch 6/20\n",
      "1308/1308 [==============================] - 243s 186ms/step - loss: 0.6793 - accuracy: 0.6937 - val_loss: 1.0617 - val_accuracy: 0.5654\n",
      "Epoch 7/20\n",
      "1308/1308 [==============================] - 242s 185ms/step - loss: 0.6666 - accuracy: 0.7046 - val_loss: 1.0966 - val_accuracy: 0.5716\n",
      "Epoch 8/20\n",
      "1308/1308 [==============================] - 246s 188ms/step - loss: 0.6590 - accuracy: 0.7084 - val_loss: 1.2301 - val_accuracy: 0.5648\n",
      "Epoch 9/20\n",
      "1308/1308 [==============================] - 242s 185ms/step - loss: 0.6522 - accuracy: 0.7126 - val_loss: 1.1409 - val_accuracy: 0.5679\n",
      "Epoch 10/20\n",
      "1308/1308 [==============================] - 241s 184ms/step - loss: 0.6473 - accuracy: 0.7109 - val_loss: 1.1078 - val_accuracy: 0.5801\n",
      "Epoch 11/20\n",
      "1308/1308 [==============================] - 244s 186ms/step - loss: 0.6377 - accuracy: 0.7224 - val_loss: 1.1168 - val_accuracy: 0.5654\n",
      "Epoch 12/20\n",
      "1308/1308 [==============================] - 242s 185ms/step - loss: 0.6313 - accuracy: 0.7190 - val_loss: 1.1265 - val_accuracy: 0.5667\n",
      "Epoch 13/20\n",
      "1308/1308 [==============================] - 242s 185ms/step - loss: 0.6214 - accuracy: 0.7204 - val_loss: 1.1528 - val_accuracy: 0.5587\n",
      "Epoch 14/20\n",
      "1308/1308 [==============================] - 241s 184ms/step - loss: 0.6206 - accuracy: 0.7242 - val_loss: 1.1278 - val_accuracy: 0.5697\n",
      "Epoch 15/20\n",
      "1308/1308 [==============================] - 240s 184ms/step - loss: 0.6180 - accuracy: 0.7259 - val_loss: 1.1923 - val_accuracy: 0.5495\n",
      "Epoch 16/20\n",
      "1308/1308 [==============================] - 241s 184ms/step - loss: 0.6056 - accuracy: 0.7330 - val_loss: 1.1821 - val_accuracy: 0.5581\n",
      "Epoch 17/20\n",
      "1308/1308 [==============================] - 240s 183ms/step - loss: 0.5948 - accuracy: 0.7393 - val_loss: 1.2153 - val_accuracy: 0.5578\n",
      "Epoch 18/20\n",
      "1308/1308 [==============================] - 239s 183ms/step - loss: 0.5874 - accuracy: 0.7391 - val_loss: 1.1949 - val_accuracy: 0.5645\n",
      "Epoch 19/20\n",
      "1308/1308 [==============================] - 238s 182ms/step - loss: 0.5900 - accuracy: 0.7423 - val_loss: 1.1859 - val_accuracy: 0.5618\n",
      "Epoch 20/20\n",
      "1308/1308 [==============================] - 246s 188ms/step - loss: 0.5779 - accuracy: 0.7462 - val_loss: 1.1814 - val_accuracy: 0.5789\n"
     ]
    }
   ],
   "source": [
    "history = model.fit(\n",
    "    inception_train_gen,\n",
    "    epochs=20,\n",
    "    steps_per_epoch = inception_train_gen.samples//batch_size, \n",
    "    validation_data=inception_validation_gen, \n",
    "    validation_steps = inception_validation_gen.samples//batch_size,\n",
    "    #callbacks=[lr_finder]\n",
    "    #class_weight=class_weights\n",
    "    \n",
    ")"
   ]
  },
  {
   "cell_type": "code",
   "execution_count": 27,
   "metadata": {},
   "outputs": [
    {
     "name": "stdout",
     "output_type": "stream",
     "text": [
      "E:\\Database\\All_channel_chb_01\\train\\Interictal\\chb01_16_198_FZ-CZ_03-15-49.png\n",
      "E:\\Database\\All_channel_chb_01\\train\\Interictal\\chb01_16_199_FZ-CZ_03-15-53.png\n",
      "E:\\Database\\All_channel_chb_01\\train\\Interictal\\chb01_16_200_FZ-CZ_03-15-57.png\n",
      "E:\\Database\\All_channel_chb_01\\train\\Interictal\\chb01_16_201_FZ-CZ_03-16-01.png\n",
      "E:\\Database\\All_channel_chb_01\\train\\Interictal\\chb01_16_202_FZ-CZ_03-16-05.png\n",
      "E:\\Database\\All_channel_chb_01\\train\\Interictal\\chb01_16_203_FZ-CZ_03-16-09.png\n",
      "E:\\Database\\All_channel_chb_01\\train\\Interictal\\chb01_16_204_FZ-CZ_03-16-13.png\n",
      "E:\\Database\\All_channel_chb_01\\train\\Interictal\\chb01_16_205_FZ-CZ_03-16-17.png\n",
      "E:\\Database\\All_channel_chb_01\\train\\Interictal\\chb01_16_206_FZ-CZ_03-16-21.png\n",
      "E:\\Database\\All_channel_chb_01\\train\\Interictal\\chb01_16_207_FZ-CZ_03-16-25.png\n",
      "E:\\Database\\All_channel_chb_01\\train\\Interictal\\chb01_16_208_FZ-CZ_03-16-29.png\n",
      "E:\\Database\\All_channel_chb_01\\train\\Interictal\\chb01_16_209_FZ-CZ_03-16-33.png\n",
      "E:\\Database\\All_channel_chb_01\\train\\Interictal\\chb01_16_210_FZ-CZ_03-16-37.png\n"
     ]
    }
   ],
   "source": [
    "import PIL\n",
    "from pathlib import Path\n",
    "from PIL import UnidentifiedImageError\n",
    "\n",
    "path = Path(train_path).rglob(\"*.png\")\n",
    "for img_p in path:\n",
    "    try:\n",
    "        img = PIL.Image.open(img_p)\n",
    "    except PIL.UnidentifiedImageError:\n",
    "            print(img_p)"
   ]
  },
  {
   "cell_type": "code",
   "execution_count": 27,
   "metadata": {},
   "outputs": [],
   "source": [
    "#lr_finder.plot_loss()"
   ]
  },
  {
   "cell_type": "code",
   "execution_count": 40,
   "metadata": {},
   "outputs": [],
   "source": [
    "model.save(\"custom_cnn.h5\")"
   ]
  },
  {
   "cell_type": "code",
   "execution_count": 41,
   "metadata": {},
   "outputs": [],
   "source": [
    "with open('history.txt', 'w') as f:\n",
    "    f.write(str(history.history))"
   ]
  },
  {
   "cell_type": "code",
   "execution_count": 28,
   "metadata": {},
   "outputs": [
    {
     "data": {
      "text/plain": [
       "[<matplotlib.lines.Line2D at 0x2103bc15bc8>]"
      ]
     },
     "execution_count": 28,
     "metadata": {},
     "output_type": "execute_result"
    },
    {
     "data": {
      "text/plain": [
       "<Figure size 216x288 with 0 Axes>"
      ]
     },
     "metadata": {},
     "output_type": "display_data"
    },
    {
     "data": {
      "image/png": "[encoded data removed]",
      "text/plain": [
       "<Figure size 720x720 with 4 Axes>"
      ]
     },
     "metadata": {
      "needs_background": "light"
     },
     "output_type": "display_data"
    }
   ],
   "source": [
    "plt.figure(figsize=(3,4))\n",
    "fig, axs = plt.subplots(2,2, figsize=(10,10))\n",
    "plt.tight_layout()\n",
    "axs[0,0].set_title('acc')\n",
    "axs[0,0].plot(history.history['accuracy'], color='red')\n",
    "axs[0,1].set_title('loss')\n",
    "axs[0,1].plot(history.history['loss'], color='red')\n",
    "axs[1,0].set_title('val_acc')\n",
    "axs[1,0].plot(history.history['val_accuracy'], color='red')\n",
    "axs[1,1].set_title('val_loss')\n",
    "axs[1,1].plot(history.history['val_loss'], color='red')\n",
    "#plt.savefig(\"eval.png\")"
   ]
  },
  {
   "cell_type": "code",
   "execution_count": 30,
   "metadata": {},
   "outputs": [
    {
     "data": {
      "text/html": [
       "<div>\n",
       "<style scoped>\n",
       "    .dataframe tbody tr th:only-of-type {\n",
       "        vertical-align: middle;\n",
       "    }\n",
       "\n",
       "    .dataframe tbody tr th {\n",
       "        vertical-align: top;\n",
       "    }\n",
       "\n",
       "    .dataframe thead th {\n",
       "        text-align: right;\n",
       "    }\n",
       "</style>\n",
       "<table border=\"1\" class=\"dataframe\">\n",
       "  <thead>\n",
       "    <tr style=\"text-align: right;\">\n",
       "      <th></th>\n",
       "      <th>filename</th>\n",
       "      <th>class</th>\n",
       "    </tr>\n",
       "  </thead>\n",
       "  <tbody>\n",
       "    <tr>\n",
       "      <th>298</th>\n",
       "      <td>E:\\Database\\All_channel_chb_01/test/Preictal_T...</td>\n",
       "      <td>Preictal_Two</td>\n",
       "    </tr>\n",
       "    <tr>\n",
       "      <th>175</th>\n",
       "      <td>E:\\Database\\All_channel_chb_01/test/Preictal_O...</td>\n",
       "      <td>Preictal_One</td>\n",
       "    </tr>\n",
       "    <tr>\n",
       "      <th>125</th>\n",
       "      <td>E:\\Database\\All_channel_chb_01/test/Preictal_O...</td>\n",
       "      <td>Preictal_One</td>\n",
       "    </tr>\n",
       "    <tr>\n",
       "      <th>150</th>\n",
       "      <td>E:\\Database\\All_channel_chb_01/test/Preictal_O...</td>\n",
       "      <td>Preictal_One</td>\n",
       "    </tr>\n",
       "    <tr>\n",
       "      <th>304</th>\n",
       "      <td>E:\\Database\\All_channel_chb_01/test/Seizure/ch...</td>\n",
       "      <td>Seizure</td>\n",
       "    </tr>\n",
       "  </tbody>\n",
       "</table>\n",
       "</div>"
      ],
      "text/plain": [
       "                                              filename         class\n",
       "298  E:\\Database\\All_channel_chb_01/test/Preictal_T...  Preictal_Two\n",
       "175  E:\\Database\\All_channel_chb_01/test/Preictal_O...  Preictal_One\n",
       "125  E:\\Database\\All_channel_chb_01/test/Preictal_O...  Preictal_One\n",
       "150  E:\\Database\\All_channel_chb_01/test/Preictal_O...  Preictal_One\n",
       "304  E:\\Database\\All_channel_chb_01/test/Seizure/ch...       Seizure"
      ]
     },
     "execution_count": 30,
     "metadata": {},
     "output_type": "execute_result"
    }
   ],
   "source": [
    "test_data = limit_data(test_path, n=100)\n",
    "test_data = shuffle(test_data)\n",
    "test_data.head()"
   ]
  },
  {
   "cell_type": "code",
   "execution_count": 31,
   "metadata": {},
   "outputs": [
    {
     "name": "stdout",
     "output_type": "stream",
     "text": [
      "Found 400 validated image filenames belonging to 4 classes.\n"
     ]
    }
   ],
   "source": [
    "test_gen = generator.flow_from_dataframe(\n",
    "    test_data,\n",
    "    batch_size=1, \n",
    "    target_size=inceptionV3_input_shape, \n",
    "    shuffle=True)"
   ]
  },
  {
   "cell_type": "code",
   "execution_count": 32,
   "metadata": {},
   "outputs": [
    {
     "data": {
      "text/plain": [
       "400"
      ]
     },
     "execution_count": 32,
     "metadata": {},
     "output_type": "execute_result"
    }
   ],
   "source": [
    "number_of_step = test_gen.samples // 1\n",
    "number_of_step"
   ]
  },
  {
   "cell_type": "code",
   "execution_count": 33,
   "metadata": {},
   "outputs": [],
   "source": [
    "pred = model.predict(test_gen, steps=number_of_step)"
   ]
  },
  {
   "cell_type": "code",
   "execution_count": 34,
   "metadata": {},
   "outputs": [],
   "source": [
    "y_pred_max = pred.argmax(axis=-1).tolist()"
   ]
  },
  {
   "cell_type": "code",
   "execution_count": 35,
   "metadata": {},
   "outputs": [],
   "source": [
    "y_true = test_gen.classes"
   ]
  },
  {
   "cell_type": "code",
   "execution_count": 36,
   "metadata": {},
   "outputs": [
    {
     "name": "stdout",
     "output_type": "stream",
     "text": [
      "index : 0, y_true : 2 : filename : E:\\Database\\All_channel_chb_01/test/Preictal_Two/chb01_04_0_FZ-CZ_14-57-39.png\n",
      "index : 1, y_true : 1 : filename : E:\\Database\\All_channel_chb_01/test/Preictal_One/chb01_04_2_C4-P4_14-43-20.png\n",
      "index : 2, y_true : 1 : filename : E:\\Database\\All_channel_chb_01/test/Preictal_One/chb01_04_1_FP1-F3_14-43-16.png\n",
      "index : 3, y_true : 1 : filename : E:\\Database\\All_channel_chb_01/test/Preictal_One/chb01_04_9_FP2-F4_14-43-48.png\n",
      "index : 4, y_true : 3 : filename : E:\\Database\\All_channel_chb_01/test/Seizure/chb01_04_4_F7-T7_15-07-47.png\n",
      "index : 5, y_true : 0 : filename : E:\\Database\\All_channel_chb_01/test/Interictal/chb01_04_6_P7-O1_15-08-30.png\n"
     ]
    }
   ],
   "source": [
    "for i, x in enumerate(test_gen.classes[0:6]):\n",
    "    filename = test_gen.filenames[i]\n",
    "    print(f\"index : {i}, y_true : {x} : filename : {filename}\")"
   ]
  },
  {
   "cell_type": "code",
   "execution_count": 37,
   "metadata": {},
   "outputs": [],
   "source": [
    "labels = ['Interictal', 'Preictal_One', 'Preictal_Two', 'Seizure']"
   ]
  },
  {
   "cell_type": "code",
   "execution_count": 38,
   "metadata": {},
   "outputs": [],
   "source": [
    "from sklearn.metrics import classification_report, multilabel_confusion_matrix, ConfusionMatrixDisplay, confusion_matrix, plot_confusion_matrix"
   ]
  },
  {
   "cell_type": "code",
   "execution_count": 39,
   "metadata": {},
   "outputs": [],
   "source": [
    "clf_report = classification_report(y_true=y_true, y_pred=y_pred_max, target_names=labels)"
   ]
  },
  {
   "cell_type": "code",
   "execution_count": 40,
   "metadata": {},
   "outputs": [
    {
     "name": "stdout",
     "output_type": "stream",
     "text": [
      "              precision    recall  f1-score   support\n",
      "\n",
      "  Interictal       0.24      0.25      0.24       100\n",
      "Preictal_One       0.34      0.41      0.37       100\n",
      "Preictal_Two       0.23      0.14      0.18       100\n",
      "     Seizure       0.29      0.32      0.30       100\n",
      "\n",
      "    accuracy                           0.28       400\n",
      "   macro avg       0.27      0.28      0.27       400\n",
      "weighted avg       0.27      0.28      0.27       400\n",
      "\n"
     ]
    }
   ],
   "source": [
    "print(clf_report)"
   ]
  },
  {
   "cell_type": "code",
   "execution_count": 41,
   "metadata": {},
   "outputs": [],
   "source": [
    "confusion_matrix = confusion_matrix(y_true=y_true, y_pred=y_pred_max)"
   ]
  },
  {
   "cell_type": "code",
   "execution_count": 42,
   "metadata": {},
   "outputs": [
    {
     "data": {
      "text/plain": [
       "array([[25, 30, 19, 26],\n",
       "       [22, 41, 10, 27],\n",
       "       [30, 29, 14, 27],\n",
       "       [29, 22, 17, 32]], dtype=int64)"
      ]
     },
     "execution_count": 42,
     "metadata": {},
     "output_type": "execute_result"
    }
   ],
   "source": [
    "confusion_matrix"
   ]
  },
  {
   "cell_type": "code",
   "execution_count": 43,
   "metadata": {},
   "outputs": [
    {
     "data": {
      "text/plain": [
       "array([[25, 30, 19, 26],\n",
       "       [22, 41, 10, 27],\n",
       "       [30, 29, 14, 27],\n",
       "       [29, 22, 17, 32]], dtype=int64)"
      ]
     },
     "execution_count": 43,
     "metadata": {},
     "output_type": "execute_result"
    }
   ],
   "source": [
    "new_cm = np.array([[((x * 1)) for x in s] for s in confusion_matrix])\n",
    "new_cm"
   ]
  },
  {
   "cell_type": "code",
   "execution_count": 44,
   "metadata": {},
   "outputs": [
    {
     "data": {
      "image/png": "[encoded data removed]",
      "text/plain": [
       "<Figure size 1332x756 with 2 Axes>"
      ]
     },
     "metadata": {
      "needs_background": "light"
     },
     "output_type": "display_data"
    }
   ],
   "source": [
    "import matplotlib\n",
    "ConfusionMatrixDisplay(confusion_matrix=new_cm.astype(float), display_labels=labels).plot(cmap='Blues')\n",
    "plt.title(\"Frozen Layers: 5 Epoch : four patient (all data)=train : validation split = test\")\n",
    "fig = matplotlib.pyplot.gcf()\n",
    "fig.set_size_inches(18.5, 10.5)\n",
    "plt.savefig(\"resnet_only_sz_cb07_test.png\")"
   ]
  }
 ],
 "metadata": {
  "interpreter": {
   "hash": "6e7f8d72e760dd7e6e3caedb330214dc76b4fc22099e9082eefd214a35743a05"
  },
  "kernelspec": {
   "display_name": "Python 3.7.11 64-bit ('AI_keras_env_GPU': conda)",
   "name": "python3"
  },
  "language_info": {
   "codemirror_mode": {
    "name": "ipython",
    "version": 3
   },
   "file_extension": ".py",
   "mimetype": "text/x-python",
   "name": "python",
   "nbconvert_exporter": "python",
   "pygments_lexer": "ipython3",
   "version": "3.7.11"
  },
  "orig_nbformat": 4
 },
 "nbformat": 4,
 "nbformat_minor": 2
}
