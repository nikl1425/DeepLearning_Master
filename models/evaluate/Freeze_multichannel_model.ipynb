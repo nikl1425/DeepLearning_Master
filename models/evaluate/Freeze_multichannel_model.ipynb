{
 "cells": [
  {
   "cell_type": "code",
   "execution_count": 1,
   "metadata": {},
   "outputs": [
    {
     "name": "stdout",
     "output_type": "stream",
     "text": [
      "Tensor Flow Version: 2.6.0\n",
      "Keras Version: 2.6.0\n",
      "\n",
      "Python 3.7.11 (default, Jul 27 2021, 09:42:29) [MSC v.1916 64 bit (AMD64)]\n",
      "Pandas 1.3.3\n",
      "Scikit-Learn 0.24.2\n",
      "GPU is available\n"
     ]
    }
   ],
   "source": [
    "# What version of Python do you have?\n",
    "import sys\n",
    "import os\n",
    "import tensorflow.keras\n",
    "import pandas as pd\n",
    "import sklearn as sk\n",
    "import tensorflow as tf\n",
    "import numpy as np\n",
    "from datetime import datetime\n",
    "import os\n",
    "from skimage.restoration import (denoise_wavelet, estimate_sigma)\n",
    "from pathlib import Path\n",
    "from tensorflow.keras.preprocessing.image import ImageDataGenerator\n",
    "from tensorflow.keras import layers, models, Sequential\n",
    "from matplotlib import pyplot as plt\n",
    "from sklearn.metrics import classification_report, multilabel_confusion_matrix, ConfusionMatrixDisplay, confusion_matrix, plot_confusion_matrix\n",
    "from PIL import Image\n",
    "%matplotlib inline\n",
    "\n",
    "print(f\"Tensor Flow Version: {tf.__version__}\")\n",
    "print(f\"Keras Version: {tensorflow.keras.__version__}\")\n",
    "print()\n",
    "print(f\"Python {sys.version}\")\n",
    "print(f\"Pandas {pd.__version__}\")\n",
    "print(f\"Scikit-Learn {sk.__version__}\")\n",
    "gpu = len(tf.config.list_physical_devices('GPU'))>0\n",
    "print(\"GPU is\", \"available\" if gpu else \"NOT AVAILABLE\")"
   ]
  },
  {
   "cell_type": "code",
   "execution_count": 2,
   "metadata": {},
   "outputs": [
    {
     "name": "stdout",
     "output_type": "stream",
     "text": [
      "c:\\Users\\thoma\\Desktop\\speciale\\DeepLearning_Master\\models\\evaluate\n",
      "(4,)\n"
     ]
    },
    {
     "data": {
      "text/plain": [
       "array(['Interictal', 'Preictal_One', 'Preictal_Two', 'Seizure'],\n",
       "      dtype='<U12')"
      ]
     },
     "execution_count": 2,
     "metadata": {},
     "output_type": "execute_result"
    }
   ],
   "source": [
    "resnet152_input_shape = (224, 224)\n",
    "inceptionV3_input_shape = (299, 299)\n",
    "batch_size = 1\n",
    "print(os.getcwd())\n",
    "chb01_path = \"../../windows\"\n",
    "labels = [item for item in os.listdir(chb01_path)]\n",
    "labels = np.array(labels)\n",
    "labels = labels[0:]\n",
    "print(labels.shape)\n",
    "labels"
   ]
  },
  {
   "cell_type": "code",
   "execution_count": 3,
   "metadata": {},
   "outputs": [],
   "source": [
    "test_df = pd.read_csv(\"../tester.csv\")"
   ]
  },
  {
   "cell_type": "code",
   "execution_count": 4,
   "metadata": {},
   "outputs": [
    {
     "name": "stdout",
     "output_type": "stream",
     "text": [
      "../../windows/Seizure/chb10_27_10_F7-T7_23-42-10.png, Seizure/chb10_27_10_FP1-F3_23-42-10.png, Seizure/chb10_27_10_FP1-F7_23-42-10.png, Seizure/chb10_27_10_P3-O1_23-42-10.png, Seizure/chb10_27_10_P7-O1_23-42-10.png, Seizure/chb10_27_10_T7-P7_23-42-10.png, Seizure/chb10_27_11_C3-P3_23-42-12.png, Seizure/chb10_27_11_F3-C3_23-42-12.png\n",
      "../../windows/Seizure/chb10_27_11_F7-T7_23-42-12.png, Seizure/chb10_27_11_FP1-F3_23-42-12.png, Seizure/chb10_27_11_FP1-F7_23-42-12.png, Seizure/chb10_27_11_P3-O1_23-42-12.png, Seizure/chb10_27_11_P7-O1_23-42-12.png, Seizure/chb10_27_11_T7-P7_23-42-12.png, Seizure/chb10_27_12_C3-P3_23-42-14.png, Seizure/chb10_27_12_F3-C3_23-42-14.png\n",
      "../../windows/Seizure/chb10_27_12_F7-T7_23-42-14.png, Seizure/chb10_27_12_FP1-F3_23-42-14.png, Seizure/chb10_27_12_FP1-F7_23-42-14.png, Seizure/chb10_27_12_P3-O1_23-42-14.png, Seizure/chb10_27_12_P7-O1_23-42-14.png, Seizure/chb10_27_12_T7-P7_23-42-14.png, Seizure/chb10_27_13_C3-P3_23-42-16.png, Seizure/chb10_27_13_F3-C3_23-42-16.png\n",
      "../../windows/Seizure/chb10_27_13_F7-T7_23-42-16.png, Seizure/chb10_27_13_FP1-F3_23-42-16.png, Seizure/chb10_27_13_FP1-F7_23-42-16.png, Seizure/chb10_27_13_P3-O1_23-42-16.png, Seizure/chb10_27_13_P7-O1_23-42-16.png, Seizure/chb10_27_13_T7-P7_23-42-16.png, Seizure/chb10_27_14_C3-P3_23-42-18.png, Seizure/chb10_27_14_F3-C3_23-42-18.png\n",
      "../../windows/Seizure/chb10_27_14_F7-T7_23-42-18.png, Seizure/chb10_27_14_FP1-F3_23-42-18.png, Seizure/chb10_27_14_FP1-F7_23-42-18.png, Seizure/chb10_27_14_P3-O1_23-42-18.png, Seizure/chb10_27_14_P7-O1_23-42-18.png, Seizure/chb10_27_14_T7-P7_23-42-18.png, Seizure/chb10_27_15_C3-P3_23-42-20.png, Seizure/chb10_27_15_F3-C3_23-42-20.png\n",
      "../../windows/Seizure/chb10_27_15_F7-T7_23-42-20.png, Seizure/chb10_27_15_FP1-F3_23-42-20.png, Seizure/chb10_27_15_FP1-F7_23-42-20.png, Seizure/chb10_27_15_P3-O1_23-42-20.png, Seizure/chb10_27_15_P7-O1_23-42-20.png, Seizure/chb10_27_15_T7-P7_23-42-20.png, Seizure/chb10_27_16_C3-P3_23-42-22.png, Seizure/chb10_27_16_F3-C3_23-42-22.png\n",
      "../../windows/Seizure/chb10_27_16_F7-T7_23-42-22.png, Seizure/chb10_27_16_FP1-F3_23-42-22.png, Seizure/chb10_27_16_FP1-F7_23-42-22.png, Seizure/chb10_27_16_P3-O1_23-42-22.png, Seizure/chb10_27_16_P7-O1_23-42-22.png, Seizure/chb10_27_16_T7-P7_23-42-22.png, Seizure/chb10_27_17_C3-P3_23-42-24.png, Seizure/chb10_27_17_F3-C3_23-42-24.png\n",
      "../../windows/Seizure/chb10_27_17_F7-T7_23-42-24.png, Seizure/chb10_27_17_FP1-F3_23-42-24.png, Seizure/chb10_27_17_FP1-F7_23-42-24.png, Seizure/chb10_27_17_P3-O1_23-42-24.png, Seizure/chb10_27_17_P7-O1_23-42-24.png, Seizure/chb10_27_17_T7-P7_23-42-24.png, Seizure/chb10_27_18_C3-P3_23-42-26.png, Seizure/chb10_27_18_F3-C3_23-42-26.png\n",
      "../../windows/Seizure/chb10_27_18_F7-T7_23-42-26.png, Seizure/chb10_27_18_FP1-F3_23-42-26.png, Seizure/chb10_27_18_FP1-F7_23-42-26.png, Seizure/chb10_27_18_P3-O1_23-42-26.png, Seizure/chb10_27_18_P7-O1_23-42-26.png, Seizure/chb10_27_18_T7-P7_23-42-26.png, Seizure/chb10_27_19_C3-P3_23-42-28.png, Seizure/chb10_27_19_F3-C3_23-42-28.png\n",
      "../../windows/Seizure/chb10_27_19_F7-T7_23-42-28.png, Seizure/chb10_27_19_FP1-F3_23-42-28.png, Seizure/chb10_27_19_FP1-F7_23-42-28.png, Seizure/chb10_27_19_P3-O1_23-42-28.png, Seizure/chb10_27_19_P7-O1_23-42-28.png, Seizure/chb10_27_19_T7-P7_23-42-28.png, Seizure/chb10_27_1_C3-P3_23-41-52.png, Seizure/chb10_27_1_F3-C3_23-41-52.png\n",
      "../../windows/Seizure/chb10_27_1_F7-T7_23-41-52.png, Seizure/chb10_27_1_FP1-F3_23-41-52.png, Seizure/chb10_27_1_FP1-F7_23-41-52.png, Seizure/chb10_27_1_P3-O1_23-41-52.png, Seizure/chb10_27_1_P7-O1_23-41-52.png, Seizure/chb10_27_1_T7-P7_23-41-52.png, Seizure/chb10_27_20_C3-P3_23-42-30.png, Seizure/chb10_27_20_F3-C3_23-42-30.png\n",
      "../../windows/Seizure/chb10_27_20_F7-T7_23-42-30.png, Seizure/chb10_27_20_FP1-F3_23-42-30.png, Seizure/chb10_27_20_FP1-F7_23-42-30.png, Seizure/chb10_27_20_P3-O1_23-42-30.png, Seizure/chb10_27_20_P7-O1_23-42-30.png, Seizure/chb10_27_20_T7-P7_23-42-30.png, Seizure/chb10_27_21_C3-P3_23-42-32.png, Seizure/chb10_27_21_F3-C3_23-42-32.png\n",
      "../../windows/Seizure/chb10_27_21_F7-T7_23-42-32.png, Seizure/chb10_27_21_FP1-F3_23-42-32.png, Seizure/chb10_27_21_FP1-F7_23-42-32.png, Seizure/chb10_27_21_P3-O1_23-42-32.png, Seizure/chb10_27_21_P7-O1_23-42-32.png, Seizure/chb10_27_21_T7-P7_23-42-32.png, Seizure/chb10_27_22_C3-P3_23-42-34.png, Seizure/chb10_27_22_F3-C3_23-42-34.png\n",
      "../../windows/Seizure/chb10_27_22_F7-T7_23-42-34.png, Seizure/chb10_27_22_FP1-F3_23-42-34.png, Seizure/chb10_27_22_FP1-F7_23-42-34.png, Seizure/chb10_27_22_P3-O1_23-42-34.png, Seizure/chb10_27_22_P7-O1_23-42-34.png, Seizure/chb10_27_22_T7-P7_23-42-34.png, Seizure/chb10_27_23_C3-P3_23-42-36.png, Seizure/chb10_27_23_F3-C3_23-42-36.png\n",
      "../../windows/Seizure/chb10_27_23_F7-T7_23-42-36.png, Seizure/chb10_27_23_FP1-F3_23-42-36.png, Seizure/chb10_27_23_FP1-F7_23-42-36.png, Seizure/chb10_27_23_P3-O1_23-42-36.png, Seizure/chb10_27_23_P7-O1_23-42-36.png, Seizure/chb10_27_23_T7-P7_23-42-36.png, Seizure/chb10_27_24_C3-P3_23-42-38.png, Seizure/chb10_27_24_F3-C3_23-42-38.png\n",
      "../../windows/Seizure/chb10_27_24_F7-T7_23-42-38.png, Seizure/chb10_27_24_FP1-F3_23-42-38.png, Seizure/chb10_27_24_FP1-F7_23-42-38.png, Seizure/chb10_27_24_P3-O1_23-42-38.png, Seizure/chb10_27_24_P7-O1_23-42-38.png, Seizure/chb10_27_24_T7-P7_23-42-38.png, Seizure/chb10_27_25_C3-P3_23-42-40.png, Seizure/chb10_27_25_F3-C3_23-42-40.png\n",
      "../../windows/Seizure/chb10_27_25_F7-T7_23-42-40.png, Seizure/chb10_27_25_FP1-F3_23-42-40.png, Seizure/chb10_27_25_FP1-F7_23-42-40.png, Seizure/chb10_27_25_P3-O1_23-42-40.png, Seizure/chb10_27_25_P7-O1_23-42-40.png, Seizure/chb10_27_25_T7-P7_23-42-40.png, Seizure/chb10_27_26_C3-P3_23-42-42.png, Seizure/chb10_27_26_F3-C3_23-42-42.png\n",
      "../../windows/Seizure/chb10_27_26_F7-T7_23-42-42.png, Seizure/chb10_27_26_FP1-F3_23-42-42.png, Seizure/chb10_27_26_FP1-F7_23-42-42.png, Seizure/chb10_27_26_P3-O1_23-42-42.png, Seizure/chb10_27_26_P7-O1_23-42-42.png, Seizure/chb10_27_26_T7-P7_23-42-42.png, Seizure/chb10_27_27_C3-P3_23-42-44.png, Seizure/chb10_27_27_F3-C3_23-42-44.png\n",
      "../../windows/Seizure/chb10_27_27_F7-T7_23-42-44.png, Seizure/chb10_27_27_FP1-F3_23-42-44.png, Seizure/chb10_27_27_FP1-F7_23-42-44.png, Seizure/chb10_27_27_P3-O1_23-42-44.png, Seizure/chb10_27_27_P7-O1_23-42-44.png, Seizure/chb10_27_27_T7-P7_23-42-44.png, Seizure/chb10_27_28_C3-P3_23-42-46.png, Seizure/chb10_27_28_F3-C3_23-42-46.png\n",
      "../../windows/Seizure/chb10_27_28_F7-T7_23-42-46.png, Seizure/chb10_27_28_FP1-F3_23-42-46.png, Seizure/chb10_27_28_FP1-F7_23-42-46.png, Seizure/chb10_27_28_P3-O1_23-42-46.png, Seizure/chb10_27_28_P7-O1_23-42-46.png, Seizure/chb10_27_28_T7-P7_23-42-46.png, Seizure/chb10_27_29_C3-P3_23-42-48.png, Seizure/chb10_27_29_F3-C3_23-42-48.png\n",
      "../../windows/Seizure/chb10_27_29_F7-T7_23-42-48.png, Seizure/chb10_27_29_FP1-F3_23-42-48.png, Seizure/chb10_27_29_FP1-F7_23-42-48.png, Seizure/chb10_27_29_P3-O1_23-42-48.png, Seizure/chb10_27_29_P7-O1_23-42-48.png, Seizure/chb10_27_29_T7-P7_23-42-48.png, Seizure/chb10_27_2_C3-P3_23-41-54.png, Seizure/chb10_27_2_F3-C3_23-41-54.png\n",
      "../../windows/Seizure/chb10_27_2_F7-T7_23-41-54.png, Seizure/chb10_27_2_FP1-F3_23-41-54.png, Seizure/chb10_27_2_FP1-F7_23-41-54.png, Seizure/chb10_27_2_P3-O1_23-41-54.png, Seizure/chb10_27_2_P7-O1_23-41-54.png, Seizure/chb10_27_2_T7-P7_23-41-54.png, Seizure/chb10_27_30_C3-P3_23-42-50.png, Seizure/chb10_27_30_F3-C3_23-42-50.png\n",
      "../../windows/Seizure/chb10_27_30_F7-T7_23-42-50.png, Seizure/chb10_27_30_FP1-F3_23-42-50.png, Seizure/chb10_27_30_FP1-F7_23-42-50.png, Seizure/chb10_27_30_P3-O1_23-42-50.png, Seizure/chb10_27_30_P7-O1_23-42-50.png, Seizure/chb10_27_30_T7-P7_23-42-50.png, Seizure/chb10_27_31_C3-P3_23-42-52.png, Seizure/chb10_27_31_F3-C3_23-42-52.png\n",
      "../../windows/Seizure/chb10_27_31_F7-T7_23-42-52.png, Seizure/chb10_27_31_FP1-F3_23-42-52.png, Seizure/chb10_27_31_FP1-F7_23-42-52.png, Seizure/chb10_27_31_P3-O1_23-42-52.png, Seizure/chb10_27_31_P7-O1_23-42-52.png, Seizure/chb10_27_31_T7-P7_23-42-52.png, Seizure/chb10_27_3_C3-P3_23-41-56.png, Seizure/chb10_27_3_F3-C3_23-41-56.png\n",
      "../../windows/Seizure/chb10_27_3_F7-T7_23-41-56.png, Seizure/chb10_27_3_FP1-F3_23-41-56.png, Seizure/chb10_27_3_FP1-F7_23-41-56.png, Seizure/chb10_27_3_P3-O1_23-41-56.png, Seizure/chb10_27_3_P7-O1_23-41-56.png, Seizure/chb10_27_3_T7-P7_23-41-56.png, Seizure/chb10_27_4_C3-P3_23-41-58.png, Seizure/chb10_27_4_F3-C3_23-41-58.png\n",
      "../../windows/Seizure/chb10_27_4_F7-T7_23-41-58.png, Seizure/chb10_27_4_FP1-F3_23-41-58.png, Seizure/chb10_27_4_FP1-F7_23-41-58.png, Seizure/chb10_27_4_P3-O1_23-41-58.png, Seizure/chb10_27_4_P7-O1_23-41-58.png, Seizure/chb10_27_4_T7-P7_23-41-58.png, Seizure/chb10_27_5_C3-P3_23-42-00.png, Seizure/chb10_27_5_F3-C3_23-42-00.png\n",
      "../../windows/Seizure/chb10_27_5_F7-T7_23-42-00.png, Seizure/chb10_27_5_FP1-F3_23-42-00.png, Seizure/chb10_27_5_FP1-F7_23-42-00.png, Seizure/chb10_27_5_P3-O1_23-42-00.png, Seizure/chb10_27_5_P7-O1_23-42-00.png, Seizure/chb10_27_5_T7-P7_23-42-00.png, Seizure/chb10_27_6_C3-P3_23-42-02.png, Seizure/chb10_27_6_F3-C3_23-42-02.png\n",
      "../../windows/Seizure/chb10_27_6_F7-T7_23-42-02.png, Seizure/chb10_27_6_FP1-F3_23-42-02.png, Seizure/chb10_27_6_FP1-F7_23-42-02.png, Seizure/chb10_27_6_P3-O1_23-42-02.png, Seizure/chb10_27_6_P7-O1_23-42-02.png, Seizure/chb10_27_6_T7-P7_23-42-02.png, Seizure/chb10_27_7_C3-P3_23-42-04.png, Seizure/chb10_27_7_F3-C3_23-42-04.png\n",
      "../../windows/Interictal/chb01_03_0_C3-P3_14-43-04.png, Interictal/chb01_03_0_F3-C3_14-43-04.png, Interictal/chb01_03_0_F7-T7_14-43-04.png, Interictal/chb01_03_0_FP1-F3_14-43-04.png, Interictal/chb01_03_0_FP1-F7_14-43-04.png, Interictal/chb01_03_0_P3-O1_14-43-04.png, Interictal/chb01_03_0_P7-O1_14-43-04.png, Interictal/chb01_03_0_T7-P7_14-43-04.png\n",
      "../../windows/Interictal/chb01_03_100_C3-P3_14-49-44.png, Interictal/chb01_03_100_F3-C3_14-49-44.png, Interictal/chb01_03_100_F7-T7_14-49-44.png, Interictal/chb01_03_100_FP1-F3_14-49-44.png, Interictal/chb01_03_100_FP1-F7_14-49-44.png, Interictal/chb01_03_100_P3-O1_14-49-44.png, Interictal/chb01_03_100_P7-O1_14-49-44.png, Interictal/chb01_03_100_T7-P7_14-49-44.png\n",
      "../../windows/Interictal/chb01_03_101_C3-P3_14-49-48.png, Interictal/chb01_03_101_F3-C3_14-49-48.png, Interictal/chb01_03_101_F7-T7_14-49-48.png, Interictal/chb01_03_101_FP1-F3_14-49-48.png, Interictal/chb01_03_101_FP1-F7_14-49-48.png, Interictal/chb01_03_101_P3-O1_14-49-48.png, Interictal/chb01_03_101_P7-O1_14-49-48.png, Interictal/chb01_03_101_T7-P7_14-49-48.png\n",
      "../../windows/Interictal/chb01_03_102_C3-P3_14-49-52.png, Interictal/chb01_03_102_F3-C3_14-49-52.png, Interictal/chb01_03_102_F7-T7_14-49-52.png, Interictal/chb01_03_102_FP1-F3_14-49-52.png, Interictal/chb01_03_102_FP1-F7_14-49-52.png, Interictal/chb01_03_102_P3-O1_14-49-52.png, Interictal/chb01_03_102_P7-O1_14-49-52.png, Interictal/chb01_03_102_T7-P7_14-49-52.png\n",
      "../../windows/Interictal/chb01_03_103_C3-P3_14-49-56.png, Interictal/chb01_03_103_F3-C3_14-49-56.png, Interictal/chb01_03_103_F7-T7_14-49-56.png, Interictal/chb01_03_103_FP1-F3_14-49-56.png, Interictal/chb01_03_103_FP1-F7_14-49-56.png, Interictal/chb01_03_103_P3-O1_14-49-56.png, Interictal/chb01_03_103_P7-O1_14-49-56.png, Interictal/chb01_03_103_T7-P7_14-49-56.png\n",
      "../../windows/Interictal/chb01_03_104_C3-P3_14-50-00.png, Interictal/chb01_03_104_F3-C3_14-50-00.png, Interictal/chb01_03_104_F7-T7_14-50-00.png, Interictal/chb01_03_104_FP1-F3_14-50-00.png, Interictal/chb01_03_104_FP1-F7_14-50-00.png, Interictal/chb01_03_104_P3-O1_14-50-00.png, Interictal/chb01_03_104_P7-O1_14-50-00.png, Interictal/chb01_03_104_T7-P7_14-50-00.png\n",
      "../../windows/Interictal/chb01_03_105_C3-P3_14-50-04.png, Interictal/chb01_03_105_F3-C3_14-50-04.png, Interictal/chb01_03_105_F7-T7_14-50-04.png, Interictal/chb01_03_105_FP1-F3_14-50-04.png, Interictal/chb01_03_105_FP1-F7_14-50-04.png, Interictal/chb01_03_105_P3-O1_14-50-04.png, Interictal/chb01_03_105_P7-O1_14-50-04.png, Interictal/chb01_03_105_T7-P7_14-50-04.png\n",
      "../../windows/Interictal/chb01_03_106_C3-P3_14-50-08.png, Interictal/chb01_03_106_F3-C3_14-50-08.png, Interictal/chb01_03_106_F7-T7_14-50-08.png, Interictal/chb01_03_106_FP1-F3_14-50-08.png, Interictal/chb01_03_106_FP1-F7_14-50-08.png, Interictal/chb01_03_106_P3-O1_14-50-08.png, Interictal/chb01_03_106_P7-O1_14-50-08.png, Interictal/chb01_03_106_T7-P7_14-50-08.png\n",
      "../../windows/Interictal/chb01_03_107_C3-P3_14-50-12.png, Interictal/chb01_03_107_F3-C3_14-50-12.png, Interictal/chb01_03_107_F7-T7_14-50-12.png, Interictal/chb01_03_107_FP1-F3_14-50-12.png, Interictal/chb01_03_107_FP1-F7_14-50-12.png, Interictal/chb01_03_107_P3-O1_14-50-12.png, Interictal/chb01_03_107_P7-O1_14-50-12.png, Interictal/chb01_03_107_T7-P7_14-50-12.png\n",
      "../../windows/Interictal/chb01_03_108_C3-P3_14-50-16.png, Interictal/chb01_03_108_F3-C3_14-50-16.png, Interictal/chb01_03_108_F7-T7_14-50-16.png, Interictal/chb01_03_108_FP1-F3_14-50-16.png, Interictal/chb01_03_108_FP1-F7_14-50-16.png, Interictal/chb01_03_108_P3-O1_14-50-16.png, Interictal/chb01_03_108_P7-O1_14-50-16.png, Interictal/chb01_03_108_T7-P7_14-50-16.png\n",
      "../../windows/Interictal/chb01_03_109_C3-P3_14-50-20.png, Interictal/chb01_03_109_F3-C3_14-50-20.png, Interictal/chb01_03_109_F7-T7_14-50-20.png, Interictal/chb01_03_109_FP1-F3_14-50-20.png, Interictal/chb01_03_109_FP1-F7_14-50-20.png, Interictal/chb01_03_109_P3-O1_14-50-20.png, Interictal/chb01_03_109_P7-O1_14-50-20.png, Interictal/chb01_03_109_T7-P7_14-50-20.png\n",
      "../../windows/Interictal/chb01_03_10_C3-P3_14-43-44.png, Interictal/chb01_03_10_F3-C3_14-43-44.png, Interictal/chb01_03_10_F7-T7_14-43-44.png, Interictal/chb01_03_10_FP1-F3_14-43-44.png, Interictal/chb01_03_10_FP1-F7_14-43-44.png, Interictal/chb01_03_10_P3-O1_14-43-44.png, Interictal/chb01_03_10_P7-O1_14-43-44.png, Interictal/chb01_03_10_T7-P7_14-43-44.png\n",
      "../../windows/Interictal/chb01_03_110_C3-P3_14-50-24.png, Interictal/chb01_03_110_F3-C3_14-50-24.png, Interictal/chb01_03_110_F7-T7_14-50-24.png, Interictal/chb01_03_110_FP1-F3_14-50-24.png, Interictal/chb01_03_110_FP1-F7_14-50-24.png, Interictal/chb01_03_110_P3-O1_14-50-24.png, Interictal/chb01_03_110_P7-O1_14-50-24.png, Interictal/chb01_03_110_T7-P7_14-50-24.png\n",
      "../../windows/Interictal/chb01_03_111_C3-P3_14-50-28.png, Interictal/chb01_03_111_F3-C3_14-50-28.png, Interictal/chb01_03_111_F7-T7_14-50-28.png, Interictal/chb01_03_111_FP1-F3_14-50-28.png, Interictal/chb01_03_111_FP1-F7_14-50-28.png, Interictal/chb01_03_111_P3-O1_14-50-28.png, Interictal/chb01_03_111_P7-O1_14-50-28.png, Interictal/chb01_03_111_T7-P7_14-50-28.png\n",
      "../../windows/Interictal/chb01_03_112_C3-P3_14-50-32.png, Interictal/chb01_03_112_F3-C3_14-50-32.png, Interictal/chb01_03_112_F7-T7_14-50-32.png, Interictal/chb01_03_112_FP1-F3_14-50-32.png, Interictal/chb01_03_112_FP1-F7_14-50-32.png, Interictal/chb01_03_112_P3-O1_14-50-32.png, Interictal/chb01_03_112_P7-O1_14-50-32.png, Interictal/chb01_03_112_T7-P7_14-50-32.png\n",
      "../../windows/Interictal/chb01_03_113_C3-P3_14-50-36.png, Interictal/chb01_03_113_F3-C3_14-50-36.png, Interictal/chb01_03_113_F7-T7_14-50-36.png, Interictal/chb01_03_113_FP1-F3_14-50-36.png, Interictal/chb01_03_113_FP1-F7_14-50-36.png, Interictal/chb01_03_113_P3-O1_14-50-36.png, Interictal/chb01_03_113_P7-O1_14-50-36.png, Interictal/chb01_03_113_T7-P7_14-50-36.png\n",
      "../../windows/Interictal/chb01_03_114_C3-P3_14-50-40.png, Interictal/chb01_03_114_F3-C3_14-50-40.png, Interictal/chb01_03_114_F7-T7_14-50-40.png, Interictal/chb01_03_114_FP1-F3_14-50-40.png, Interictal/chb01_03_114_FP1-F7_14-50-40.png, Interictal/chb01_03_114_P3-O1_14-50-40.png, Interictal/chb01_03_114_P7-O1_14-50-40.png, Interictal/chb01_03_114_T7-P7_14-50-40.png\n",
      "../../windows/Interictal/chb01_03_115_C3-P3_14-50-44.png, Interictal/chb01_03_115_F3-C3_14-50-44.png, Interictal/chb01_03_115_F7-T7_14-50-44.png, Interictal/chb01_03_115_FP1-F3_14-50-44.png, Interictal/chb01_03_115_FP1-F7_14-50-44.png, Interictal/chb01_03_115_P3-O1_14-50-44.png, Interictal/chb01_03_115_P7-O1_14-50-44.png, Interictal/chb01_03_115_T7-P7_14-50-44.png\n",
      "../../windows/Interictal/chb01_03_116_C3-P3_14-50-48.png, Interictal/chb01_03_116_F3-C3_14-50-48.png, Interictal/chb01_03_116_F7-T7_14-50-48.png, Interictal/chb01_03_116_FP1-F3_14-50-48.png, Interictal/chb01_03_116_FP1-F7_14-50-48.png, Interictal/chb01_03_116_P3-O1_14-50-48.png, Interictal/chb01_03_116_P7-O1_14-50-48.png, Interictal/chb01_03_116_T7-P7_14-50-48.png\n",
      "../../windows/Interictal/chb01_03_117_C3-P3_14-50-52.png, Interictal/chb01_03_117_F3-C3_14-50-52.png, Interictal/chb01_03_117_F7-T7_14-50-52.png, Interictal/chb01_03_117_FP1-F3_14-50-52.png, Interictal/chb01_03_117_FP1-F7_14-50-52.png, Interictal/chb01_03_117_P3-O1_14-50-52.png, Interictal/chb01_03_117_P7-O1_14-50-52.png, Interictal/chb01_03_117_T7-P7_14-50-52.png\n",
      "../../windows/Interictal/chb01_03_118_C3-P3_14-50-56.png, Interictal/chb01_03_118_F3-C3_14-50-56.png, Interictal/chb01_03_118_F7-T7_14-50-56.png, Interictal/chb01_03_118_FP1-F3_14-50-56.png, Interictal/chb01_03_118_FP1-F7_14-50-56.png, Interictal/chb01_03_118_P3-O1_14-50-56.png, Interictal/chb01_03_118_P7-O1_14-50-56.png, Interictal/chb01_03_118_T7-P7_14-50-56.png\n",
      "../../windows/Interictal/chb01_03_119_C3-P3_14-51-00.png, Interictal/chb01_03_119_F3-C3_14-51-00.png, Interictal/chb01_03_119_F7-T7_14-51-00.png, Interictal/chb01_03_119_FP1-F3_14-51-00.png, Interictal/chb01_03_119_FP1-F7_14-51-00.png, Interictal/chb01_03_119_P3-O1_14-51-00.png, Interictal/chb01_03_119_P7-O1_14-51-00.png, Interictal/chb01_03_119_T7-P7_14-51-00.png\n",
      "../../windows/Interictal/chb01_03_11_C3-P3_14-43-48.png, Interictal/chb01_03_11_F3-C3_14-43-48.png, Interictal/chb01_03_11_F7-T7_14-43-48.png, Interictal/chb01_03_11_FP1-F3_14-43-48.png, Interictal/chb01_03_11_FP1-F7_14-43-48.png, Interictal/chb01_03_11_P3-O1_14-43-48.png, Interictal/chb01_03_11_P7-O1_14-43-48.png, Interictal/chb01_03_11_T7-P7_14-43-48.png\n",
      "../../windows/Interictal/chb01_03_120_C3-P3_14-51-04.png, Interictal/chb01_03_120_F3-C3_14-51-04.png, Interictal/chb01_03_120_F7-T7_14-51-04.png, Interictal/chb01_03_120_FP1-F3_14-51-04.png, Interictal/chb01_03_120_FP1-F7_14-51-04.png, Interictal/chb01_03_120_P3-O1_14-51-04.png, Interictal/chb01_03_120_P7-O1_14-51-04.png, Interictal/chb01_03_120_T7-P7_14-51-04.png\n",
      "../../windows/Interictal/chb01_03_121_C3-P3_14-51-08.png, Interictal/chb01_03_121_F3-C3_14-51-08.png, Interictal/chb01_03_121_F7-T7_14-51-08.png, Interictal/chb01_03_121_FP1-F3_14-51-08.png, Interictal/chb01_03_121_FP1-F7_14-51-08.png, Interictal/chb01_03_121_P3-O1_14-51-08.png, Interictal/chb01_03_121_P7-O1_14-51-08.png, Interictal/chb01_03_121_T7-P7_14-51-08.png\n",
      "../../windows/Interictal/chb01_03_122_C3-P3_14-51-12.png, Interictal/chb01_03_122_F3-C3_14-51-12.png, Interictal/chb01_03_122_F7-T7_14-51-12.png, Interictal/chb01_03_122_FP1-F3_14-51-12.png, Interictal/chb01_03_122_FP1-F7_14-51-12.png, Interictal/chb01_03_122_P3-O1_14-51-12.png, Interictal/chb01_03_122_P7-O1_14-51-12.png, Interictal/chb01_03_122_T7-P7_14-51-12.png\n",
      "../../windows/Interictal/chb01_03_123_C3-P3_14-51-16.png, Interictal/chb01_03_123_F3-C3_14-51-16.png, Interictal/chb01_03_123_F7-T7_14-51-16.png, Interictal/chb01_03_123_FP1-F3_14-51-16.png, Interictal/chb01_03_123_FP1-F7_14-51-16.png, Interictal/chb01_03_123_P3-O1_14-51-16.png, Interictal/chb01_03_123_P7-O1_14-51-16.png, Interictal/chb01_03_123_T7-P7_14-51-16.png\n",
      "../../windows/Interictal/chb01_03_124_C3-P3_14-51-20.png, Interictal/chb01_03_124_F3-C3_14-51-20.png, Interictal/chb01_03_124_F7-T7_14-51-20.png, Interictal/chb01_03_124_FP1-F3_14-51-20.png, Interictal/chb01_03_124_FP1-F7_14-51-20.png, Interictal/chb01_03_124_P3-O1_14-51-20.png, Interictal/chb01_03_124_P7-O1_14-51-20.png, Interictal/chb01_03_124_T7-P7_14-51-20.png\n",
      "../../windows/Interictal/chb01_03_125_C3-P3_14-51-24.png, Interictal/chb01_03_125_F3-C3_14-51-24.png, Interictal/chb01_03_125_F7-T7_14-51-24.png, Interictal/chb01_03_125_FP1-F3_14-51-24.png, Interictal/chb01_03_125_FP1-F7_14-51-24.png, Interictal/chb01_03_125_P3-O1_14-51-24.png, Interictal/chb01_03_125_P7-O1_14-51-24.png, Interictal/chb01_03_125_T7-P7_14-51-24.png\n",
      "../../windows/Interictal/chb01_03_126_C3-P3_14-51-28.png, Interictal/chb01_03_126_F3-C3_14-51-28.png, Interictal/chb01_03_126_F7-T7_14-51-28.png, Interictal/chb01_03_126_FP1-F3_14-51-28.png, Interictal/chb01_03_126_FP1-F7_14-51-28.png, Interictal/chb01_03_126_P3-O1_14-51-28.png, Interictal/chb01_03_126_P7-O1_14-51-28.png, Interictal/chb01_03_126_T7-P7_14-51-28.png\n",
      "../../windows/Interictal/chb01_03_127_C3-P3_14-51-32.png, Interictal/chb01_03_127_F3-C3_14-51-32.png, Interictal/chb01_03_127_F7-T7_14-51-32.png, Interictal/chb01_03_127_FP1-F3_14-51-32.png, Interictal/chb01_03_127_FP1-F7_14-51-32.png, Interictal/chb01_03_127_P3-O1_14-51-32.png, Interictal/chb01_03_127_P7-O1_14-51-32.png, Interictal/chb01_03_127_T7-P7_14-51-32.png\n",
      "../../windows/Interictal/chb01_03_128_C3-P3_14-51-36.png, Interictal/chb01_03_128_F3-C3_14-51-36.png, Interictal/chb01_03_128_F7-T7_14-51-36.png, Interictal/chb01_03_128_FP1-F3_14-51-36.png, Interictal/chb01_03_128_FP1-F7_14-51-36.png, Interictal/chb01_03_128_P3-O1_14-51-36.png, Interictal/chb01_03_128_P7-O1_14-51-36.png, Interictal/chb01_03_128_T7-P7_14-51-36.png\n",
      "../../windows/Interictal/chb01_03_129_C3-P3_14-51-40.png, Interictal/chb01_03_129_F3-C3_14-51-40.png, Interictal/chb01_03_129_F7-T7_14-51-40.png, Interictal/chb01_03_129_FP1-F3_14-51-40.png, Interictal/chb01_03_129_FP1-F7_14-51-40.png, Interictal/chb01_03_129_P3-O1_14-51-40.png, Interictal/chb01_03_129_P7-O1_14-51-40.png, Interictal/chb01_03_129_T7-P7_14-51-40.png\n",
      "../../windows/Interictal/chb01_03_12_C3-P3_14-43-52.png, Interictal/chb01_03_12_F3-C3_14-43-52.png, Interictal/chb01_03_12_F7-T7_14-43-52.png, Interictal/chb01_03_12_FP1-F3_14-43-52.png, Interictal/chb01_03_12_FP1-F7_14-43-52.png, Interictal/chb01_03_12_P3-O1_14-43-52.png, Interictal/chb01_03_12_P7-O1_14-43-52.png, Interictal/chb01_03_12_T7-P7_14-43-52.png\n",
      "../../windows/Interictal/chb01_03_130_C3-P3_14-51-44.png, Interictal/chb01_03_130_F3-C3_14-51-44.png, Interictal/chb01_03_130_F7-T7_14-51-44.png, Interictal/chb01_03_130_FP1-F3_14-51-44.png, Interictal/chb01_03_130_FP1-F7_14-51-44.png, Interictal/chb01_03_130_P3-O1_14-51-44.png, Interictal/chb01_03_130_P7-O1_14-51-44.png, Interictal/chb01_03_130_T7-P7_14-51-44.png\n",
      "../../windows/Interictal/chb01_03_131_C3-P3_14-51-48.png, Interictal/chb01_03_131_F3-C3_14-51-48.png, Interictal/chb01_03_131_F7-T7_14-51-48.png, Interictal/chb01_03_131_FP1-F3_14-51-48.png, Interictal/chb01_03_131_FP1-F7_14-51-48.png, Interictal/chb01_03_131_P3-O1_14-51-48.png, Interictal/chb01_03_131_P7-O1_14-51-48.png, Interictal/chb01_03_131_T7-P7_14-51-48.png\n",
      "../../windows/Interictal/chb01_03_132_C3-P3_14-51-52.png, Interictal/chb01_03_132_F3-C3_14-51-52.png, Interictal/chb01_03_132_F7-T7_14-51-52.png, Interictal/chb01_03_132_FP1-F3_14-51-52.png, Interictal/chb01_03_132_FP1-F7_14-51-52.png, Interictal/chb01_03_132_P3-O1_14-51-52.png, Interictal/chb01_03_132_P7-O1_14-51-52.png, Interictal/chb01_03_132_T7-P7_14-51-52.png\n",
      "../../windows/Interictal/chb01_03_133_C3-P3_14-51-56.png, Interictal/chb01_03_133_F3-C3_14-51-56.png, Interictal/chb01_03_133_F7-T7_14-51-56.png, Interictal/chb01_03_133_FP1-F3_14-51-56.png, Interictal/chb01_03_133_FP1-F7_14-51-56.png, Interictal/chb01_03_133_P3-O1_14-51-56.png, Interictal/chb01_03_133_P7-O1_14-51-56.png, Interictal/chb01_03_133_T7-P7_14-51-56.png\n",
      "../../windows/Interictal/chb01_03_134_C3-P3_14-52-00.png, Interictal/chb01_03_134_F3-C3_14-52-00.png, Interictal/chb01_03_134_F7-T7_14-52-00.png, Interictal/chb01_03_134_FP1-F3_14-52-00.png, Interictal/chb01_03_134_FP1-F7_14-52-00.png, Interictal/chb01_03_134_P3-O1_14-52-00.png, Interictal/chb01_03_134_P7-O1_14-52-00.png, Interictal/chb01_03_134_T7-P7_14-52-00.png\n",
      "../../windows/Interictal/chb01_03_135_C3-P3_14-52-04.png, Interictal/chb01_03_135_F3-C3_14-52-04.png, Interictal/chb01_03_135_F7-T7_14-52-04.png, Interictal/chb01_03_135_FP1-F3_14-52-04.png, Interictal/chb01_03_135_FP1-F7_14-52-04.png, Interictal/chb01_03_135_P3-O1_14-52-04.png, Interictal/chb01_03_135_P7-O1_14-52-04.png, Interictal/chb01_03_135_T7-P7_14-52-04.png\n",
      "../../windows/Interictal/chb10_14_481_C3-P3_21-27-19.png, Interictal/chb10_14_481_F3-C3_21-27-19.png, Interictal/chb10_14_481_F7-T7_21-27-19.png, Interictal/chb10_14_481_FP1-F3_21-27-19.png, Interictal/chb10_14_481_FP1-F7_21-27-19.png, Interictal/chb10_14_481_P3-O1_21-27-19.png, Interictal/chb10_14_481_P7-O1_21-27-19.png, Preictal_One/chb01_03_0_C3-P3_14-43-04.png\n",
      "../../windows/Preictal_One/chb01_03_0_F3-C3_14-43-04.png, Preictal_One/chb01_03_0_F7-T7_14-43-04.png, Preictal_One/chb01_03_0_FP1-F3_14-43-04.png, Preictal_One/chb01_03_0_FP1-F7_14-43-04.png, Preictal_One/chb01_03_0_P3-O1_14-43-04.png, Preictal_One/chb01_03_0_P7-O1_14-43-04.png, Preictal_One/chb01_03_0_T7-P7_14-43-04.png, Preictal_One/chb01_03_100_C3-P3_14-49-44.png\n",
      "../../windows/Preictal_One/chb01_03_100_F3-C3_14-49-44.png, Preictal_One/chb01_03_100_F7-T7_14-49-44.png, Preictal_One/chb01_03_100_FP1-F3_14-49-44.png, Preictal_One/chb01_03_100_FP1-F7_14-49-44.png, Preictal_One/chb01_03_100_P3-O1_14-49-44.png, Preictal_One/chb01_03_100_P7-O1_14-49-44.png, Preictal_One/chb01_03_100_T7-P7_14-49-44.png, Preictal_One/chb01_03_101_C3-P3_14-49-48.png\n",
      "../../windows/Preictal_One/chb01_03_101_F3-C3_14-49-48.png, Preictal_One/chb01_03_101_F7-T7_14-49-48.png, Preictal_One/chb01_03_101_FP1-F3_14-49-48.png, Preictal_One/chb01_03_101_FP1-F7_14-49-48.png, Preictal_One/chb01_03_101_P3-O1_14-49-48.png, Preictal_One/chb01_03_101_P7-O1_14-49-48.png, Preictal_One/chb01_03_101_T7-P7_14-49-48.png, Preictal_One/chb01_03_102_C3-P3_14-49-52.png\n",
      "../../windows/Preictal_One/chb01_03_102_F3-C3_14-49-52.png, Preictal_One/chb01_03_102_F7-T7_14-49-52.png, Preictal_One/chb01_03_102_FP1-F3_14-49-52.png, Preictal_One/chb01_03_102_FP1-F7_14-49-52.png, Preictal_One/chb01_03_102_P3-O1_14-49-52.png, Preictal_One/chb01_03_102_P7-O1_14-49-52.png, Preictal_One/chb01_03_102_T7-P7_14-49-52.png, Preictal_One/chb01_03_103_C3-P3_14-49-56.png\n",
      "../../windows/Preictal_One/chb01_03_103_F3-C3_14-49-56.png, Preictal_One/chb01_03_103_F7-T7_14-49-56.png, Preictal_One/chb01_03_103_FP1-F3_14-49-56.png, Preictal_One/chb01_03_103_FP1-F7_14-49-56.png, Preictal_One/chb01_03_103_P3-O1_14-49-56.png, Preictal_One/chb01_03_103_P7-O1_14-49-56.png, Preictal_One/chb01_03_103_T7-P7_14-49-56.png, Preictal_One/chb01_03_104_C3-P3_14-50-00.png\n",
      "../../windows/Preictal_One/chb01_03_104_F3-C3_14-50-00.png, Preictal_One/chb01_03_104_F7-T7_14-50-00.png, Preictal_One/chb01_03_104_FP1-F3_14-50-00.png, Preictal_One/chb01_03_104_FP1-F7_14-50-00.png, Preictal_One/chb01_03_104_P3-O1_14-50-00.png, Preictal_One/chb01_03_104_P7-O1_14-50-00.png, Preictal_One/chb01_03_104_T7-P7_14-50-00.png, Preictal_One/chb01_03_105_C3-P3_14-50-04.png\n",
      "../../windows/Preictal_One/chb01_03_105_F3-C3_14-50-04.png, Preictal_One/chb01_03_105_F7-T7_14-50-04.png, Preictal_One/chb01_03_105_FP1-F3_14-50-04.png, Preictal_One/chb01_03_105_FP1-F7_14-50-04.png, Preictal_One/chb01_03_105_P3-O1_14-50-04.png, Preictal_One/chb01_03_105_P7-O1_14-50-04.png, Preictal_One/chb01_03_105_T7-P7_14-50-04.png, Preictal_One/chb01_03_106_C3-P3_14-50-08.png\n",
      "../../windows/Preictal_One/chb01_03_106_F3-C3_14-50-08.png, Preictal_One/chb01_03_106_F7-T7_14-50-08.png, Preictal_One/chb01_03_106_FP1-F3_14-50-08.png, Preictal_One/chb01_03_106_FP1-F7_14-50-08.png, Preictal_One/chb01_03_106_P3-O1_14-50-08.png, Preictal_One/chb01_03_106_P7-O1_14-50-08.png, Preictal_One/chb01_03_106_T7-P7_14-50-08.png, Preictal_One/chb01_03_107_C3-P3_14-50-12.png\n",
      "../../windows/Preictal_One/chb01_03_107_F3-C3_14-50-12.png, Preictal_One/chb01_03_107_F7-T7_14-50-12.png, Preictal_One/chb01_03_107_FP1-F3_14-50-12.png, Preictal_One/chb01_03_107_FP1-F7_14-50-12.png, Preictal_One/chb01_03_107_P3-O1_14-50-12.png, Preictal_One/chb01_03_107_P7-O1_14-50-12.png, Preictal_One/chb01_03_107_T7-P7_14-50-12.png, Preictal_One/chb01_03_108_C3-P3_14-50-16.png\n",
      "../../windows/Preictal_One/chb01_03_108_F3-C3_14-50-16.png, Preictal_One/chb01_03_108_F7-T7_14-50-16.png, Preictal_One/chb01_03_108_FP1-F3_14-50-16.png, Preictal_One/chb01_03_108_FP1-F7_14-50-16.png, Preictal_One/chb01_03_108_P3-O1_14-50-16.png, Preictal_One/chb01_03_108_P7-O1_14-50-16.png, Preictal_One/chb01_03_108_T7-P7_14-50-16.png, Preictal_One/chb01_03_109_C3-P3_14-50-20.png\n",
      "../../windows/Preictal_One/chb01_03_109_F3-C3_14-50-20.png, Preictal_One/chb01_03_109_F7-T7_14-50-20.png, Preictal_One/chb01_03_109_FP1-F3_14-50-20.png, Preictal_One/chb01_03_109_FP1-F7_14-50-20.png, Preictal_One/chb01_03_109_P3-O1_14-50-20.png, Preictal_One/chb01_03_109_P7-O1_14-50-20.png, Preictal_One/chb01_03_109_T7-P7_14-50-20.png, Preictal_One/chb01_03_10_C3-P3_14-43-44.png\n",
      "../../windows/Preictal_One/chb01_03_10_F3-C3_14-43-44.png, Preictal_One/chb01_03_10_F7-T7_14-43-44.png, Preictal_One/chb01_03_10_FP1-F3_14-43-44.png, Preictal_One/chb01_03_10_FP1-F7_14-43-44.png, Preictal_One/chb01_03_10_P3-O1_14-43-44.png, Preictal_One/chb01_03_10_P7-O1_14-43-44.png, Preictal_One/chb01_03_10_T7-P7_14-43-44.png, Preictal_One/chb01_03_110_C3-P3_14-50-24.png\n",
      "../../windows/Preictal_One/chb01_03_110_F3-C3_14-50-24.png, Preictal_One/chb01_03_110_F7-T7_14-50-24.png, Preictal_One/chb01_03_110_FP1-F3_14-50-24.png, Preictal_One/chb01_03_110_FP1-F7_14-50-24.png, Preictal_One/chb01_03_110_P3-O1_14-50-24.png, Preictal_One/chb01_03_110_P7-O1_14-50-24.png, Preictal_One/chb01_03_110_T7-P7_14-50-24.png, Preictal_One/chb01_03_111_C3-P3_14-50-28.png\n",
      "../../windows/Preictal_One/chb01_03_111_F3-C3_14-50-28.png, Preictal_One/chb01_03_111_F7-T7_14-50-28.png, Preictal_One/chb01_03_111_FP1-F3_14-50-28.png, Preictal_One/chb01_03_111_FP1-F7_14-50-28.png, Preictal_One/chb01_03_111_P3-O1_14-50-28.png, Preictal_One/chb01_03_111_P7-O1_14-50-28.png, Preictal_One/chb01_03_111_T7-P7_14-50-28.png, Preictal_One/chb01_03_112_C3-P3_14-50-32.png\n",
      "../../windows/Preictal_One/chb01_03_112_F3-C3_14-50-32.png, Preictal_One/chb01_03_112_F7-T7_14-50-32.png, Preictal_One/chb01_03_112_FP1-F3_14-50-32.png, Preictal_One/chb01_03_112_FP1-F7_14-50-32.png, Preictal_One/chb01_03_112_P3-O1_14-50-32.png, Preictal_One/chb01_03_112_P7-O1_14-50-32.png, Preictal_One/chb01_03_112_T7-P7_14-50-32.png, Preictal_One/chb01_03_113_C3-P3_14-50-36.png\n",
      "../../windows/Preictal_One/chb01_03_113_F3-C3_14-50-36.png, Preictal_One/chb01_03_113_F7-T7_14-50-36.png, Preictal_One/chb01_03_113_FP1-F3_14-50-36.png, Preictal_One/chb01_03_113_FP1-F7_14-50-36.png, Preictal_One/chb01_03_113_P3-O1_14-50-36.png, Preictal_One/chb01_03_113_P7-O1_14-50-36.png, Preictal_One/chb01_03_113_T7-P7_14-50-36.png, Preictal_One/chb01_03_114_C3-P3_14-50-40.png\n",
      "../../windows/Preictal_One/chb01_03_114_F3-C3_14-50-40.png, Preictal_One/chb01_03_114_F7-T7_14-50-40.png, Preictal_One/chb01_03_114_FP1-F3_14-50-40.png, Preictal_One/chb01_03_114_FP1-F7_14-50-40.png, Preictal_One/chb01_03_114_P3-O1_14-50-40.png, Preictal_One/chb01_03_114_P7-O1_14-50-40.png, Preictal_One/chb01_03_114_T7-P7_14-50-40.png, Preictal_One/chb01_03_115_C3-P3_14-50-44.png\n",
      "../../windows/Preictal_One/chb01_03_115_F3-C3_14-50-44.png, Preictal_One/chb01_03_115_F7-T7_14-50-44.png, Preictal_One/chb01_03_115_FP1-F3_14-50-44.png, Preictal_One/chb01_03_115_FP1-F7_14-50-44.png, Preictal_One/chb01_03_115_P3-O1_14-50-44.png, Preictal_One/chb01_03_115_P7-O1_14-50-44.png, Preictal_One/chb01_03_115_T7-P7_14-50-44.png, Preictal_One/chb01_03_116_C3-P3_14-50-48.png\n",
      "../../windows/Preictal_One/chb01_03_116_F3-C3_14-50-48.png, Preictal_One/chb01_03_116_F7-T7_14-50-48.png, Preictal_One/chb01_03_116_FP1-F3_14-50-48.png, Preictal_One/chb01_03_116_FP1-F7_14-50-48.png, Preictal_One/chb01_03_116_P3-O1_14-50-48.png, Preictal_One/chb01_03_116_P7-O1_14-50-48.png, Preictal_One/chb01_03_116_T7-P7_14-50-48.png, Preictal_One/chb01_03_117_C3-P3_14-50-52.png\n",
      "../../windows/Preictal_One/chb01_03_117_F3-C3_14-50-52.png, Preictal_One/chb01_03_117_F7-T7_14-50-52.png, Preictal_One/chb01_03_117_FP1-F3_14-50-52.png, Preictal_One/chb01_03_117_FP1-F7_14-50-52.png, Preictal_One/chb01_03_117_P3-O1_14-50-52.png, Preictal_One/chb01_03_117_P7-O1_14-50-52.png, Preictal_One/chb01_03_117_T7-P7_14-50-52.png, Preictal_One/chb01_03_118_C3-P3_14-50-56.png\n",
      "../../windows/Preictal_One/chb01_03_118_F3-C3_14-50-56.png, Preictal_One/chb01_03_118_F7-T7_14-50-56.png, Preictal_One/chb01_03_118_FP1-F3_14-50-56.png, Preictal_One/chb01_03_118_FP1-F7_14-50-56.png, Preictal_One/chb01_03_118_P3-O1_14-50-56.png, Preictal_One/chb01_03_118_P7-O1_14-50-56.png, Preictal_One/chb01_03_118_T7-P7_14-50-56.png, Preictal_One/chb01_03_119_C3-P3_14-51-00.png\n",
      "../../windows/Preictal_One/chb01_03_119_F3-C3_14-51-00.png, Preictal_One/chb01_03_119_F7-T7_14-51-00.png, Preictal_One/chb01_03_119_FP1-F3_14-51-00.png, Preictal_One/chb01_03_119_FP1-F7_14-51-00.png, Preictal_One/chb01_03_119_P3-O1_14-51-00.png, Preictal_One/chb01_03_119_P7-O1_14-51-00.png, Preictal_One/chb01_03_119_T7-P7_14-51-00.png, Preictal_One/chb01_03_11_C3-P3_14-43-48.png\n",
      "../../windows/Preictal_One/chb01_03_11_F3-C3_14-43-48.png, Preictal_One/chb01_03_11_F7-T7_14-43-48.png, Preictal_One/chb01_03_11_FP1-F3_14-43-48.png, Preictal_One/chb01_03_11_FP1-F7_14-43-48.png, Preictal_One/chb01_03_11_P3-O1_14-43-48.png, Preictal_One/chb01_03_11_P7-O1_14-43-48.png, Preictal_One/chb01_03_11_T7-P7_14-43-48.png, Preictal_One/chb01_03_120_C3-P3_14-51-04.png\n",
      "../../windows/Preictal_One/chb01_03_120_F3-C3_14-51-04.png, Preictal_One/chb01_03_120_F7-T7_14-51-04.png, Preictal_One/chb01_03_120_FP1-F3_14-51-04.png, Preictal_One/chb01_03_120_FP1-F7_14-51-04.png, Preictal_One/chb01_03_120_P3-O1_14-51-04.png, Preictal_One/chb01_03_120_P7-O1_14-51-04.png, Preictal_One/chb01_03_120_T7-P7_14-51-04.png, Preictal_One/chb01_03_121_C3-P3_14-51-08.png\n",
      "../../windows/Preictal_One/chb01_03_121_F3-C3_14-51-08.png, Preictal_One/chb01_03_121_F7-T7_14-51-08.png, Preictal_One/chb01_03_121_FP1-F3_14-51-08.png, Preictal_One/chb01_03_121_FP1-F7_14-51-08.png, Preictal_One/chb01_03_121_P3-O1_14-51-08.png, Preictal_One/chb01_03_121_P7-O1_14-51-08.png, Preictal_One/chb01_03_121_T7-P7_14-51-08.png, Preictal_One/chb01_03_122_C3-P3_14-51-12.png\n",
      "../../windows/Preictal_One/chb01_03_122_F3-C3_14-51-12.png, Preictal_One/chb01_03_122_F7-T7_14-51-12.png, Preictal_One/chb01_03_122_FP1-F3_14-51-12.png, Preictal_One/chb01_03_122_FP1-F7_14-51-12.png, Preictal_One/chb01_03_122_P3-O1_14-51-12.png, Preictal_One/chb01_03_122_P7-O1_14-51-12.png, Preictal_One/chb01_03_122_T7-P7_14-51-12.png, Preictal_One/chb01_03_123_C3-P3_14-51-16.png\n",
      "../../windows/Preictal_One/chb01_03_123_F3-C3_14-51-16.png, Preictal_One/chb01_03_123_F7-T7_14-51-16.png, Preictal_One/chb01_03_123_FP1-F3_14-51-16.png, Preictal_One/chb01_03_123_FP1-F7_14-51-16.png, Preictal_One/chb01_03_123_P3-O1_14-51-16.png, Preictal_One/chb01_03_123_P7-O1_14-51-16.png, Preictal_One/chb01_03_123_T7-P7_14-51-16.png, Preictal_One/chb01_03_124_C3-P3_14-51-20.png\n",
      "../../windows/Preictal_One/chb01_03_124_F3-C3_14-51-20.png, Preictal_One/chb01_03_124_F7-T7_14-51-20.png, Preictal_One/chb01_03_124_FP1-F3_14-51-20.png, Preictal_One/chb01_03_124_FP1-F7_14-51-20.png, Preictal_One/chb01_03_124_P3-O1_14-51-20.png, Preictal_One/chb01_03_124_P7-O1_14-51-20.png, Preictal_One/chb01_03_124_T7-P7_14-51-20.png, Preictal_One/chb01_03_125_C3-P3_14-51-24.png\n",
      "../../windows/Preictal_One/chb01_03_125_F3-C3_14-51-24.png, Preictal_One/chb01_03_125_F7-T7_14-51-24.png, Preictal_One/chb01_03_125_FP1-F3_14-51-24.png, Preictal_One/chb01_03_125_FP1-F7_14-51-24.png, Preictal_One/chb01_03_125_P3-O1_14-51-24.png, Preictal_One/chb01_03_125_P7-O1_14-51-24.png, Preictal_One/chb01_03_125_T7-P7_14-51-24.png, Preictal_One/chb01_03_126_C3-P3_14-51-28.png\n",
      "../../windows/Preictal_One/chb01_03_126_F3-C3_14-51-28.png, Preictal_One/chb01_03_126_F7-T7_14-51-28.png, Preictal_One/chb01_03_126_FP1-F3_14-51-28.png, Preictal_One/chb01_03_126_FP1-F7_14-51-28.png, Preictal_One/chb01_03_126_P3-O1_14-51-28.png, Preictal_One/chb01_03_126_P7-O1_14-51-28.png, Preictal_One/chb01_03_126_T7-P7_14-51-28.png, Preictal_One/chb01_03_127_C3-P3_14-51-32.png\n",
      "../../windows/Preictal_One/chb01_03_127_F3-C3_14-51-32.png, Preictal_One/chb01_03_127_F7-T7_14-51-32.png, Preictal_One/chb01_03_127_FP1-F3_14-51-32.png, Preictal_One/chb01_03_127_FP1-F7_14-51-32.png, Preictal_One/chb01_03_127_P3-O1_14-51-32.png, Preictal_One/chb01_03_127_P7-O1_14-51-32.png, Preictal_One/chb01_03_127_T7-P7_14-51-32.png, Preictal_One/chb01_03_128_C3-P3_14-51-36.png\n",
      "../../windows/Preictal_One/chb01_03_128_F3-C3_14-51-36.png, Preictal_One/chb01_03_128_F7-T7_14-51-36.png, Preictal_One/chb01_03_128_FP1-F3_14-51-36.png, Preictal_One/chb01_03_128_FP1-F7_14-51-36.png, Preictal_One/chb01_03_128_P3-O1_14-51-36.png, Preictal_One/chb01_03_128_P7-O1_14-51-36.png, Preictal_One/chb01_03_128_T7-P7_14-51-36.png, Preictal_One/chb01_03_129_C3-P3_14-51-40.png\n",
      "../../windows/Preictal_One/chb01_03_129_F3-C3_14-51-40.png, Preictal_One/chb01_03_129_F7-T7_14-51-40.png, Preictal_One/chb01_03_129_FP1-F3_14-51-40.png, Preictal_One/chb01_03_129_FP1-F7_14-51-40.png, Preictal_One/chb01_03_129_P3-O1_14-51-40.png, Preictal_One/chb01_03_129_P7-O1_14-51-40.png, Preictal_One/chb01_03_129_T7-P7_14-51-40.png, Preictal_One/chb01_03_12_C3-P3_14-43-52.png\n",
      "../../windows/Preictal_One/chb01_03_12_F3-C3_14-43-52.png, Preictal_One/chb01_03_12_F7-T7_14-43-52.png, Preictal_One/chb01_03_12_FP1-F3_14-43-52.png, Preictal_One/chb01_03_12_FP1-F7_14-43-52.png, Preictal_One/chb01_03_12_P3-O1_14-43-52.png, Preictal_One/chb01_03_12_P7-O1_14-43-52.png, Preictal_One/chb01_03_12_T7-P7_14-43-52.png, Preictal_One/chb01_03_130_C3-P3_14-51-44.png\n",
      "../../windows/Preictal_One/chb01_03_130_F3-C3_14-51-44.png, Preictal_One/chb01_03_130_F7-T7_14-51-44.png, Preictal_One/chb01_03_130_FP1-F3_14-51-44.png, Preictal_One/chb01_03_130_FP1-F7_14-51-44.png, Preictal_One/chb01_03_130_P3-O1_14-51-44.png, Preictal_One/chb01_03_130_P7-O1_14-51-44.png, Preictal_One/chb01_03_130_T7-P7_14-51-44.png, Preictal_One/chb01_03_131_C3-P3_14-51-48.png\n",
      "../../windows/Preictal_One/chb01_03_131_F3-C3_14-51-48.png, Preictal_One/chb01_03_131_F7-T7_14-51-48.png, Preictal_One/chb01_03_131_FP1-F3_14-51-48.png, Preictal_One/chb01_03_131_FP1-F7_14-51-48.png, Preictal_One/chb01_03_131_P3-O1_14-51-48.png, Preictal_One/chb01_03_131_P7-O1_14-51-48.png, Preictal_One/chb01_03_131_T7-P7_14-51-48.png, Preictal_One/chb01_03_132_C3-P3_14-51-52.png\n",
      "../../windows/Preictal_One/chb01_03_132_F3-C3_14-51-52.png, Preictal_One/chb01_03_132_F7-T7_14-51-52.png, Preictal_One/chb01_03_132_FP1-F3_14-51-52.png, Preictal_One/chb01_03_132_FP1-F7_14-51-52.png, Preictal_One/chb01_03_132_P3-O1_14-51-52.png, Preictal_One/chb01_03_132_P7-O1_14-51-52.png, Preictal_One/chb01_03_132_T7-P7_14-51-52.png, Preictal_One/chb01_03_133_C3-P3_14-51-56.png\n",
      "../../windows/Preictal_One/chb01_03_133_F3-C3_14-51-56.png, Preictal_One/chb01_03_133_F7-T7_14-51-56.png, Preictal_One/chb01_03_133_FP1-F3_14-51-56.png, Preictal_One/chb01_03_133_FP1-F7_14-51-56.png, Preictal_One/chb01_03_133_P3-O1_14-51-56.png, Preictal_One/chb01_03_133_P7-O1_14-51-56.png, Preictal_One/chb01_03_133_T7-P7_14-51-56.png, Preictal_One/chb01_03_134_C3-P3_14-52-00.png\n",
      "../../windows/Preictal_One/chb01_03_134_F3-C3_14-52-00.png, Preictal_One/chb01_03_134_F7-T7_14-52-00.png, Preictal_One/chb01_03_134_FP1-F3_14-52-00.png, Preictal_One/chb01_03_134_FP1-F7_14-52-00.png, Preictal_One/chb01_03_134_P3-O1_14-52-00.png, Preictal_One/chb01_03_134_P7-O1_14-52-00.png, Preictal_One/chb01_03_134_T7-P7_14-52-00.png, Preictal_One/chb01_03_135_C3-P3_14-52-04.png\n",
      "../../windows/Preictal_One/chb10_27_202_F3-C3_23-46-41.png, Preictal_One/chb10_27_202_F7-T7_23-46-41.png, Preictal_Two/chb01_03_0_C3-P3_14-43-04.png, Preictal_Two/chb01_03_0_F3-C3_14-43-04.png, Preictal_Two/chb01_03_0_F7-T7_14-43-04.png, Preictal_Two/chb01_03_0_FP1-F3_14-43-04.png, Preictal_Two/chb01_03_0_FP1-F7_14-43-04.png, Preictal_Two/chb01_03_0_P3-O1_14-43-04.png\n",
      "../../windows/Preictal_Two/chb01_03_0_P7-O1_14-43-04.png, Preictal_Two/chb01_03_0_T7-P7_14-43-04.png, Preictal_Two/chb01_03_100_C3-P3_14-49-44.png, Preictal_Two/chb01_03_100_F3-C3_14-49-44.png, Preictal_Two/chb01_03_100_F7-T7_14-49-44.png, Preictal_Two/chb01_03_100_FP1-F3_14-49-44.png, Preictal_Two/chb01_03_100_FP1-F7_14-49-44.png, Preictal_Two/chb01_03_100_P3-O1_14-49-44.png\n",
      "../../windows/Preictal_Two/chb01_03_100_P7-O1_14-49-44.png, Preictal_Two/chb01_03_100_T7-P7_14-49-44.png, Preictal_Two/chb01_03_101_C3-P3_14-49-48.png, Preictal_Two/chb01_03_101_F3-C3_14-49-48.png, Preictal_Two/chb01_03_101_F7-T7_14-49-48.png, Preictal_Two/chb01_03_101_FP1-F3_14-49-48.png, Preictal_Two/chb01_03_101_FP1-F7_14-49-48.png, Preictal_Two/chb01_03_101_P3-O1_14-49-48.png\n",
      "../../windows/Preictal_Two/chb01_03_101_P7-O1_14-49-48.png, Preictal_Two/chb01_03_101_T7-P7_14-49-48.png, Preictal_Two/chb01_03_102_C3-P3_14-49-52.png, Preictal_Two/chb01_03_102_F3-C3_14-49-52.png, Preictal_Two/chb01_03_102_F7-T7_14-49-52.png, Preictal_Two/chb01_03_102_FP1-F3_14-49-52.png, Preictal_Two/chb01_03_102_FP1-F7_14-49-52.png, Preictal_Two/chb01_03_102_P3-O1_14-49-52.png\n",
      "../../windows/Preictal_Two/chb01_03_102_P7-O1_14-49-52.png, Preictal_Two/chb01_03_102_T7-P7_14-49-52.png, Preictal_Two/chb01_03_103_C3-P3_14-49-56.png, Preictal_Two/chb01_03_103_F3-C3_14-49-56.png, Preictal_Two/chb01_03_103_F7-T7_14-49-56.png, Preictal_Two/chb01_03_103_FP1-F3_14-49-56.png, Preictal_Two/chb01_03_103_FP1-F7_14-49-56.png, Preictal_Two/chb01_03_103_P3-O1_14-49-56.png\n",
      "../../windows/Preictal_Two/chb01_03_103_P7-O1_14-49-56.png, Preictal_Two/chb01_03_103_T7-P7_14-49-56.png, Preictal_Two/chb01_03_104_C3-P3_14-50-00.png, Preictal_Two/chb01_03_104_F3-C3_14-50-00.png, Preictal_Two/chb01_03_104_F7-T7_14-50-00.png, Preictal_Two/chb01_03_104_FP1-F3_14-50-00.png, Preictal_Two/chb01_03_104_FP1-F7_14-50-00.png, Preictal_Two/chb01_03_104_P3-O1_14-50-00.png\n",
      "../../windows/Preictal_Two/chb01_03_104_P7-O1_14-50-00.png, Preictal_Two/chb01_03_104_T7-P7_14-50-00.png, Preictal_Two/chb01_03_105_C3-P3_14-50-04.png, Preictal_Two/chb01_03_105_F3-C3_14-50-04.png, Preictal_Two/chb01_03_105_F7-T7_14-50-04.png, Preictal_Two/chb01_03_105_FP1-F3_14-50-04.png, Preictal_Two/chb01_03_105_FP1-F7_14-50-04.png, Preictal_Two/chb01_03_105_P3-O1_14-50-04.png\n",
      "../../windows/Preictal_Two/chb01_03_105_P7-O1_14-50-04.png, Preictal_Two/chb01_03_105_T7-P7_14-50-04.png, Preictal_Two/chb01_03_106_C3-P3_14-50-08.png, Preictal_Two/chb01_03_106_F3-C3_14-50-08.png, Preictal_Two/chb01_03_106_F7-T7_14-50-08.png, Preictal_Two/chb01_03_106_FP1-F3_14-50-08.png, Preictal_Two/chb01_03_106_FP1-F7_14-50-08.png, Preictal_Two/chb01_03_106_P3-O1_14-50-08.png\n",
      "../../windows/Preictal_Two/chb01_03_106_P7-O1_14-50-08.png, Preictal_Two/chb01_03_106_T7-P7_14-50-08.png, Preictal_Two/chb01_03_107_C3-P3_14-50-12.png, Preictal_Two/chb01_03_107_F3-C3_14-50-12.png, Preictal_Two/chb01_03_107_F7-T7_14-50-12.png, Preictal_Two/chb01_03_107_FP1-F3_14-50-12.png, Preictal_Two/chb01_03_107_FP1-F7_14-50-12.png, Preictal_Two/chb01_03_107_P3-O1_14-50-12.png\n",
      "../../windows/Preictal_Two/chb01_03_107_P7-O1_14-50-12.png, Preictal_Two/chb01_03_107_T7-P7_14-50-12.png, Preictal_Two/chb01_03_108_C3-P3_14-50-16.png, Preictal_Two/chb01_03_108_F3-C3_14-50-16.png, Preictal_Two/chb01_03_108_F7-T7_14-50-16.png, Preictal_Two/chb01_03_108_FP1-F3_14-50-16.png, Preictal_Two/chb01_03_108_FP1-F7_14-50-16.png, Preictal_Two/chb01_03_108_P3-O1_14-50-16.png\n",
      "../../windows/Preictal_Two/chb01_03_108_P7-O1_14-50-16.png, Preictal_Two/chb01_03_108_T7-P7_14-50-16.png, Preictal_Two/chb01_03_109_C3-P3_14-50-20.png, Preictal_Two/chb01_03_109_F3-C3_14-50-20.png, Preictal_Two/chb01_03_109_F7-T7_14-50-20.png, Preictal_Two/chb01_03_109_FP1-F3_14-50-20.png, Preictal_Two/chb01_03_109_FP1-F7_14-50-20.png, Preictal_Two/chb01_03_109_P3-O1_14-50-20.png\n",
      "../../windows/Preictal_Two/chb01_03_109_P7-O1_14-50-20.png, Preictal_Two/chb01_03_109_T7-P7_14-50-20.png, Preictal_Two/chb01_03_10_C3-P3_14-43-44.png, Preictal_Two/chb01_03_10_F3-C3_14-43-44.png, Preictal_Two/chb01_03_10_F7-T7_14-43-44.png, Preictal_Two/chb01_03_10_FP1-F3_14-43-44.png, Preictal_Two/chb01_03_10_FP1-F7_14-43-44.png, Preictal_Two/chb01_03_10_P3-O1_14-43-44.png\n",
      "../../windows/Preictal_Two/chb01_03_10_P7-O1_14-43-44.png, Preictal_Two/chb01_03_10_T7-P7_14-43-44.png, Preictal_Two/chb01_03_110_C3-P3_14-50-24.png, Preictal_Two/chb01_03_110_F3-C3_14-50-24.png, Preictal_Two/chb01_03_110_F7-T7_14-50-24.png, Preictal_Two/chb01_03_110_FP1-F3_14-50-24.png, Preictal_Two/chb01_03_110_FP1-F7_14-50-24.png, Preictal_Two/chb01_03_110_P3-O1_14-50-24.png\n",
      "../../windows/Preictal_Two/chb01_03_110_P7-O1_14-50-24.png, Preictal_Two/chb01_03_110_T7-P7_14-50-24.png, Preictal_Two/chb01_03_111_C3-P3_14-50-28.png, Preictal_Two/chb01_03_111_F3-C3_14-50-28.png, Preictal_Two/chb01_03_111_F7-T7_14-50-28.png, Preictal_Two/chb01_03_111_FP1-F3_14-50-28.png, Preictal_Two/chb01_03_111_FP1-F7_14-50-28.png, Preictal_Two/chb01_03_111_P3-O1_14-50-28.png\n",
      "../../windows/Preictal_Two/chb01_03_111_P7-O1_14-50-28.png, Preictal_Two/chb01_03_111_T7-P7_14-50-28.png, Preictal_Two/chb01_03_112_C3-P3_14-50-32.png, Preictal_Two/chb01_03_112_F3-C3_14-50-32.png, Preictal_Two/chb01_03_112_F7-T7_14-50-32.png, Preictal_Two/chb01_03_112_FP1-F3_14-50-32.png, Preictal_Two/chb01_03_112_FP1-F7_14-50-32.png, Preictal_Two/chb01_03_112_P3-O1_14-50-32.png\n",
      "../../windows/Preictal_Two/chb01_03_112_P7-O1_14-50-32.png, Preictal_Two/chb01_03_112_T7-P7_14-50-32.png, Preictal_Two/chb01_03_113_C3-P3_14-50-36.png, Preictal_Two/chb01_03_113_F3-C3_14-50-36.png, Preictal_Two/chb01_03_113_F7-T7_14-50-36.png, Preictal_Two/chb01_03_113_FP1-F3_14-50-36.png, Preictal_Two/chb01_03_113_FP1-F7_14-50-36.png, Preictal_Two/chb01_03_113_P3-O1_14-50-36.png\n",
      "../../windows/Preictal_Two/chb01_03_113_P7-O1_14-50-36.png, Preictal_Two/chb01_03_113_T7-P7_14-50-36.png, Preictal_Two/chb01_03_114_C3-P3_14-50-40.png, Preictal_Two/chb01_03_114_F3-C3_14-50-40.png, Preictal_Two/chb01_03_114_F7-T7_14-50-40.png, Preictal_Two/chb01_03_114_FP1-F3_14-50-40.png, Preictal_Two/chb01_03_114_FP1-F7_14-50-40.png, Preictal_Two/chb01_03_114_P3-O1_14-50-40.png\n",
      "../../windows/Preictal_Two/chb01_03_114_P7-O1_14-50-40.png, Preictal_Two/chb01_03_114_T7-P7_14-50-40.png, Preictal_Two/chb01_03_115_C3-P3_14-50-44.png, Preictal_Two/chb01_03_115_F3-C3_14-50-44.png, Preictal_Two/chb01_03_115_F7-T7_14-50-44.png, Preictal_Two/chb01_03_115_FP1-F3_14-50-44.png, Preictal_Two/chb01_03_115_FP1-F7_14-50-44.png, Preictal_Two/chb01_03_115_P3-O1_14-50-44.png\n",
      "../../windows/Preictal_Two/chb01_03_115_P7-O1_14-50-44.png, Preictal_Two/chb01_03_115_T7-P7_14-50-44.png, Preictal_Two/chb01_03_116_C3-P3_14-50-48.png, Preictal_Two/chb01_03_116_F3-C3_14-50-48.png, Preictal_Two/chb01_03_116_F7-T7_14-50-48.png, Preictal_Two/chb01_03_116_FP1-F3_14-50-48.png, Preictal_Two/chb01_03_116_FP1-F7_14-50-48.png, Preictal_Two/chb01_03_116_P3-O1_14-50-48.png\n",
      "../../windows/Preictal_Two/chb01_03_116_P7-O1_14-50-48.png, Preictal_Two/chb01_03_116_T7-P7_14-50-48.png, Preictal_Two/chb01_03_117_C3-P3_14-50-52.png, Preictal_Two/chb01_03_117_F3-C3_14-50-52.png, Preictal_Two/chb01_03_117_F7-T7_14-50-52.png, Preictal_Two/chb01_03_117_FP1-F3_14-50-52.png, Preictal_Two/chb01_03_117_FP1-F7_14-50-52.png, Preictal_Two/chb01_03_117_P3-O1_14-50-52.png\n",
      "../../windows/Preictal_Two/chb01_03_117_P7-O1_14-50-52.png, Preictal_Two/chb01_03_117_T7-P7_14-50-52.png, Preictal_Two/chb01_03_118_C3-P3_14-50-56.png, Preictal_Two/chb01_03_118_F3-C3_14-50-56.png, Preictal_Two/chb01_03_118_F7-T7_14-50-56.png, Preictal_Two/chb01_03_118_FP1-F3_14-50-56.png, Preictal_Two/chb01_03_118_FP1-F7_14-50-56.png, Preictal_Two/chb01_03_118_P3-O1_14-50-56.png\n",
      "../../windows/Preictal_Two/chb01_03_118_P7-O1_14-50-56.png, Preictal_Two/chb01_03_118_T7-P7_14-50-56.png, Preictal_Two/chb01_03_119_C3-P3_14-51-00.png, Preictal_Two/chb01_03_119_F3-C3_14-51-00.png, Preictal_Two/chb01_03_119_F7-T7_14-51-00.png, Preictal_Two/chb01_03_119_FP1-F3_14-51-00.png, Preictal_Two/chb01_03_119_FP1-F7_14-51-00.png, Preictal_Two/chb01_03_119_P3-O1_14-51-00.png\n",
      "../../windows/Preictal_Two/chb01_03_119_P7-O1_14-51-00.png, Preictal_Two/chb01_03_119_T7-P7_14-51-00.png, Preictal_Two/chb01_03_11_C3-P3_14-43-48.png, Preictal_Two/chb01_03_11_F3-C3_14-43-48.png, Preictal_Two/chb01_03_11_F7-T7_14-43-48.png, Preictal_Two/chb01_03_11_FP1-F3_14-43-48.png, Preictal_Two/chb01_03_11_FP1-F7_14-43-48.png, Preictal_Two/chb01_03_11_P3-O1_14-43-48.png\n",
      "../../windows/Preictal_Two/chb01_03_11_P7-O1_14-43-48.png, Preictal_Two/chb01_03_11_T7-P7_14-43-48.png, Preictal_Two/chb01_03_120_C3-P3_14-51-04.png, Preictal_Two/chb01_03_120_F3-C3_14-51-04.png, Preictal_Two/chb01_03_120_F7-T7_14-51-04.png, Preictal_Two/chb01_03_120_FP1-F3_14-51-04.png, Preictal_Two/chb01_03_120_FP1-F7_14-51-04.png, Preictal_Two/chb01_03_120_P3-O1_14-51-04.png\n",
      "../../windows/Preictal_Two/chb01_03_120_P7-O1_14-51-04.png, Preictal_Two/chb01_03_120_T7-P7_14-51-04.png, Preictal_Two/chb01_03_121_C3-P3_14-51-08.png, Preictal_Two/chb01_03_121_F3-C3_14-51-08.png, Preictal_Two/chb01_03_121_F7-T7_14-51-08.png, Preictal_Two/chb01_03_121_FP1-F3_14-51-08.png, Preictal_Two/chb01_03_121_FP1-F7_14-51-08.png, Preictal_Two/chb01_03_121_P3-O1_14-51-08.png\n",
      "../../windows/Preictal_Two/chb01_03_121_P7-O1_14-51-08.png, Preictal_Two/chb01_03_121_T7-P7_14-51-08.png, Preictal_Two/chb01_03_122_C3-P3_14-51-12.png, Preictal_Two/chb01_03_122_F3-C3_14-51-12.png, Preictal_Two/chb01_03_122_F7-T7_14-51-12.png, Preictal_Two/chb01_03_122_FP1-F3_14-51-12.png, Preictal_Two/chb01_03_122_FP1-F7_14-51-12.png, Preictal_Two/chb01_03_122_P3-O1_14-51-12.png\n",
      "../../windows/Preictal_Two/chb01_03_122_P7-O1_14-51-12.png, Preictal_Two/chb01_03_122_T7-P7_14-51-12.png, Preictal_Two/chb01_03_123_C3-P3_14-51-16.png, Preictal_Two/chb01_03_123_F3-C3_14-51-16.png, Preictal_Two/chb01_03_123_F7-T7_14-51-16.png, Preictal_Two/chb01_03_123_FP1-F3_14-51-16.png, Preictal_Two/chb01_03_123_FP1-F7_14-51-16.png, Preictal_Two/chb01_03_123_P3-O1_14-51-16.png\n",
      "../../windows/Preictal_Two/chb01_03_123_P7-O1_14-51-16.png, Preictal_Two/chb01_03_123_T7-P7_14-51-16.png, Preictal_Two/chb01_03_124_C3-P3_14-51-20.png, Preictal_Two/chb01_03_124_F3-C3_14-51-20.png, Preictal_Two/chb01_03_124_F7-T7_14-51-20.png, Preictal_Two/chb01_03_124_FP1-F3_14-51-20.png, Preictal_Two/chb01_03_124_FP1-F7_14-51-20.png, Preictal_Two/chb01_03_124_P3-O1_14-51-20.png\n",
      "../../windows/Preictal_Two/chb01_03_124_P7-O1_14-51-20.png, Preictal_Two/chb01_03_124_T7-P7_14-51-20.png, Preictal_Two/chb01_03_125_C3-P3_14-51-24.png, Preictal_Two/chb01_03_125_F3-C3_14-51-24.png, Preictal_Two/chb01_03_125_F7-T7_14-51-24.png, Preictal_Two/chb01_03_125_FP1-F3_14-51-24.png, Preictal_Two/chb01_03_125_FP1-F7_14-51-24.png, Preictal_Two/chb01_03_125_P3-O1_14-51-24.png\n",
      "../../windows/Preictal_Two/chb01_03_125_P7-O1_14-51-24.png, Preictal_Two/chb01_03_125_T7-P7_14-51-24.png, Preictal_Two/chb01_03_126_C3-P3_14-51-28.png, Preictal_Two/chb01_03_126_F3-C3_14-51-28.png, Preictal_Two/chb01_03_126_F7-T7_14-51-28.png, Preictal_Two/chb01_03_126_FP1-F3_14-51-28.png, Preictal_Two/chb01_03_126_FP1-F7_14-51-28.png, Preictal_Two/chb01_03_126_P3-O1_14-51-28.png\n",
      "../../windows/Preictal_Two/chb01_03_126_P7-O1_14-51-28.png, Preictal_Two/chb01_03_126_T7-P7_14-51-28.png, Preictal_Two/chb01_03_127_C3-P3_14-51-32.png, Preictal_Two/chb01_03_127_F3-C3_14-51-32.png, Preictal_Two/chb01_03_127_F7-T7_14-51-32.png, Preictal_Two/chb01_03_127_FP1-F3_14-51-32.png, Preictal_Two/chb01_03_127_FP1-F7_14-51-32.png, Preictal_Two/chb01_03_127_P3-O1_14-51-32.png\n",
      "../../windows/Preictal_Two/chb01_03_127_P7-O1_14-51-32.png, Preictal_Two/chb01_03_127_T7-P7_14-51-32.png, Preictal_Two/chb01_03_128_C3-P3_14-51-36.png, Preictal_Two/chb01_03_128_F3-C3_14-51-36.png, Preictal_Two/chb01_03_128_F7-T7_14-51-36.png, Preictal_Two/chb01_03_128_FP1-F3_14-51-36.png, Preictal_Two/chb01_03_128_FP1-F7_14-51-36.png, Preictal_Two/chb01_03_128_P3-O1_14-51-36.png\n",
      "../../windows/Preictal_Two/chb01_03_128_P7-O1_14-51-36.png, Preictal_Two/chb01_03_128_T7-P7_14-51-36.png, Preictal_Two/chb01_03_129_C3-P3_14-51-40.png, Preictal_Two/chb01_03_129_F3-C3_14-51-40.png, Preictal_Two/chb01_03_129_F7-T7_14-51-40.png, Preictal_Two/chb01_03_129_FP1-F3_14-51-40.png, Preictal_Two/chb01_03_129_FP1-F7_14-51-40.png, Preictal_Two/chb01_03_129_P3-O1_14-51-40.png\n",
      "../../windows/Preictal_Two/chb01_03_129_P7-O1_14-51-40.png, Preictal_Two/chb01_03_129_T7-P7_14-51-40.png, Preictal_Two/chb01_03_12_C3-P3_14-43-52.png, Preictal_Two/chb01_03_12_F3-C3_14-43-52.png, Preictal_Two/chb01_03_12_F7-T7_14-43-52.png, Preictal_Two/chb01_03_12_FP1-F3_14-43-52.png, Preictal_Two/chb01_03_12_FP1-F7_14-43-52.png, Preictal_Two/chb01_03_12_P3-O1_14-43-52.png\n",
      "../../windows/Preictal_Two/chb01_03_12_P7-O1_14-43-52.png, Preictal_Two/chb01_03_12_T7-P7_14-43-52.png, Preictal_Two/chb01_03_130_C3-P3_14-51-44.png, Preictal_Two/chb01_03_130_F3-C3_14-51-44.png, Preictal_Two/chb01_03_130_F7-T7_14-51-44.png, Preictal_Two/chb01_03_130_FP1-F3_14-51-44.png, Preictal_Two/chb01_03_130_FP1-F7_14-51-44.png, Preictal_Two/chb01_03_130_P3-O1_14-51-44.png\n",
      "../../windows/Preictal_Two/chb01_03_130_P7-O1_14-51-44.png, Preictal_Two/chb01_03_130_T7-P7_14-51-44.png, Preictal_Two/chb01_03_131_C3-P3_14-51-48.png, Preictal_Two/chb01_03_131_F3-C3_14-51-48.png, Preictal_Two/chb01_03_131_F7-T7_14-51-48.png, Preictal_Two/chb01_03_131_FP1-F3_14-51-48.png, Preictal_Two/chb01_03_131_FP1-F7_14-51-48.png, Preictal_Two/chb01_03_131_P3-O1_14-51-48.png\n",
      "../../windows/Preictal_Two/chb01_03_131_P7-O1_14-51-48.png, Preictal_Two/chb01_03_131_T7-P7_14-51-48.png, Preictal_Two/chb01_03_132_C3-P3_14-51-52.png, Preictal_Two/chb01_03_132_F3-C3_14-51-52.png, Preictal_Two/chb01_03_132_F7-T7_14-51-52.png, Preictal_Two/chb01_03_132_FP1-F3_14-51-52.png, Preictal_Two/chb01_03_132_FP1-F7_14-51-52.png, Preictal_Two/chb01_03_132_P3-O1_14-51-52.png\n",
      "../../windows/Preictal_Two/chb01_03_132_P7-O1_14-51-52.png, Preictal_Two/chb01_03_132_T7-P7_14-51-52.png, Preictal_Two/chb01_03_133_C3-P3_14-51-56.png, Preictal_Two/chb01_03_133_F3-C3_14-51-56.png, Preictal_Two/chb01_03_133_F7-T7_14-51-56.png, Preictal_Two/chb01_03_133_FP1-F3_14-51-56.png, Preictal_Two/chb01_03_133_FP1-F7_14-51-56.png, Preictal_Two/chb01_03_133_P3-O1_14-51-56.png\n",
      "../../windows/Preictal_Two/chb01_03_133_P7-O1_14-51-56.png, Preictal_Two/chb01_03_133_T7-P7_14-51-56.png, Preictal_Two/chb01_03_134_C3-P3_14-52-00.png, Preictal_Two/chb01_03_134_F3-C3_14-52-00.png, Preictal_Two/chb01_03_134_F7-T7_14-52-00.png, Preictal_Two/chb01_03_134_FP1-F3_14-52-00.png, Preictal_Two/chb01_03_134_FP1-F7_14-52-00.png, Preictal_Two/chb01_03_134_P3-O1_14-52-00.png\n",
      "../../windows/Preictal_Two/chb01_03_134_P7-O1_14-52-00.png, Preictal_Two/chb01_03_134_T7-P7_14-52-00.png, Preictal_Two/chb01_03_135_C3-P3_14-52-04.png, Preictal_Two/chb01_03_135_F3-C3_14-52-04.png, Preictal_Two/chb01_03_135_F7-T7_14-52-04.png, Preictal_Two/chb01_03_135_FP1-F3_14-52-04.png, Preictal_Two/chb01_03_135_FP1-F7_14-52-04.png, Preictal_Two/chb01_03_135_P3-O1_14-52-04.png\n",
      "../../windows/Preictal_Two/chb01_03_135_P7-O1_14-52-04.png, Preictal_Two/chb01_03_135_T7-P7_14-52-04.png, Preictal_Two/chb01_03_136_C3-P3_14-52-08.png, Preictal_Two/chb01_03_136_F3-C3_14-52-08.png, Preictal_Two/chb01_03_136_F7-T7_14-52-08.png, Preictal_Two/chb01_03_136_FP1-F3_14-52-08.png, Preictal_Two/chb01_03_136_FP1-F7_14-52-08.png, Preictal_Two/chb01_03_136_P3-O1_14-52-08.png\n",
      "../../windows/Preictal_Two/chb10_27_46_P7-O1_23-05-12.png, Preictal_Two/chb10_27_46_T7-P7_23-05-12.png, Preictal_Two/chb10_27_47_C3-P3_23-05-16.png, Preictal_Two/chb10_27_47_F3-C3_23-05-16.png, Preictal_Two/chb10_27_47_F7-T7_23-05-16.png, Preictal_Two/chb10_27_47_FP1-F3_23-05-16.png, Seizure/chb01_03_0_C3-P3_15-33-00.png, Seizure/chb01_03_0_F3-C3_15-33-00.png\n",
      "../../windows/Seizure/chb01_03_0_F7-T7_15-33-00.png, Seizure/chb01_03_0_FP1-F3_15-33-00.png, Seizure/chb01_03_0_FP1-F7_15-33-00.png, Seizure/chb01_03_0_P3-O1_15-33-00.png, Seizure/chb01_03_0_P7-O1_15-33-00.png, Seizure/chb01_03_0_T7-P7_15-33-00.png, Seizure/chb01_03_10_C3-P3_15-33-20.png, Seizure/chb01_03_10_F3-C3_15-33-20.png\n",
      "../../windows/Seizure/chb01_03_10_F7-T7_15-33-20.png, Seizure/chb01_03_10_FP1-F3_15-33-20.png, Seizure/chb01_03_10_FP1-F7_15-33-20.png, Seizure/chb01_03_10_P3-O1_15-33-20.png, Seizure/chb01_03_10_P7-O1_15-33-20.png, Seizure/chb01_03_10_T7-P7_15-33-20.png, Seizure/chb01_03_11_C3-P3_15-33-22.png, Seizure/chb01_03_11_F3-C3_15-33-22.png\n",
      "../../windows/Seizure/chb01_03_11_F7-T7_15-33-22.png, Seizure/chb01_03_11_FP1-F3_15-33-22.png, Seizure/chb01_03_11_FP1-F7_15-33-22.png, Seizure/chb01_03_11_P3-O1_15-33-22.png, Seizure/chb01_03_11_P7-O1_15-33-22.png, Seizure/chb01_03_11_T7-P7_15-33-22.png, Seizure/chb01_03_12_C3-P3_15-33-24.png, Seizure/chb01_03_12_F3-C3_15-33-24.png\n",
      "../../windows/Seizure/chb01_03_12_F7-T7_15-33-24.png, Seizure/chb01_03_12_FP1-F3_15-33-24.png, Seizure/chb01_03_12_FP1-F7_15-33-24.png, Seizure/chb01_03_12_P3-O1_15-33-24.png, Seizure/chb01_03_12_P7-O1_15-33-24.png, Seizure/chb01_03_12_T7-P7_15-33-24.png, Seizure/chb01_03_13_C3-P3_15-33-26.png, Seizure/chb01_03_13_F3-C3_15-33-26.png\n",
      "../../windows/Seizure/chb01_03_13_F7-T7_15-33-26.png, Seizure/chb01_03_13_FP1-F3_15-33-26.png, Seizure/chb01_03_13_FP1-F7_15-33-26.png, Seizure/chb01_03_13_P3-O1_15-33-26.png, Seizure/chb01_03_13_P7-O1_15-33-26.png, Seizure/chb01_03_13_T7-P7_15-33-26.png, Seizure/chb01_03_14_C3-P3_15-33-28.png, Seizure/chb01_03_14_F3-C3_15-33-28.png\n",
      "../../windows/Seizure/chb01_03_14_F7-T7_15-33-28.png, Seizure/chb01_03_14_FP1-F3_15-33-28.png, Seizure/chb01_03_14_FP1-F7_15-33-28.png, Seizure/chb01_03_14_P3-O1_15-33-28.png, Seizure/chb01_03_14_P7-O1_15-33-28.png, Seizure/chb01_03_14_T7-P7_15-33-28.png, Seizure/chb01_03_15_C3-P3_15-33-30.png, Seizure/chb01_03_15_F3-C3_15-33-30.png\n",
      "../../windows/Seizure/chb01_03_15_F7-T7_15-33-30.png, Seizure/chb01_03_15_FP1-F3_15-33-30.png, Seizure/chb01_03_15_FP1-F7_15-33-30.png, Seizure/chb01_03_15_P3-O1_15-33-30.png, Seizure/chb01_03_15_P7-O1_15-33-30.png, Seizure/chb01_03_15_T7-P7_15-33-30.png, Seizure/chb01_03_16_C3-P3_15-33-32.png, Seizure/chb01_03_16_F3-C3_15-33-32.png\n",
      "../../windows/Seizure/chb01_03_16_F7-T7_15-33-32.png, Seizure/chb01_03_16_FP1-F3_15-33-32.png, Seizure/chb01_03_16_FP1-F7_15-33-32.png, Seizure/chb01_03_16_P3-O1_15-33-32.png, Seizure/chb01_03_16_P7-O1_15-33-32.png, Seizure/chb01_03_16_T7-P7_15-33-32.png, Seizure/chb01_03_17_C3-P3_15-33-34.png, Seizure/chb01_03_17_F3-C3_15-33-34.png\n",
      "../../windows/Seizure/chb01_03_17_F7-T7_15-33-34.png, Seizure/chb01_03_17_FP1-F3_15-33-34.png, Seizure/chb01_03_17_FP1-F7_15-33-34.png, Seizure/chb01_03_17_P3-O1_15-33-34.png, Seizure/chb01_03_17_P7-O1_15-33-34.png, Seizure/chb01_03_17_T7-P7_15-33-34.png, Seizure/chb01_03_18_C3-P3_15-33-36.png, Seizure/chb01_03_18_F3-C3_15-33-36.png\n",
      "../../windows/Seizure/chb01_03_18_F7-T7_15-33-36.png, Seizure/chb01_03_18_FP1-F3_15-33-36.png, Seizure/chb01_03_18_FP1-F7_15-33-36.png, Seizure/chb01_03_18_P3-O1_15-33-36.png, Seizure/chb01_03_18_P7-O1_15-33-36.png, Seizure/chb01_03_18_T7-P7_15-33-36.png, Seizure/chb01_03_19_C3-P3_15-33-38.png, Seizure/chb01_03_19_F3-C3_15-33-38.png\n"
     ]
    }
   ],
   "source": [
    "for i, row in test_df.iterrows():\n",
    "    val = str(row.filename)\n",
    "    print(val)\n",
    "    test_df.at[i,'filename'] = val.split(\",\", 1)[0]"
   ]
  },
  {
   "cell_type": "code",
   "execution_count": 5,
   "metadata": {},
   "outputs": [],
   "source": [
    "generator = ImageDataGenerator(\n",
    "   rescale = 1./255,\n",
    ")"
   ]
  },
  {
   "cell_type": "code",
   "execution_count": 6,
   "metadata": {},
   "outputs": [
    {
     "name": "stdout",
     "output_type": "stream",
     "text": [
      "Found 160 validated image filenames belonging to 4 classes.\n"
     ]
    }
   ],
   "source": [
    "inc_test_gen = generator.flow_from_dataframe(test_df,batch_size=batch_size, target_size=inceptionV3_input_shape, classes=list(labels), shuffle=False)"
   ]
  },
  {
   "cell_type": "code",
   "execution_count": 7,
   "metadata": {},
   "outputs": [
    {
     "name": "stdout",
     "output_type": "stream",
     "text": [
      "Found 160 validated image filenames belonging to 4 classes.\n"
     ]
    }
   ],
   "source": [
    "res_test_gen = generator.flow_from_dataframe(test_df,batch_size=batch_size, target_size=resnet152_input_shape, classes=list(labels), shuffle=False)"
   ]
  },
  {
   "cell_type": "code",
   "execution_count": 8,
   "metadata": {},
   "outputs": [],
   "source": [
    "def generator_test():\n",
    "     while True:\n",
    "        X1i = inc_test_gen.next()\n",
    "        X2i = res_test_gen.next()\n",
    "        yield [X1i[0], X2i[0]], X1i[1]"
   ]
  },
  {
   "cell_type": "code",
   "execution_count": 9,
   "metadata": {},
   "outputs": [
    {
     "data": {
      "text/plain": [
       "40"
      ]
     },
     "execution_count": 9,
     "metadata": {},
     "output_type": "execute_result"
    }
   ],
   "source": [
    "number_of_steps = inc_test_gen.samples // batch_size\n",
    "number_of_steps"
   ]
  },
  {
   "cell_type": "code",
   "execution_count": 17,
   "metadata": {},
   "outputs": [],
   "source": [
    "from tensorflow.python.keras import backend as K\n",
    "\n",
    "K.clear_session()\n",
    "tf.compat.v1.disable_eager_execution()\n",
    "\n",
    "graph = None\n",
    "\n",
    "def load_model():\n",
    "    global loaded_model\n",
    "    global graph\n",
    "\n",
    "    loaded_model = tf.keras.models.load_model(\"../../h5_files/freezed_four_patient_all_data.h5\")\n",
    "    graph = tf.compat.v1.get_default_graph()\n",
    "\n",
    "load_model()"
   ]
  },
  {
   "cell_type": "code",
   "execution_count": 21,
   "metadata": {},
   "outputs": [
    {
     "name": "stderr",
     "output_type": "stream",
     "text": [
      "C:\\Users\\thoma\\anaconda3\\envs\\AI_keras_env_GPU\\lib\\site-packages\\keras\\engine\\training.py:2470: UserWarning: `Model.state_updates` will be removed in a future version. This property should not be used in TensorFlow 2.0, as `updates` are applied automatically.\n",
      "  warnings.warn('`Model.state_updates` will be removed in a future version. '\n"
     ]
    }
   ],
   "source": [
    "with graph.as_default():\n",
    "    y_pred = loaded_model.predict(generator_test(), steps=number_of_steps)"
   ]
  },
  {
   "cell_type": "code",
   "execution_count": 23,
   "metadata": {},
   "outputs": [],
   "source": [
    "y_pred_max = y_pred.argmax(axis=-1)"
   ]
  },
  {
   "cell_type": "code",
   "execution_count": 24,
   "metadata": {},
   "outputs": [],
   "source": [
    "y_true = inc_test_gen.classes"
   ]
  },
  {
   "cell_type": "code",
   "execution_count": 25,
   "metadata": {},
   "outputs": [],
   "source": [
    "\n",
    "from sklearn.metrics import classification_report, multilabel_confusion_matrix, ConfusionMatrixDisplay, confusion_matrix, plot_confusion_matrix"
   ]
  },
  {
   "cell_type": "code",
   "execution_count": 26,
   "metadata": {},
   "outputs": [
    {
     "name": "stderr",
     "output_type": "stream",
     "text": [
      "C:\\Users\\thoma\\anaconda3\\envs\\AI_keras_env_GPU\\lib\\site-packages\\sklearn\\metrics\\_classification.py:1248: UndefinedMetricWarning: Precision and F-score are ill-defined and being set to 0.0 in labels with no predicted samples. Use `zero_division` parameter to control this behavior.\n",
      "  _warn_prf(average, modifier, msg_start, len(result))\n",
      "C:\\Users\\thoma\\anaconda3\\envs\\AI_keras_env_GPU\\lib\\site-packages\\sklearn\\metrics\\_classification.py:1248: UndefinedMetricWarning: Precision and F-score are ill-defined and being set to 0.0 in labels with no predicted samples. Use `zero_division` parameter to control this behavior.\n",
      "  _warn_prf(average, modifier, msg_start, len(result))\n",
      "C:\\Users\\thoma\\anaconda3\\envs\\AI_keras_env_GPU\\lib\\site-packages\\sklearn\\metrics\\_classification.py:1248: UndefinedMetricWarning: Precision and F-score are ill-defined and being set to 0.0 in labels with no predicted samples. Use `zero_division` parameter to control this behavior.\n",
      "  _warn_prf(average, modifier, msg_start, len(result))\n"
     ]
    }
   ],
   "source": [
    "clf_report = classification_report(y_true=y_true, y_pred=y_pred_max, target_names=labels)"
   ]
  },
  {
   "cell_type": "code",
   "execution_count": 27,
   "metadata": {},
   "outputs": [
    {
     "name": "stdout",
     "output_type": "stream",
     "text": [
      "              precision    recall  f1-score   support\n",
      "\n",
      "  Interictal       0.25      1.00      0.40        40\n",
      "Preictal_One       0.00      0.00      0.00        40\n",
      "Preictal_Two       0.00      0.00      0.00        41\n",
      "     Seizure       0.00      0.00      0.00        39\n",
      "\n",
      "    accuracy                           0.25       160\n",
      "   macro avg       0.06      0.25      0.10       160\n",
      "weighted avg       0.06      0.25      0.10       160\n",
      "\n"
     ]
    }
   ],
   "source": [
    "print(clf_report)"
   ]
  },
  {
   "cell_type": "code",
   "execution_count": 28,
   "metadata": {},
   "outputs": [
    {
     "data": {
      "text/plain": [
       "array([[40,  0,  0,  0],\n",
       "       [40,  0,  0,  0],\n",
       "       [41,  0,  0,  0],\n",
       "       [39,  0,  0,  0]], dtype=int64)"
      ]
     },
     "execution_count": 28,
     "metadata": {},
     "output_type": "execute_result"
    }
   ],
   "source": [
    "confusion_matrix = confusion_matrix(y_true=y_true, y_pred=list(y_pred_max))\n",
    "\n",
    "confusion_matrix"
   ]
  },
  {
   "cell_type": "code",
   "execution_count": 29,
   "metadata": {},
   "outputs": [],
   "source": [
    "import matplotlib"
   ]
  },
  {
   "cell_type": "code",
   "execution_count": 33,
   "metadata": {},
   "outputs": [
    {
     "data": {
      "image/png": "[encoded data removed]",
      "text/plain": [
       "<Figure size 1332x756 with 2 Axes>"
      ]
     },
     "metadata": {
      "needs_background": "light"
     },
     "output_type": "display_data"
    }
   ],
   "source": [
    "ConfusionMatrixDisplay(confusion_matrix=confusion_matrix, display_labels=labels).plot(cmap='Blues')\n",
    "plt.title(\"Frozen Layers: 5 Epoch : four patient (all data)=train : validation split = test\")\n",
    "fig = matplotlib.pyplot.gcf()\n",
    "fig.set_size_inches(18.5, 10.5)\n",
    "plt.savefig(\"hi2.png\")"
   ]
  }
 ],
 "metadata": {
  "interpreter": {
   "hash": "6e7f8d72e760dd7e6e3caedb330214dc76b4fc22099e9082eefd214a35743a05"
  },
  "kernelspec": {
   "display_name": "Python 3.7.11 64-bit ('AI_keras_env_GPU': conda)",
   "name": "python3"
  },
  "language_info": {
   "codemirror_mode": {
    "name": "ipython",
    "version": 3
   },
   "file_extension": ".py",
   "mimetype": "text/x-python",
   "name": "python",
   "nbconvert_exporter": "python",
   "pygments_lexer": "ipython3",
   "version": "3.7.11"
  },
  "orig_nbformat": 4
 },
 "nbformat": 4,
 "nbformat_minor": 2
}
