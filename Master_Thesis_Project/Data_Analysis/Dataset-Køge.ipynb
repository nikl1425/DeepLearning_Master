{
 "cells": [
  {
   "cell_type": "markdown",
   "metadata": {},
   "source": [
    "# Data Exploration: Køge Dataset"
   ]
  },
  {
   "cell_type": "markdown",
   "metadata": {},
   "source": [
    "This notebook contains the analysis of the signal data contained by the database provided by Jonas Munch Nielsen who is a PHD student.<br>\n",
    "\n",
    "The Dataset is collected at childrens hospital of Boston. It contains EEG recordings 10 subjects. <br>\n",
    "<br>\n",
    "Notice that only files containing seizure timestamp are included.\n",
    "\n",
    "The outline of this analysis is a follows: <br>\n",
    "\n",
    "1. Reading and transforming the dataset to pandas Dataframe\n",
    "2. Taking a look at the different features from the frequency and time domain.\n",
    "3. Spectral analysis.\n",
    "4. Building the model using the keras functional API."
   ]
  },
  {
   "cell_type": "markdown",
   "metadata": {},
   "source": [
    "## Importing Packages"
   ]
  },
  {
   "cell_type": "code",
   "execution_count": 1,
   "metadata": {},
   "outputs": [
    {
     "name": "stdout",
     "output_type": "stream",
     "text": [
      "Tensor Flow Version: 2.7.0\n",
      "Keras Version: 2.7.0\n",
      "\n",
      "Python 3.9.7 (default, Sep 16 2021, 23:53:23) \n",
      "[Clang 12.0.0 ]\n",
      "Pandas 1.3.4\n",
      "Scikit-Learn 1.0.1\n",
      "GPU is available\n"
     ]
    }
   ],
   "source": [
    "# What version of Python do you have?\n",
    "import sys\n",
    "import os\n",
    "import tensorflow.keras\n",
    "import pandas as pd\n",
    "import sklearn as sk\n",
    "import tensorflow as tf\n",
    "import numpy as np\n",
    "import re\n",
    "import mne\n",
    "import pathlib\n",
    "import openpyxl\n",
    "from datetime import datetime\n",
    "import pytz\n",
    "import matplotlib\n",
    "import random\n",
    "import os\n",
    "from skimage.restoration import (denoise_wavelet, estimate_sigma)\n",
    "from pathlib import Path\n",
    "from tensorflow.keras.preprocessing.image import ImageDataGenerator\n",
    "from tensorflow.keras import layers, models, Sequential\n",
    "from matplotlib import pyplot as plt\n",
    "from scipy import signal\n",
    "plt.ioff()\n",
    "import psutil\n",
    "import gc\n",
    "import glob\n",
    "plt.style.use('ggplot')\n",
    "\n",
    "print(f\"Tensor Flow Version: {tf.__version__}\")\n",
    "print(f\"Keras Version: {tensorflow.keras.__version__}\")\n",
    "print()\n",
    "print(f\"Python {sys.version}\")\n",
    "print(f\"Pandas {pd.__version__}\")\n",
    "print(f\"Scikit-Learn {sk.__version__}\")\n",
    "gpu = len(tf.config.list_physical_devices('GPU'))>0\n",
    "print(\"GPU is\", \"available\" if gpu else \"NOT AVAILABLE\")"
   ]
  },
  {
   "cell_type": "markdown",
   "metadata": {},
   "source": [
    "## Data Overview"
   ]
  },
  {
   "cell_type": "code",
   "execution_count": 2,
   "metadata": {},
   "outputs": [
    {
     "data": {
      "text/plain": [
       "'/Users/niklashjort/Desktop/Notes/Speciale/projects/Master_Thesis_Project/Data_Analysis'"
      ]
     },
     "execution_count": 2,
     "metadata": {},
     "output_type": "execute_result"
    }
   ],
   "source": [
    "cwd = os.getcwd()\n",
    "database_path = '../../Dataset/EMU_monitor(ruc)/'\n",
    "save_csv_path = '../../Dataset/EMU_monitor(ruc)/NHR/EEG'\n",
    "edf_file_type = \".edf\"\n",
    "capitilize_edf_file_type = \".EDF\"\n",
    "bdf_file_type = \".BDF\"\n",
    "patient_one_path = 'chb04/'\n",
    "info_df_path = \"/Users/niklashjort/Desktop/Notes/Speciale/projects/Dataset/EMU_monitor(ruc)/NHR_Eventlist_RUC.xlsx\"\n",
    "external_hardisk_drive_path = os.path.dirname('/Volumes/LaCie/Database/')\n",
    "cwd"
   ]
  },
  {
   "cell_type": "code",
   "execution_count": 3,
   "metadata": {},
   "outputs": [
    {
     "data": {
      "text/html": [
       "<div>\n",
       "<style scoped>\n",
       "    .dataframe tbody tr th:only-of-type {\n",
       "        vertical-align: middle;\n",
       "    }\n",
       "\n",
       "    .dataframe tbody tr th {\n",
       "        vertical-align: top;\n",
       "    }\n",
       "\n",
       "    .dataframe thead th {\n",
       "        text-align: right;\n",
       "    }\n",
       "</style>\n",
       "<table border=\"1\" class=\"dataframe\">\n",
       "  <thead>\n",
       "    <tr style=\"text-align: right;\">\n",
       "      <th></th>\n",
       "      <th>patientID</th>\n",
       "      <th>time_emu</th>\n",
       "      <th>SeizureID</th>\n",
       "      <th>delay</th>\n",
       "      <th>seizureDuration</th>\n",
       "      <th>fileName</th>\n",
       "    </tr>\n",
       "  </thead>\n",
       "  <tbody>\n",
       "    <tr>\n",
       "      <th>0</th>\n",
       "      <td>4</td>\n",
       "      <td>22-05-2019 02:45:22</td>\n",
       "      <td>1</td>\n",
       "      <td>83.000001</td>\n",
       "      <td>56</td>\n",
       "      <td>20190521155643_p4Nat2.sdeeg_converted_.easy_fi...</td>\n",
       "    </tr>\n",
       "    <tr>\n",
       "      <th>1</th>\n",
       "      <td>4</td>\n",
       "      <td>2019-05-22 03:50:49</td>\n",
       "      <td>2</td>\n",
       "      <td>83.000000</td>\n",
       "      <td>53</td>\n",
       "      <td>20190521155643_p4Nat2.sdeeg_converted_.easy_fi...</td>\n",
       "    </tr>\n",
       "    <tr>\n",
       "      <th>2</th>\n",
       "      <td>4</td>\n",
       "      <td>2019-05-22 05:27:56</td>\n",
       "      <td>3</td>\n",
       "      <td>81.000000</td>\n",
       "      <td>48</td>\n",
       "      <td>20190521155643_p4Nat2.sdeeg_converted_.easy_fi...</td>\n",
       "    </tr>\n",
       "    <tr>\n",
       "      <th>3</th>\n",
       "      <td>4</td>\n",
       "      <td>2019-05-22 07:07:04</td>\n",
       "      <td>4</td>\n",
       "      <td>81.000000</td>\n",
       "      <td>52</td>\n",
       "      <td>20190521155643_p4Nat2.sdeeg_converted_.easy_fi...</td>\n",
       "    </tr>\n",
       "    <tr>\n",
       "      <th>4</th>\n",
       "      <td>4</td>\n",
       "      <td>2019-05-22 07:51:24</td>\n",
       "      <td>5</td>\n",
       "      <td>81.000000</td>\n",
       "      <td>53</td>\n",
       "      <td>20190521155643_p4Nat2.sdeeg_converted_.easy_fi...</td>\n",
       "    </tr>\n",
       "  </tbody>\n",
       "</table>\n",
       "</div>"
      ],
      "text/plain": [
       "   patientID             time_emu  SeizureID      delay  seizureDuration  \\\n",
       "0          4  22-05-2019 02:45:22          1  83.000001               56   \n",
       "1          4  2019-05-22 03:50:49          2  83.000000               53   \n",
       "2          4  2019-05-22 05:27:56          3  81.000000               48   \n",
       "3          4  2019-05-22 07:07:04          4  81.000000               52   \n",
       "4          4  2019-05-22 07:51:24          5  81.000000               53   \n",
       "\n",
       "                                            fileName  \n",
       "0  20190521155643_p4Nat2.sdeeg_converted_.easy_fi...  \n",
       "1  20190521155643_p4Nat2.sdeeg_converted_.easy_fi...  \n",
       "2  20190521155643_p4Nat2.sdeeg_converted_.easy_fi...  \n",
       "3  20190521155643_p4Nat2.sdeeg_converted_.easy_fi...  \n",
       "4  20190521155643_p4Nat2.sdeeg_converted_.easy_fi...  "
      ]
     },
     "execution_count": 3,
     "metadata": {},
     "output_type": "execute_result"
    }
   ],
   "source": [
    "info_df = pd.read_excel(info_df_path, sheet_name=\"NHR_EEG\")\n",
    "info_df.head()"
   ]
  },
  {
   "cell_type": "markdown",
   "metadata": {},
   "source": [
    "Find seizure duration distribution across all patients"
   ]
  },
  {
   "cell_type": "code",
   "execution_count": 8,
   "metadata": {},
   "outputs": [
    {
     "data": {
      "text/plain": [
       "{'4': 503,\n",
       " '6': 146,\n",
       " '24': 106,\n",
       " '28': 70,\n",
       " '30': 350,\n",
       " '21': 1417,\n",
       " '33': 95,\n",
       " '34': 109,\n",
       " '35': 41}"
      ]
     },
     "execution_count": 8,
     "metadata": {},
     "output_type": "execute_result"
    }
   ],
   "source": [
    "patient_list = info_df['patientID'].unique()\n",
    "\n",
    "distr_sz = {}\n",
    "\n",
    "for patient in patient_list:\n",
    "  duration = 0\n",
    "  for _, row in info_df.iterrows():\n",
    "    if str(patient) == str(row['patientID']):\n",
    "      duration += row['seizureDuration']\n",
    "  distr_sz[f\"{patient}\"] = duration\n",
    "\n",
    "distr_sz\n",
    "    "
   ]
  },
  {
   "cell_type": "code",
   "execution_count": 10,
   "metadata": {},
   "outputs": [
    {
     "data": {
      "image/png": "[encoded data removed]",
      "text/plain": [
       "<Figure size 432x288 with 1 Axes>"
      ]
     },
     "metadata": {},
     "output_type": "display_data"
    }
   ],
   "source": [
    "plt.bar(range(len(distr_sz)), list(distr_sz.values()), align=\"center\")\n",
    "plt.xticks(range(len(distr_sz)), list(distr_sz.keys()))\n",
    "plt.title(\"Seizure Duration\")\n",
    "plt.xlabel('patient')\n",
    "plt.ylabel('Duration Sec')\n",
    "plt.show()"
   ]
  },
  {
   "cell_type": "markdown",
   "metadata": {},
   "source": [
    "## Reading EEG DATA:"
   ]
  },
  {
   "cell_type": "markdown",
   "metadata": {},
   "source": [
    "Sample: File information"
   ]
  },
  {
   "cell_type": "code",
   "execution_count": 11,
   "metadata": {},
   "outputs": [],
   "source": [
    "def ReadEdfFile(file_name, print_reader_info = False):\n",
    "    if edf_file_type in file_name or capitilize_edf_file_type in file_name:\n",
    "        if(print_reader_info):\n",
    "            data = mne.io.read_raw_edf(file_name)\n",
    "            raw_data = data.get_data()\n",
    "            converted_raw = pd.DataFrame(raw_data.transpose(), columns=data.ch_names)\n",
    "            print(data.info)\n",
    "            return converted_raw, data.info\n",
    "        else:\n",
    "            data = mne.io.read_raw_edf(file_name, verbose='error')\n",
    "            raw_data = data.get_data()\n",
    "            converted_raw = pd.DataFrame(raw_data.transpose(), columns=data.ch_names)\n",
    "            return converted_raw, data.info\n",
    "    if bdf_file_type in file_name:\n",
    "        if(print_reader_info):\n",
    "            data = mne.io.read_raw_bdf(file_name)\n",
    "            raw_data = data.get_data()\n",
    "            converted_raw = pd.DataFrame(raw_data.transpose(), columns=data.ch_names)\n",
    "            print(data.info)\n",
    "            return converted_raw, data.info\n",
    "        else:\n",
    "            data = mne.io.read_raw_edf(file_name, verbose='error')\n",
    "            raw_data = data.get_data()\n",
    "            converted_raw = pd.DataFrame(raw_data.transpose(), columns=data.ch_names)\n",
    "            return converted_raw, data.info"
   ]
  },
  {
   "cell_type": "code",
   "execution_count": null,
   "metadata": {},
   "outputs": [],
   "source": [
    "eeg_df, info = ReadEdfFile(\"\") "
   ]
  }
 ],
 "metadata": {
  "interpreter": {
   "hash": "2d9490b5a9dd46a6ab080d0f73db65c6c6d9993be0cc7a713abd5fe1ad7a747d"
  },
  "kernelspec": {
   "display_name": "Python 3.9.7 64-bit ('tensorflow': conda)",
   "language": "python",
   "name": "python3"
  },
  "language_info": {
   "codemirror_mode": {
    "name": "ipython",
    "version": 3
   },
   "file_extension": ".py",
   "mimetype": "text/x-python",
   "name": "python",
   "nbconvert_exporter": "python",
   "pygments_lexer": "ipython3",
   "version": "3.9.7"
  },
  "orig_nbformat": 4
 },
 "nbformat": 4,
 "nbformat_minor": 2
}
