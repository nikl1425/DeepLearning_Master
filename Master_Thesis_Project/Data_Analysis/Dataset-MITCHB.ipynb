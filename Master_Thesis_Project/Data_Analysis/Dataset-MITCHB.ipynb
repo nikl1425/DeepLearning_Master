{
 "cells": [
  {
   "cell_type": "markdown",
   "metadata": {},
   "source": [
    "# Data Exploration: MIT-chb"
   ]
  },
  {
   "cell_type": "markdown",
   "metadata": {},
   "source": [
    "This notebook contains the analysis of the signal data contained by the database https://physionet.org/content/chbmit/1.0.0/. <br>\n",
    "\n",
    "The Dataset is collected at childrens hospital of Boston. It contains EEG recordings from 22 subjects (5 male, 17 females). All of the subjects are in the age between 3 - 22 years. <br>\n",
    "<br>\n",
    "The outline of this analysis is a follows: <br>\n",
    "\n",
    "1. Reading and transforming the dataset to pandas Dataframe\n",
    "2. Taking a look at the different features from the frequency and time domain.\n",
    "3. Spectral analysis.\n",
    "4. Building the model using the keras functional API."
   ]
  },
  {
   "cell_type": "code",
   "execution_count": null,
   "metadata": {},
   "outputs": [],
   "source": []
  }
 ],
 "metadata": {
  "language_info": {
   "name": "python"
  },
  "orig_nbformat": 4
 },
 "nbformat": 4,
 "nbformat_minor": 2
}
