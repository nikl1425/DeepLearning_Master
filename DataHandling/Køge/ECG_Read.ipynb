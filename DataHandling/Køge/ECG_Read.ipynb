{
 "cells": [
  {
   "cell_type": "code",
   "execution_count": 1,
   "metadata": {},
   "outputs": [
    {
     "name": "stdout",
     "output_type": "stream",
     "text": [
      "Init Plugin\n",
      "Init Graph Optimizer\n",
      "Init Kernel\n",
      "Tensor Flow Version: 2.5.0\n",
      "Keras Version: 2.5.0\n",
      "\n",
      "Python 3.9.7 (default, Sep 16 2021, 23:53:23) \n",
      "[Clang 12.0.0 ]\n",
      "Pandas 1.3.1\n",
      "Scikit-Learn 0.24.2\n",
      "GPU is available\n"
     ]
    }
   ],
   "source": [
    "# What version of Python do you have?\n",
    "import sys\n",
    "import os\n",
    "import tensorflow.keras\n",
    "import pandas as pd\n",
    "import sklearn as sk\n",
    "import tensorflow as tf\n",
    "import numpy as np\n",
    "import re\n",
    "import mne\n",
    "import pathlib\n",
    "import openpyxl\n",
    "from datetime import datetime\n",
    "import pytz\n",
    "import matplotlib\n",
    "import random\n",
    "import os\n",
    "from skimage.restoration import (denoise_wavelet, estimate_sigma)\n",
    "from pathlib import Path\n",
    "from tensorflow.keras.preprocessing.image import ImageDataGenerator\n",
    "from tensorflow.keras import layers, models, Sequential\n",
    "from matplotlib import pyplot as plt\n",
    "from scipy import signal\n",
    "import psutil\n",
    "import gc\n",
    "import glob\n",
    "#pd.io.parquet.get_engine('auto').__class__\n",
    "#%matplotlib inline\n",
    "#matplotlib.use('Qt5Agg')\n",
    "#matplotlib.use('agg')\n",
    "\n",
    "print(f\"Tensor Flow Version: {tf.__version__}\")\n",
    "print(f\"Keras Version: {tensorflow.keras.__version__}\")\n",
    "print()\n",
    "print(f\"Python {sys.version}\")\n",
    "print(f\"Pandas {pd.__version__}\")\n",
    "print(f\"Scikit-Learn {sk.__version__}\")\n",
    "gpu = len(tf.config.list_physical_devices('GPU'))>0\n",
    "print(\"GPU is\", \"available\" if gpu else \"NOT AVAILABLE\")"
   ]
  },
  {
   "cell_type": "code",
   "execution_count": 2,
   "metadata": {},
   "outputs": [
    {
     "data": {
      "text/plain": [
       "'/Users/niklashjort/Desktop/Notes/Speciale/projects/DataHandling/Køge'"
      ]
     },
     "execution_count": 2,
     "metadata": {},
     "output_type": "execute_result"
    }
   ],
   "source": [
    "cwd = os.getcwd()\n",
    "database_path = '../../Dataset/EMU_monitor(ruc)/'\n",
    "save_csv_path = '../../Dataset/EMU_monitor(ruc)/NHR/ECG/'\n",
    "edf_file_type = \".edf\"\n",
    "capitilize_edf_file_type = \".EDF\"\n",
    "bdf_file_type = \".BDF\"\n",
    "patient_one_path = 'chb04/'\n",
    "info_df_path = \"../../Dataset/EMU_monitor(ruc)/Eventlist_RUC.xlsx\"\n",
    "external_hardisk_drive_path = os.path.dirname('/Volumes/LaCie/Database/')\n",
    "cwd"
   ]
  },
  {
   "cell_type": "code",
   "execution_count": 3,
   "metadata": {},
   "outputs": [],
   "source": [
    "os.chdir(\"/Volumes/NHR HDD/\")\n",
    "database_path = \"EMU_monitor(ruc)/\"\n",
    "info_df_path = database_path + \"NHR_Eventlist_RUC.xlsx\"\n",
    "save_csv_path = \"Køge/ECG_csv_filtered/\""
   ]
  },
  {
   "cell_type": "code",
   "execution_count": 4,
   "metadata": {},
   "outputs": [],
   "source": [
    "info_df = pd.read_excel(info_df_path, sheet_name=\"NHR_ECG\")"
   ]
  },
  {
   "cell_type": "code",
   "execution_count": 5,
   "metadata": {},
   "outputs": [
    {
     "data": {
      "text/html": [
       "<div>\n",
       "<style scoped>\n",
       "    .dataframe tbody tr th:only-of-type {\n",
       "        vertical-align: middle;\n",
       "    }\n",
       "\n",
       "    .dataframe tbody tr th {\n",
       "        vertical-align: top;\n",
       "    }\n",
       "\n",
       "    .dataframe thead th {\n",
       "        text-align: right;\n",
       "    }\n",
       "</style>\n",
       "<table border=\"1\" class=\"dataframe\">\n",
       "  <thead>\n",
       "    <tr style=\"text-align: right;\">\n",
       "      <th></th>\n",
       "      <th>patientID</th>\n",
       "      <th>time_emu</th>\n",
       "      <th>SeizureID</th>\n",
       "      <th>delay</th>\n",
       "      <th>seizureDuration</th>\n",
       "      <th>fileName</th>\n",
       "    </tr>\n",
       "  </thead>\n",
       "  <tbody>\n",
       "    <tr>\n",
       "      <th>0</th>\n",
       "      <td>4</td>\n",
       "      <td>22-05-2019 02:45:22</td>\n",
       "      <td>1</td>\n",
       "      <td>83.000001</td>\n",
       "      <td>56</td>\n",
       "      <td>11-02-59.EDF</td>\n",
       "    </tr>\n",
       "    <tr>\n",
       "      <th>1</th>\n",
       "      <td>4</td>\n",
       "      <td>2019-05-22 03:50:49</td>\n",
       "      <td>2</td>\n",
       "      <td>83.000000</td>\n",
       "      <td>53</td>\n",
       "      <td>11-02-59.EDF</td>\n",
       "    </tr>\n",
       "    <tr>\n",
       "      <th>2</th>\n",
       "      <td>4</td>\n",
       "      <td>2019-05-22 05:27:56</td>\n",
       "      <td>3</td>\n",
       "      <td>81.000000</td>\n",
       "      <td>48</td>\n",
       "      <td>11-02-59.EDF</td>\n",
       "    </tr>\n",
       "    <tr>\n",
       "      <th>3</th>\n",
       "      <td>4</td>\n",
       "      <td>2019-05-22 07:07:04</td>\n",
       "      <td>4</td>\n",
       "      <td>81.000000</td>\n",
       "      <td>52</td>\n",
       "      <td>11-02-59.EDF</td>\n",
       "    </tr>\n",
       "    <tr>\n",
       "      <th>4</th>\n",
       "      <td>4</td>\n",
       "      <td>2019-05-22 07:51:24</td>\n",
       "      <td>5</td>\n",
       "      <td>81.000000</td>\n",
       "      <td>53</td>\n",
       "      <td>11-02-59.EDF</td>\n",
       "    </tr>\n",
       "  </tbody>\n",
       "</table>\n",
       "</div>"
      ],
      "text/plain": [
       "   patientID             time_emu  SeizureID      delay  seizureDuration  \\\n",
       "0          4  22-05-2019 02:45:22          1  83.000001               56   \n",
       "1          4  2019-05-22 03:50:49          2  83.000000               53   \n",
       "2          4  2019-05-22 05:27:56          3  81.000000               48   \n",
       "3          4  2019-05-22 07:07:04          4  81.000000               52   \n",
       "4          4  2019-05-22 07:51:24          5  81.000000               53   \n",
       "\n",
       "       fileName  \n",
       "0  11-02-59.EDF  \n",
       "1  11-02-59.EDF  \n",
       "2  11-02-59.EDF  \n",
       "3  11-02-59.EDF  \n",
       "4  11-02-59.EDF  "
      ]
     },
     "execution_count": 5,
     "metadata": {},
     "output_type": "execute_result"
    }
   ],
   "source": [
    "info_df.head()"
   ]
  },
  {
   "cell_type": "code",
   "execution_count": 6,
   "metadata": {},
   "outputs": [],
   "source": [
    "for i, r in info_df.iterrows():\n",
    "    patient_id = r['patientID']\n",
    "    patient_folder = \"Patient \" + str(patient_id)\n",
    "    EEG_file = r['fileName']\n",
    "    for folder in os.listdir(database_path + \"EKG\"):\n",
    "        if patient_folder == folder and EEG_file != 0:\n",
    "            full_path_patient_file = database_path + f\"EKG/{patient_folder}/{EEG_file}\"\n",
    "            info_df.loc[i, \"fullPath\"] = full_path_patient_file"
   ]
  },
  {
   "cell_type": "code",
   "execution_count": 7,
   "metadata": {},
   "outputs": [
    {
     "data": {
      "text/html": [
       "<div>\n",
       "<style scoped>\n",
       "    .dataframe tbody tr th:only-of-type {\n",
       "        vertical-align: middle;\n",
       "    }\n",
       "\n",
       "    .dataframe tbody tr th {\n",
       "        vertical-align: top;\n",
       "    }\n",
       "\n",
       "    .dataframe thead th {\n",
       "        text-align: right;\n",
       "    }\n",
       "</style>\n",
       "<table border=\"1\" class=\"dataframe\">\n",
       "  <thead>\n",
       "    <tr style=\"text-align: right;\">\n",
       "      <th></th>\n",
       "      <th>patientID</th>\n",
       "      <th>time_emu</th>\n",
       "      <th>SeizureID</th>\n",
       "      <th>delay</th>\n",
       "      <th>seizureDuration</th>\n",
       "      <th>fileName</th>\n",
       "      <th>fullPath</th>\n",
       "    </tr>\n",
       "  </thead>\n",
       "  <tbody>\n",
       "    <tr>\n",
       "      <th>0</th>\n",
       "      <td>4</td>\n",
       "      <td>22-05-2019 02:45:22</td>\n",
       "      <td>1</td>\n",
       "      <td>83.000001</td>\n",
       "      <td>56</td>\n",
       "      <td>11-02-59.EDF</td>\n",
       "      <td>EMU_monitor(ruc)/EKG/Patient 4/11-02-59.EDF</td>\n",
       "    </tr>\n",
       "    <tr>\n",
       "      <th>1</th>\n",
       "      <td>4</td>\n",
       "      <td>2019-05-22 03:50:49</td>\n",
       "      <td>2</td>\n",
       "      <td>83.000000</td>\n",
       "      <td>53</td>\n",
       "      <td>11-02-59.EDF</td>\n",
       "      <td>EMU_monitor(ruc)/EKG/Patient 4/11-02-59.EDF</td>\n",
       "    </tr>\n",
       "    <tr>\n",
       "      <th>2</th>\n",
       "      <td>4</td>\n",
       "      <td>2019-05-22 05:27:56</td>\n",
       "      <td>3</td>\n",
       "      <td>81.000000</td>\n",
       "      <td>48</td>\n",
       "      <td>11-02-59.EDF</td>\n",
       "      <td>EMU_monitor(ruc)/EKG/Patient 4/11-02-59.EDF</td>\n",
       "    </tr>\n",
       "    <tr>\n",
       "      <th>3</th>\n",
       "      <td>4</td>\n",
       "      <td>2019-05-22 07:07:04</td>\n",
       "      <td>4</td>\n",
       "      <td>81.000000</td>\n",
       "      <td>52</td>\n",
       "      <td>11-02-59.EDF</td>\n",
       "      <td>EMU_monitor(ruc)/EKG/Patient 4/11-02-59.EDF</td>\n",
       "    </tr>\n",
       "    <tr>\n",
       "      <th>4</th>\n",
       "      <td>4</td>\n",
       "      <td>2019-05-22 07:51:24</td>\n",
       "      <td>5</td>\n",
       "      <td>81.000000</td>\n",
       "      <td>53</td>\n",
       "      <td>11-02-59.EDF</td>\n",
       "      <td>EMU_monitor(ruc)/EKG/Patient 4/11-02-59.EDF</td>\n",
       "    </tr>\n",
       "  </tbody>\n",
       "</table>\n",
       "</div>"
      ],
      "text/plain": [
       "   patientID             time_emu  SeizureID      delay  seizureDuration  \\\n",
       "0          4  22-05-2019 02:45:22          1  83.000001               56   \n",
       "1          4  2019-05-22 03:50:49          2  83.000000               53   \n",
       "2          4  2019-05-22 05:27:56          3  81.000000               48   \n",
       "3          4  2019-05-22 07:07:04          4  81.000000               52   \n",
       "4          4  2019-05-22 07:51:24          5  81.000000               53   \n",
       "\n",
       "       fileName                                     fullPath  \n",
       "0  11-02-59.EDF  EMU_monitor(ruc)/EKG/Patient 4/11-02-59.EDF  \n",
       "1  11-02-59.EDF  EMU_monitor(ruc)/EKG/Patient 4/11-02-59.EDF  \n",
       "2  11-02-59.EDF  EMU_monitor(ruc)/EKG/Patient 4/11-02-59.EDF  \n",
       "3  11-02-59.EDF  EMU_monitor(ruc)/EKG/Patient 4/11-02-59.EDF  \n",
       "4  11-02-59.EDF  EMU_monitor(ruc)/EKG/Patient 4/11-02-59.EDF  "
      ]
     },
     "execution_count": 7,
     "metadata": {},
     "output_type": "execute_result"
    }
   ],
   "source": [
    "info_df.head()"
   ]
  },
  {
   "cell_type": "code",
   "execution_count": 8,
   "metadata": {},
   "outputs": [],
   "source": [
    "info_list = []\n",
    "\n",
    "for i, r in info_df.iterrows():\n",
    "    patient_id = r['patientID']\n",
    "    patient_file = r['fullPath']\n",
    "    container = {\"ID\": patient_id, \"File\": patient_file}\n",
    "\n",
    "    if container not in info_list:\n",
    "        info_list.append(container)"
   ]
  },
  {
   "cell_type": "code",
   "execution_count": 9,
   "metadata": {},
   "outputs": [
    {
     "data": {
      "text/plain": [
       "[{'ID': 4, 'File': 'EMU_monitor(ruc)/EKG/Patient 4/11-02-59.EDF'},\n",
       " {'ID': 6, 'File': 'EMU_monitor(ruc)/EKG/Patient 6/11-00-04.EDF'},\n",
       " {'ID': 24, 'File': 'EMU_monitor(ruc)/EKG/Patient 24/10-43-58.EDF'},\n",
       " {'ID': 28, 'File': 'EMU_monitor(ruc)/EKG/Patient 28/10-54-06.EDF'},\n",
       " {'ID': 30, 'File': 'EMU_monitor(ruc)/EKG/Patient 30/09-38-19.EDF'}]"
      ]
     },
     "execution_count": 9,
     "metadata": {},
     "output_type": "execute_result"
    }
   ],
   "source": [
    "info_list[0:5]"
   ]
  },
  {
   "cell_type": "code",
   "execution_count": 10,
   "metadata": {},
   "outputs": [],
   "source": [
    "class container():\n",
    "    def __init__(self, delay, time_emu, duration, id):\n",
    "        self.delay = delay\n",
    "        self.time_emu = time_emu\n",
    "        self.duration = duration\n",
    "        self.id = id"
   ]
  },
  {
   "cell_type": "code",
   "execution_count": 11,
   "metadata": {},
   "outputs": [
    {
     "name": "stdout",
     "output_type": "stream",
     "text": [
      "EMU_monitor(ruc)/EKG/Patient 4/11-02-59.EDF\n",
      "EMU_monitor(ruc)/EKG/Patient 6/11-00-04.EDF\n",
      "EMU_monitor(ruc)/EKG/Patient 24/10-43-58.EDF\n",
      "EMU_monitor(ruc)/EKG/Patient 28/10-54-06.EDF\n",
      "EMU_monitor(ruc)/EKG/Patient 30/09-38-19.EDF\n",
      "EMU_monitor(ruc)/EKG/Patient 21/10-39-08.EDF\n",
      "EMU_monitor(ruc)/EKG/Patient 33/13-40-15.EDF\n",
      "EMU_monitor(ruc)/EKG/Patient 34/10-39-46.EDF\n",
      "EMU_monitor(ruc)/EKG/Patient 35/09-59-47.EDF\n"
     ]
    }
   ],
   "source": [
    "file_sz_info = []\n",
    "\n",
    "for c in info_list:\n",
    "    f = c['File']\n",
    "    p = c['ID']\n",
    "    print(f)\n",
    "    cont_storage = []\n",
    "    sz_count = 0\n",
    "    for i, r in info_df.iterrows():\n",
    "        if f == r['fullPath']:\n",
    "            con = container(delay=r['delay'], time_emu=r['time_emu'], duration=r['seizureDuration'], id=r['SeizureID'])\n",
    "            cont_storage.append(con)\n",
    "    file_sz_info.append([p, f, cont_storage])"
   ]
  },
  {
   "cell_type": "code",
   "execution_count": 12,
   "metadata": {},
   "outputs": [],
   "source": [
    "def ReadEdfFile(file_name, print_reader_info = False):\n",
    "    if edf_file_type in file_name or capitilize_edf_file_type in file_name:\n",
    "        if(print_reader_info):\n",
    "            data = mne.io.read_raw_edf(file_name)\n",
    "            raw_data = data.get_data()\n",
    "            converted_raw = pd.DataFrame(raw_data.transpose(), columns=data.ch_names)\n",
    "            converted_raw_ECG = converted_raw[['ECG']]\n",
    "            del converted_raw\n",
    "            gc.collect()\n",
    "            print(data.info)\n",
    "            return converted_raw_ECG, data.info\n",
    "        else:\n",
    "            data = mne.io.read_raw_edf(file_name, verbose='error')\n",
    "            raw_data = data.get_data()\n",
    "            converted_raw = pd.DataFrame(raw_data.transpose(), columns=data.ch_names)\n",
    "            converted_raw_ECG = converted_raw[['ECG']]\n",
    "            del converted_raw\n",
    "            gc.collect()\n",
    "            return converted_raw_ECG, data.info\n",
    "    if bdf_file_type in file_name:\n",
    "        if(print_reader_info):\n",
    "            data = mne.io.read_raw_bdf(file_name)\n",
    "            raw_data = data.get_data()\n",
    "            converted_raw = pd.DataFrame(raw_data.transpose(), columns=data.ch_names)\n",
    "            converted_raw = converted_raw[['ECG']]\n",
    "            print(data.info)\n",
    "            return converted_raw, data.info\n",
    "        else:\n",
    "            data = mne.io.read_raw_bdf(file_name, verbose='error')\n",
    "            raw_data = data.get_data()\n",
    "            converted_raw = pd.DataFrame(raw_data.transpose(), columns=data.ch_names)\n",
    "            converted_raw = converted_raw[['ECG']]\n",
    "            return converted_raw, data.info"
   ]
  },
  {
   "cell_type": "code",
   "execution_count": 13,
   "metadata": {},
   "outputs": [],
   "source": [
    "# print(test_df.info(memory_usage='deep'))\n",
    "def mem_usage(pandas_obj):\n",
    "    if isinstance(pandas_obj,pd.DataFrame):\n",
    "        usage_b = pandas_obj.memory_usage(deep=True).sum()\n",
    "    else: # we assume if not a df it's a series\n",
    "        usage_b = pandas_obj.memory_usage(deep=True)\n",
    "    usage_mb = usage_b / 1024 ** 2 # convert bytes to megabytes\n",
    "    return \"{:03.2f} MB\".format(usage_mb)"
   ]
  },
  {
   "cell_type": "code",
   "execution_count": 14,
   "metadata": {},
   "outputs": [],
   "source": [
    "def downcast_dtypes(df):\n",
    "    print(f\"before: {mem_usage(df)}\")\n",
    "    _start = df.memory_usage(deep=True).sum() / 1024 ** 2\n",
    "    float_cols = [c for c in df if df[c].dtype == 'float64']\n",
    "    int_cols = [c for c in df if df[c].dtype in ['int64', 'int32']]\n",
    "    df[float_cols] = df[float_cols].astype(np.float32)\n",
    "    df[int_cols] = df[int_cols].astype(np.int16)\n",
    "    _end = df.memory_usage(deep=True).sum() / 1024 ** 2\n",
    "    saved_time = (_start - _end) / _start * 100\n",
    "    print(f\"Saved: {saved_time:.2f}%\")\n",
    "    print(f\"after: {mem_usage(df)}\")\n",
    "    gc.collect()\n",
    "    return df"
   ]
  },
  {
   "cell_type": "code",
   "execution_count": 15,
   "metadata": {},
   "outputs": [],
   "source": [
    "def convert_date_to_ms(date_time):\n",
    "    date_time = str(date_time)\n",
    "    if \"+\" in str(date_time):\n",
    "        date_time = str(date_time).split(\"+\")[0]\n",
    "\n",
    "    try:\n",
    "        timestamp_ms = datetime.strptime(date_time, '%Y-%m-%d %H:%M:%S').timestamp() * 1000\n",
    "    except:\n",
    "        timestamp_ms = datetime.strptime(date_time, '%d-%m-%Y %H:%M:%S').timestamp() * 1000\n",
    "\n",
    "    print(\"converted date to ms done\")\n",
    "    return timestamp_ms"
   ]
  },
  {
   "cell_type": "code",
   "execution_count": 16,
   "metadata": {},
   "outputs": [],
   "source": [
    "def insert_time_stamp(dataframe, file_start_time, frq):\n",
    "    timestamp_ms = convert_date_to_ms(file_start_time)\n",
    "    period_row_increment_value =  (1 / int(frq)) * 1000\n",
    "    dataframe.insert(0, \"timestamp\", [timestamp_ms + i * period_row_increment_value for i in dataframe.index])\n",
    "    print(\"inserted time stamp\")"
   ]
  },
  {
   "cell_type": "code",
   "execution_count": 17,
   "metadata": {},
   "outputs": [],
   "source": [
    "def insert_class_col(dataframe, sz_info_list):\n",
    "    print(f\"modtaget string: {sz_info_list}\")\n",
    "    \n",
    "    if \"class\" not in dataframe.columns:\n",
    "        dataframe.insert(0, \"class\", np.nan)\n",
    "\n",
    "    if len(sz_info_list) == 0:\n",
    "        dataframe.loc[(dataframe['class'] != \"Seizure\") & (dataframe['class'] != \"Preictal I\") & (dataframe['class'] != \"Preictal II\"), \"class\"] = \"Interictal\"\n",
    "    else:\n",
    "        for container in sz_info_list:\n",
    "            delay = container.delay * 1000\n",
    "            duration = container.duration * 1000\n",
    "            sz_start = convert_date_to_ms(container.time_emu) + delay\n",
    "            sz_end = sz_start + duration\n",
    "            print(f\"sz_start index = {sz_start}\")\n",
    "            print(f\"sz_end: {sz_end}\")\n",
    "            preictal_start = sz_start - (15 * 60 * 1000)\n",
    "            dataframe['timestamp'] = pd.to_numeric(dataframe['timestamp'])\n",
    "\n",
    "            #INSERTING PREICTAL\n",
    "            dataframe.loc[(dataframe['class'] != \"seizure\") & (dataframe['timestamp'] >= preictal_start) & (dataframe['timestamp'] < sz_start), \"class\"] = \"Preictal\"\n",
    "\n",
    "            #INSERTING SEIZURE CLASS\n",
    "            dataframe.loc[(dataframe['timestamp'] >= sz_start) & (dataframe['timestamp'] < sz_end), \"class\"] = \"seizure\"\n",
    "\n",
    "            #INSERTING INTERICTAL\n",
    "            dataframe.loc[(dataframe['class'] != \"seizure\") & (dataframe['class'] != \"Preictal\"), \"class\"] = \"Interictal\"\n",
    "\n",
    "            print(dataframe[\"class\"].value_counts())\n",
    "    gc.collect()"
   ]
  },
  {
   "cell_type": "code",
   "execution_count": 18,
   "metadata": {},
   "outputs": [],
   "source": [
    "def logging_info_txt(csv_file_name, freq, channels):\n",
    "    file_object = open(save_csv_path + \"info.txt\", \"a\")\n",
    "    file_object.write(f\"\\nfilename: {csv_file_name} \\n freq: {freq} \\n channels: {channels} \\n\")\n",
    "    file_object.close()"
   ]
  },
  {
   "cell_type": "code",
   "execution_count": 19,
   "metadata": {},
   "outputs": [],
   "source": [
    "def df_save_compress(filename, df):\n",
    "    df.to_csv(f\"{save_csv_path}/{filename}.csv\")"
   ]
  },
  {
   "cell_type": "code",
   "execution_count": 20,
   "metadata": {},
   "outputs": [],
   "source": [
    "# for e in file_sz_info[1:2]:\n",
    "#     print(f\"patient_id: {e[0]}\")\n",
    "#     print(f\"file_name: {e[1]}\")\n",
    "\n",
    "#     file_path = e[1]\n",
    "#     print(f\"file_path: {e[1]}\")\n",
    "#     df, data_info = ReadEdfFile(file_path, True)\n",
    "#     gc.collect()\n",
    "#     df = downcast_dtypes(df)\n",
    "#     print(\"downcasted\")\n",
    "#     file_sample_rate = data_info[\"sfreq\"]\n",
    "#     file_meas_date = data_info[\"meas_date\"]\n",
    "#     file_channel = data_info['ch_names']\n",
    "#     relevant_channels = file_channel[0:2]\n",
    "#     print(f\"freq: {file_sample_rate} meas: {file_meas_date} channels: {relevant_channels}\")\n",
    "    \n",
    "#     insert_time_stamp(df, file_meas_date, file_sample_rate)\n",
    "#     insert_class_col(df, e[2])\n",
    "\n",
    "#     save_format_date = str(file_meas_date).replace(\":\", \"\").replace(\"+\", \"\").replace(\"/\",\"\")\n",
    "#     save_file_name = f\"patient_{e[0]}_date_{save_format_date}\"\n",
    "\n",
    "#     #SAVE TO CSV\n",
    "\n",
    "#     #LOGGING:\n",
    "#     logging_info_txt(save_file_name, file_sample_rate, file_channel)\n",
    "\n",
    "#     #Memory:\n",
    "#     del df, data_info\n",
    "#     gc.collect()\n"
   ]
  }
 ],
 "metadata": {
  "interpreter": {
   "hash": "36ba892f7ad20bf7fdc5c3ef3188feda3b9d9c608c682b5345226fde4f33924b"
  },
  "kernelspec": {
   "display_name": "Python 3.9.7 64-bit (conda)",
   "language": "python",
   "name": "python3"
  },
  "language_info": {
   "codemirror_mode": {
    "name": "ipython",
    "version": 3
   },
   "file_extension": ".py",
   "mimetype": "text/x-python",
   "name": "python",
   "nbconvert_exporter": "python",
   "pygments_lexer": "ipython3",
   "version": "3.9.7"
  },
  "orig_nbformat": 4
 },
 "nbformat": 4,
 "nbformat_minor": 2
}
