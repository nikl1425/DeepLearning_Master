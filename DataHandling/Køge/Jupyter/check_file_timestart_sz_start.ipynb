{
 "cells": [
  {
   "cell_type": "code",
   "execution_count": 1,
   "metadata": {},
   "outputs": [
    {
     "name": "stdout",
     "output_type": "stream",
     "text": [
      "Init Plugin\n",
      "Init Graph Optimizer\n",
      "Init Kernel\n",
      "Tensor Flow Version: 2.5.0\n",
      "Keras Version: 2.5.0\n",
      "\n",
      "Python 3.9.7 (default, Sep 16 2021, 23:53:23) \n",
      "[Clang 12.0.0 ]\n",
      "Pandas 1.3.1\n",
      "Scikit-Learn 0.24.2\n",
      "GPU is available\n"
     ]
    }
   ],
   "source": [
    "# What version of Python do you have?\n",
    "import sys\n",
    "import os\n",
    "import tensorflow.keras\n",
    "import pandas as pd\n",
    "import sklearn as sk\n",
    "import tensorflow as tf\n",
    "import numpy as np\n",
    "import re\n",
    "import mne\n",
    "import pathlib\n",
    "import openpyxl\n",
    "from datetime import datetime\n",
    "import pytz\n",
    "import matplotlib\n",
    "import random\n",
    "import os\n",
    "from skimage.restoration import (denoise_wavelet, estimate_sigma)\n",
    "from pathlib import Path\n",
    "from tensorflow.keras.preprocessing.image import ImageDataGenerator\n",
    "from tensorflow.keras import layers, models, Sequential\n",
    "from matplotlib import pyplot as plt\n",
    "from scipy import signal\n",
    "plt.ioff()\n",
    "import psutil\n",
    "import gc\n",
    "import glob\n",
    "pd.io.parquet.get_engine('auto').__class__\n",
    "%matplotlib inline\n",
    "matplotlib.use('Qt5Agg')\n",
    "#matplotlib.use('agg')\n",
    "\n",
    "print(f\"Tensor Flow Version: {tf.__version__}\")\n",
    "print(f\"Keras Version: {tensorflow.keras.__version__}\")\n",
    "print()\n",
    "print(f\"Python {sys.version}\")\n",
    "print(f\"Pandas {pd.__version__}\")\n",
    "print(f\"Scikit-Learn {sk.__version__}\")\n",
    "gpu = len(tf.config.list_physical_devices('GPU'))>0\n",
    "print(\"GPU is\", \"available\" if gpu else \"NOT AVAILABLE\")"
   ]
  },
  {
   "cell_type": "code",
   "execution_count": 2,
   "metadata": {},
   "outputs": [
    {
     "data": {
      "text/plain": [
       "'/Users/niklashjort/Desktop/Notes/Speciale/projects/DataHandling/Køge'"
      ]
     },
     "execution_count": 2,
     "metadata": {},
     "output_type": "execute_result"
    }
   ],
   "source": [
    "cwd = os.getcwd()\n",
    "FREQ = 500\n",
    "database_path = '../../Dataset/EMU_monitor(ruc)/'\n",
    "save_csv_path = \"../DataSet/CHB-MIT/filtered_df_csv\"\n",
    "edf_file_type = \".edf\"\n",
    "capitilize_edf_file_type = \".EDF\"\n",
    "bdf_file_type = \".BDF\"\n",
    "patient_one_path = 'chb04/'\n",
    "info_df_path = \"../../Dataset/EMU_monitor(ruc)/Eventlist_RUC.xlsx\"\n",
    "external_hardisk_drive_path = os.path.dirname('/Volumes/LaCie/Database/')\n",
    "cwd"
   ]
  },
  {
   "cell_type": "code",
   "execution_count": 3,
   "metadata": {},
   "outputs": [],
   "source": [
    "def ReadEdfFile(file_name, print_reader_info = False):\n",
    "    if edf_file_type in file_name or capitilize_edf_file_type in file_name:\n",
    "        if(print_reader_info):\n",
    "            data = mne.io.read_raw_edf(file_name)\n",
    "            raw_data = data.get_data()\n",
    "            converted_raw = pd.DataFrame(raw_data.transpose(), columns=data.ch_names)\n",
    "            print(data.info)\n",
    "            return converted_raw\n",
    "        else:\n",
    "            data = mne.io.read_raw_edf(file_name, verbose='error')\n",
    "            raw_data = data.get_data()\n",
    "            converted_raw = pd.DataFrame(raw_data.transpose(), columns=data.ch_names)\n",
    "            return converted_raw\n",
    "    if bdf_file_type in file_name:\n",
    "        if(print_reader_info):\n",
    "            data = mne.io.read_raw_bdf(file_name)\n",
    "            raw_data = data.get_data()\n",
    "            converted_raw = pd.DataFrame(raw_data.transpose(), columns=data.ch_names)\n",
    "            print(data.info)\n",
    "            return converted_raw\n",
    "        else:\n",
    "            data = mne.io.read_raw_edf(file_name, verbose='error')\n",
    "            raw_data = data.get_data()\n",
    "            converted_raw = pd.DataFrame(raw_data.transpose(), columns=data.ch_names)\n",
    "            return converted_raw"
   ]
  },
  {
   "cell_type": "code",
   "execution_count": 4,
   "metadata": {},
   "outputs": [],
   "source": [
    "def get_file_t_start_ms(filename):\n",
    "    str_t_start = re.match(r\".*Patient [0-9]+/(.*?)_\", filename)\n",
    "    if str_t_start:\n",
    "        str_t_start = str_t_start.group(1)\n",
    "        t_start = datetime.strptime(str_t_start, '%Y%m%d%H%M%S')\n",
    "        return t_start.timestamp() * 1000\n",
    "    else:\n",
    "        str_t_start = \"Time start is not present\"\n",
    "        return str_t_start\n",
    "    "
   ]
  },
  {
   "cell_type": "code",
   "execution_count": 5,
   "metadata": {},
   "outputs": [],
   "source": [
    "def insert_time_stamp(dataframe, file_start_time, frq=FREQ):\n",
    "    period_row_increment_value =  (1 / frq) * 1000\n",
    "    dataframe.insert(0, \"timestamp\", [file_start_time + i * period_row_increment_value for i in dataframe.index])"
   ]
  },
  {
   "cell_type": "code",
   "execution_count": 14,
   "metadata": {},
   "outputs": [
    {
     "name": "stdout",
     "output_type": "stream",
     "text": [
      "../../Dataset/EMU_monitor(ruc)/EEG/Patient 4/20190521155643_p4Nat2.sdeeg_converted_.easy_filtered.edf\n",
      "1558447003000.0\n"
     ]
    }
   ],
   "source": [
    "# for c in info_list[0:1]:\n",
    "#     patient_id = c['ID']\n",
    "#     file_name = c['File']\n",
    "#     file_t_start = get_file_t_start_ms(file_name)\n",
    "#     print(file_name)\n",
    "#     print(file_t_start)\n",
    "#     sz_info_list = []\n",
    "#     current_file_info = info_df.loc[(info_df['patientID'] == patient_id) & (info_df['fullPath'] == file_name)]\n",
    "    "
   ]
  },
  {
   "cell_type": "code",
   "execution_count": 14,
   "metadata": {},
   "outputs": [
    {
     "name": "stdout",
     "output_type": "stream",
     "text": [
      "Extracting EDF parameters from /Users/niklashjort/Desktop/Notes/Speciale/projects/Dataset/EMU_monitor(ruc)/EKG/Patient 21/10-39-08.EDF...\n",
      "EDF file detected\n",
      "Setting channel info structure...\n",
      "Could not determine channel type of the following channels, they will be set as EEG:\n",
      "ECG, Accelerometer_X, Accelerometer_Y, Accelerometer_Z, Marker, HRV\n",
      "Creating raw.info structure...\n",
      "<Info | 7 non-empty values\n",
      " bads: []\n",
      " ch_names: ECG, Accelerometer_X, Accelerometer_Y, Accelerometer_Z, Marker, HRV\n",
      " chs: 6 EEG\n",
      " custom_ref_applied: False\n",
      " highpass: 0.0 Hz\n",
      " lowpass: 250.0 Hz\n",
      " meas_date: 2020-06-15 10:39:08 UTC\n",
      " nchan: 6\n",
      " projs: []\n",
      " sfreq: 500.0 Hz\n",
      ">\n"
     ]
    }
   ],
   "source": [
    "#tester = ReadEdfFile(\"../../Dataset/EMU_monitor(ruc)/EKG/Patient 21/10-39-08.EDF\", True)"
   ]
  },
  {
   "cell_type": "code",
   "execution_count": 6,
   "metadata": {},
   "outputs": [],
   "source": [
    "def test(time_emu):\n",
    "    sz = datetime.strptime(time_emu, '%d-%m-%Y %H:%M:%S')\n",
    "    return sz\n",
    "\n",
    "def test2(time_emu):\n",
    "    time = datetime.strptime(time_emu, '%Y-%m-%d %H:%M:%S')\n",
    "    return time"
   ]
  },
  {
   "cell_type": "code",
   "execution_count": 5,
   "metadata": {},
   "outputs": [],
   "source": [
    "def read_info(filename):\n",
    "    x = mne.io.read_raw_edf(filename)\n",
    "    info = x.info\n",
    "    raw_data = x.get_data()\n",
    "    print(info)\n",
    "    converted_raw = pd.DataFrame(raw_data.transpose(), columns=x.ch_names)\n",
    "    return converted_raw, str(info['meas_date']), str(info['sfreq'])"
   ]
  },
  {
   "cell_type": "code",
   "execution_count": 8,
   "metadata": {},
   "outputs": [
    {
     "data": {
      "text/plain": [
       "datetime.datetime(2019, 5, 22, 2, 45, 22)"
      ]
     },
     "execution_count": 8,
     "metadata": {},
     "output_type": "execute_result"
    }
   ],
   "source": [
    "sz_start = test(\"22-05-2019 02:45:22\")\n",
    "sz_start"
   ]
  },
  {
   "cell_type": "code",
   "execution_count": 6,
   "metadata": {},
   "outputs": [
    {
     "name": "stdout",
     "output_type": "stream",
     "text": [
      "Extracting EDF parameters from /Users/niklashjort/Desktop/Notes/Speciale/projects/Dataset/EMU_monitor(ruc)/EKG/Patient 6/11-00-04.EDF...\n",
      "EDF file detected\n",
      "Setting channel info structure...\n",
      "Could not determine channel type of the following channels, they will be set as EEG:\n",
      "ECG, Accelerometer_X, Accelerometer_Y, Accelerometer_Z, Marker, HRV\n",
      "Creating raw.info structure...\n",
      "<Info | 7 non-empty values\n",
      " bads: []\n",
      " ch_names: ECG, Accelerometer_X, Accelerometer_Y, Accelerometer_Z, Marker, HRV\n",
      " chs: 6 EEG\n",
      " custom_ref_applied: False\n",
      " highpass: 0.0 Hz\n",
      " lowpass: 250.0 Hz\n",
      " meas_date: 2019-08-26 11:00:04 UTC\n",
      " nchan: 6\n",
      " projs: []\n",
      " sfreq: 500.0 Hz\n",
      ">\n"
     ]
    },
    {
     "data": {
      "text/plain": [
       "'2019-08-26 11:00:04+00:00'"
      ]
     },
     "execution_count": 6,
     "metadata": {},
     "output_type": "execute_result"
    }
   ],
   "source": [
    "test_df, file_start, freq = read_info(\"/Users/niklashjort/Desktop/Notes/Speciale/projects/Dataset/EMU_monitor(ruc)/EKG/Patient 6/11-00-04.EDF\")\n",
    "file_start"
   ]
  },
  {
   "cell_type": "code",
   "execution_count": 10,
   "metadata": {},
   "outputs": [
    {
     "data": {
      "text/plain": [
       "0"
      ]
     },
     "execution_count": 10,
     "metadata": {},
     "output_type": "execute_result"
    }
   ],
   "source": [
    "gc.collect()"
   ]
  },
  {
   "cell_type": "code",
   "execution_count": 11,
   "metadata": {},
   "outputs": [
    {
     "data": {
      "text/plain": [
       "500"
      ]
     },
     "execution_count": 11,
     "metadata": {},
     "output_type": "execute_result"
    }
   ],
   "source": [
    "freq = int(float(freq))\n",
    "freq"
   ]
  },
  {
   "cell_type": "code",
   "execution_count": 12,
   "metadata": {},
   "outputs": [
    {
     "data": {
      "text/plain": [
       "datetime.datetime(2020, 6, 15, 10, 39, 8)"
      ]
     },
     "execution_count": 12,
     "metadata": {},
     "output_type": "execute_result"
    }
   ],
   "source": [
    "file_start = test2(\"2020-06-15 10:39:08\")\n",
    "file_start"
   ]
  },
  {
   "cell_type": "code",
   "execution_count": null,
   "metadata": {},
   "outputs": [],
   "source": [
    "timestamped_sz_start = sz_start.timestamp() * 1000"
   ]
  },
  {
   "cell_type": "code",
   "execution_count": 13,
   "metadata": {},
   "outputs": [],
   "source": [
    "timestamped_file_start = file_start.timestamp() * 1000\n",
    "insert_time_stamp(test_df, timestamped_file_start, freq)"
   ]
  },
  {
   "cell_type": "code",
   "execution_count": 14,
   "metadata": {},
   "outputs": [],
   "source": [
    "end_file_timestamp = test_df['timestamp'].iloc[-1]"
   ]
  },
  {
   "cell_type": "code",
   "execution_count": 15,
   "metadata": {},
   "outputs": [
    {
     "data": {
      "text/plain": [
       "datetime.datetime(2020, 6, 18, 9, 44, 26, 998000)"
      ]
     },
     "execution_count": 15,
     "metadata": {},
     "output_type": "execute_result"
    }
   ],
   "source": [
    "datetime.fromtimestamp(end_file_timestamp/1000)"
   ]
  },
  {
   "cell_type": "code",
   "execution_count": 29,
   "metadata": {},
   "outputs": [
    {
     "data": {
      "text/plain": [
       "True"
      ]
     },
     "execution_count": 29,
     "metadata": {},
     "output_type": "execute_result"
    }
   ],
   "source": [
    "timestamped_file_start < timestamped_sz_start < end_file_timestamp"
   ]
  },
  {
   "cell_type": "code",
   "execution_count": 30,
   "metadata": {},
   "outputs": [
    {
     "data": {
      "text/plain": [
       "30"
      ]
     },
     "execution_count": 30,
     "metadata": {},
     "output_type": "execute_result"
    }
   ],
   "source": [
    "gc.collect()"
   ]
  }
 ],
 "metadata": {
  "interpreter": {
   "hash": "36ba892f7ad20bf7fdc5c3ef3188feda3b9d9c608c682b5345226fde4f33924b"
  },
  "kernelspec": {
   "display_name": "Python 3.9.7 64-bit (conda)",
   "language": "python",
   "name": "python3"
  },
  "language_info": {
   "codemirror_mode": {
    "name": "ipython",
    "version": 3
   },
   "file_extension": ".py",
   "mimetype": "text/x-python",
   "name": "python",
   "nbconvert_exporter": "python",
   "pygments_lexer": "ipython3",
   "version": "3.9.7"
  },
  "orig_nbformat": 4
 },
 "nbformat": 4,
 "nbformat_minor": 2
}
