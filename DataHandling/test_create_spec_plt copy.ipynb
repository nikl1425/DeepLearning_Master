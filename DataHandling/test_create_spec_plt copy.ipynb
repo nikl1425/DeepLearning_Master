{
 "cells": [
  {
   "cell_type": "code",
   "execution_count": 4,
   "metadata": {},
   "outputs": [
    {
     "name": "stdout",
     "output_type": "stream",
     "text": [
      "Init Plugin\n",
      "Init Graph Optimizer\n",
      "Init Kernel\n",
      "Tensor Flow Version: 2.5.0\n",
      "Keras Version: 2.5.0\n",
      "\n",
      "Python 3.9.7 (default, Sep 16 2021, 23:53:23) \n",
      "[Clang 12.0.0 ]\n",
      "Pandas 1.3.1\n",
      "Scikit-Learn 0.24.2\n",
      "GPU is available\n"
     ]
    }
   ],
   "source": [
    "# What version of Python do you have?\n",
    "import sys\n",
    "import os\n",
    "import tensorflow.keras\n",
    "import pandas as pd\n",
    "import sklearn as sk\n",
    "import tensorflow as tf\n",
    "import numpy as np\n",
    "import re\n",
    "import mne\n",
    "import pathlib\n",
    "import openpyxl\n",
    "from datetime import datetime\n",
    "import pytz\n",
    "import random\n",
    "import os\n",
    "from skimage.restoration import (denoise_wavelet, estimate_sigma)\n",
    "from pathlib import Path\n",
    "from tensorflow.keras.preprocessing.image import ImageDataGenerator\n",
    "from tensorflow.keras import layers, models, Sequential\n",
    "from matplotlib import pyplot as plt\n",
    "import psutil\n",
    "import gc\n",
    "#pd.io.parquet.get_engine('auto').__class__\n",
    "%matplotlib inline\n",
    "\n",
    "print(f\"Tensor Flow Version: {tf.__version__}\")\n",
    "print(f\"Keras Version: {tensorflow.keras.__version__}\")\n",
    "print()\n",
    "print(f\"Python {sys.version}\")\n",
    "print(f\"Pandas {pd.__version__}\")\n",
    "print(f\"Scikit-Learn {sk.__version__}\")\n",
    "gpu = len(tf.config.list_physical_devices('GPU'))>0\n",
    "print(\"GPU is\", \"available\" if gpu else \"NOT AVAILABLE\")"
   ]
  },
  {
   "cell_type": "markdown",
   "metadata": {},
   "source": [
    "Globals"
   ]
  },
  {
   "cell_type": "code",
   "execution_count": 1,
   "metadata": {},
   "outputs": [],
   "source": [
    "cwd = os.getcwd()\n",
    "FREQ = 256\n",
    "database_path = 'Dataset/CHB-MIT/chb-mit-scalp-eeg-database-1.0.0/'\n",
    "filtered_database_path = 'Dataset/CHB-MIT/Filtered-chb-mit/'\n",
    "filted_db_parquet_path = \"Dataset/CHB-MIT/dataframe-parquet\"\n",
    "external_hardisk_drive_path = os.path.dirname('/Volumes/LaCie/Database/')\n",
    "edf_file_type = \".edf\"\n",
    "compressed_file_type = \".parquet.gzip\"\n",
    "file = \"chb20_12.parquet.gzip\"\n",
    "#files = [external_hardisk_drive_path + \"/Parquet_Seizure/\" + f for f in os.listdir(external_hardisk_drive_path + \"/Parquet_Seizure\") if f.endswith(compressed_file_type)]\n",
    "\n",
    "#test_patient = \"chb07\"\n",
    "\n",
    "#files = [f for f in files if test_patient in f]\n"
   ]
  },
  {
   "cell_type": "code",
   "execution_count": 26,
   "metadata": {},
   "outputs": [],
   "source": [
    "def remove_cols(dataframe, col_start = 0, col_end = 0):\n",
    "    if col_end == 0:\n",
    "        col_end = len(dataframe.columns) - 1\n",
    "    \n",
    "    dataframe = dataframe.iloc[: , col_start: col_end]\n",
    "    return dataframe"
   ]
  },
  {
   "cell_type": "code",
   "execution_count": 2,
   "metadata": {},
   "outputs": [
    {
     "data": {
      "text/plain": [
       "'/Users/niklashjort/Desktop/Notes/Speciale/projects/DataHandling'"
      ]
     },
     "execution_count": 2,
     "metadata": {},
     "output_type": "execute_result"
    }
   ],
   "source": [
    "cwd"
   ]
  },
  {
   "cell_type": "code",
   "execution_count": 1,
   "metadata": {},
   "outputs": [
    {
     "name": "stdout",
     "output_type": "stream",
     "text": [
      "chb20_12.parquet.gzip\n",
      "chb20_12.csv\n"
     ]
    }
   ],
   "source": [
    "for f in os.listdir(\"test_data\"):\n",
    "    print(f)"
   ]
  },
  {
   "cell_type": "code",
   "execution_count": 83,
   "metadata": {},
   "outputs": [],
   "source": [
    "df = pd.read_csv(\"test_data/chb20_12.csv\")"
   ]
  },
  {
   "cell_type": "code",
   "execution_count": 84,
   "metadata": {},
   "outputs": [
    {
     "data": {
      "text/plain": [
       "Interictal     890112\n",
       "Preictal II     24064\n",
       "seizure          7424\n",
       "Name: class, dtype: int64"
      ]
     },
     "execution_count": 84,
     "metadata": {},
     "output_type": "execute_result"
    }
   ],
   "source": [
    "df['class'].value_counts()"
   ]
  },
  {
   "cell_type": "code",
   "execution_count": 85,
   "metadata": {},
   "outputs": [],
   "source": [
    "matches = ['.-0','.-1', '.-2', '.-3', '.-4', 'STI 014']\n",
    "\n",
    "def read_compressed_df(df, channel=\"F3-C3\"):\n",
    "    \n",
    "    # # Remove STI 14 col:\n",
    "    # if any(x in df.columns for x in matches):\n",
    "    #     for col_name in matches:\n",
    "    #         try:\n",
    "    #             df.drop(columns=col_name, inplace=True)\n",
    "                \n",
    "    #         except:\n",
    "    #             pass\n",
    "\n",
    "    df = df[['timestamp', 'class', channel]]\n",
    "\n",
    "    sz_df = df.loc[df['class'] == \"seizure\"].reset_index(drop=True)\n",
    "    sz_df = remove_cols(sz_df, col_end=10)\n",
    "\n",
    "    prei_one_df = df.loc[df['class'] == \"Preictal I\"]\n",
    "    \n",
    "\n",
    "    prei_two_df = df.loc[df['class'] == \"Preictal II\"]\n",
    "    prei_two_df = remove_cols(prei_two_df, col_end=10)\n",
    "\n",
    "    inter_df = df.loc[df['class'] == \"Interictal\"]\n",
    "    inter_df = remove_cols(inter_df, col_end=10)\n",
    "\n",
    "    channels = [item for item in list(sz_df.columns) if item != \"class\" if item != \"timestamp\"]\n",
    "\n",
    "    return (sz_df, prei_one_df, prei_two_df, inter_df, channels)"
   ]
  },
  {
   "cell_type": "code",
   "execution_count": 110,
   "metadata": {},
   "outputs": [],
   "source": [
    "def get_window(channel, start_index, data, size = 4, overlap = 0, is_sezure = False, frequency = 256):\n",
    "    if(is_sezure):\n",
    "        overlap = 2\n",
    "    else:\n",
    "        overlap = overlap\n",
    "    \n",
    "    start = start_index * (size - overlap) * frequency\n",
    "    end = start + (size * frequency)\n",
    "\n",
    "    date_timestamp = \"\"\n",
    "\n",
    "    try:\n",
    "        date_timestamp = datetime.fromtimestamp((data['timestamp'][start:start+1]/1000).tolist()[0]).strftime('%H:%M:%S')\n",
    "    except:\n",
    "        date_timestamp = \"datetime cannot be converted\"\n",
    "    \n",
    "    return [data[channel][start:end].tolist(), date_timestamp]"
   ]
  },
  {
   "cell_type": "code",
   "execution_count": 120,
   "metadata": {},
   "outputs": [],
   "source": [
    "def get_max_window_iteration(dataframe, buffer, overlap=0):\n",
    "    len_of_df = int(len(dataframe) / (buffer*256)) + overlap\n",
    "    return len_of_df\n"
   ]
  },
  {
   "cell_type": "code",
   "execution_count": 98,
   "metadata": {},
   "outputs": [],
   "source": [
    "def spec_transform_save_to_folder(index, win, channel, patient_state, patient, plot_title = False):\n",
    "    plt.figure(figsize=(7,7))\n",
    "    series = win[0]\n",
    "    time_of_observation = win[1]\n",
    "    try:\n",
    "        series = np.array(series).astype(np.float)\n",
    "    except Exception as e:\n",
    "        print(f\"error: {e}\")\n",
    "        print(f\"patient_state: {patient_state} channel: {channel} index: {index} window: {series}\")\n",
    "    denoised_series = denoise_wavelet(series, method='BayesShrink',wavelet='db6', mode='soft',rescale_sigma=True, multichannel=False, wavelet_levels=3)\n",
    "    if plot_title:\n",
    "        plt.title(f\"{channel} : is_seizure = {patient_state} : {time_of_observation}\")\n",
    "\n",
    "    plt.specgram(denoised_series,Fs=1/FREQ,cmap='jet_r')\n",
    "\n",
    "    if patient_state == \"seizure\":\n",
    "        plt.savefig(f'test_data//windows/Seizure2/{patient}_{index}_{channel}_{time_of_observation}.png', edgecolor='none')\n",
    "    elif patient_state == \"interictal\":\n",
    "        plt.savefig(f'test_data//windows/Interictal/{patient}_{index}_{channel}_{time_of_observation}.png')\n",
    "    elif patient_state == \"prei_one\":\n",
    "        plt.savefig(f'test_data//windows/test/Preictal_One/{patient}_{index}_{channel}_{str(time_of_observation).strip()}.png')\n",
    "    elif patient_state == \"prei_two\":\n",
    "        plt.savefig(f'test_data/windows/Preictal_Two/{patient}_{index}_{channel}_{str(time_of_observation).strip()}.png')\n",
    "    \n",
    "    del series\n",
    "    plt.clf()    \n",
    "    plt.close()\n",
    "    gc.collect()"
   ]
  },
  {
   "cell_type": "code",
   "execution_count": 118,
   "metadata": {},
   "outputs": [
    {
     "name": "stdout",
     "output_type": "stream",
     "text": [
      "name 'files' is not defined\n"
     ]
    }
   ],
   "source": [
    "count = 0\n",
    "\n",
    "try:\n",
    "    for filename in files:\n",
    "        print(\"started file: \" + str(filename) + \" index: \" + str(count))\n",
    "        sz, prei_one, prei_two, inter, selected_channels = read_compressed_df(filename)\n",
    "        patient = re.search('/Volumes/LaCie/Database/Parquet_Seizure/(.*).parquet.gzip', filename).group(1)\n",
    "        print(patient)\n",
    "        for channel in selected_channels:\n",
    "            if len(inter) > 0 and inter.empty == False:\n",
    "                inter_win = [get_window(channel=channel,start_index=i, data=inter) for i in range(get_max_window_iteration(inter, 4))]\n",
    "                for index, window in enumerate(inter_win):\n",
    "                    spec_transform_save_to_folder(win=window, index=index, channel=channel, patient_state = \"interictal\", patient=patient)\n",
    "                del inter_win\n",
    "\n",
    "            if len(sz) > 0 and sz.empty == False:\n",
    "                sz_win = [get_window(channel=channel, start_index=i, data=sz, is_sezure=True) for i in range(get_max_window_iteration(sz, 2))]\n",
    "                for index, window in enumerate(sz_win):\n",
    "                    spec_transform_save_to_folder(channel=channel, index=index, win=window, patient_state=\"seizure\", patient=patient)\n",
    "                del sz_win\n",
    "\n",
    "            if len(prei_one) > 0 and prei_one.empty == False:\n",
    "                prei_one_win = [get_window(channel=channel,start_index=i, data=prei_one) for i in range(get_max_window_iteration(prei_one, 4))]\n",
    "                for index, window in enumerate(prei_one_win):\n",
    "                    spec_transform_save_to_folder(channel=channel, index=index, win=window, patient_state=\"prei_one\", patient=patient)\n",
    "                del prei_one_win\n",
    "\n",
    "            if len(prei_two) > 0 and prei_two.empty == False:\n",
    "                prei_two_win = [get_window(channel=channel, start_index=i, data=prei_two) for i in range(get_max_window_iteration(prei_two, 4))]\n",
    "                for index, window in enumerate(prei_two_win):\n",
    "                    spec_transform_save_to_folder(channel=channel, index=index, win=window, patient_state=\"prei_two\", patient=patient)\n",
    "                del prei_two_win\n",
    "\n",
    "        count += 1\n",
    "        print(f\"memory usage = {psutil.virtual_memory().percent} : available memory = {psutil.virtual_memory().available * 100 / psutil.virtual_memory().total}\")\n",
    "        print(f\"filename: {filename} = done : count = {count} : files left = {len(files) - count} : time of creation = {datetime.now()}\")\n",
    "        del sz, prei_one, prei_two, inter\n",
    "except Exception as e:\n",
    "    print(e)"
   ]
  },
  {
   "cell_type": "code",
   "execution_count": 123,
   "metadata": {},
   "outputs": [
    {
     "name": "stdout",
     "output_type": "stream",
     "text": [
      "started file: chb20_12.parquet.gzip index: 0\n",
      "chb20_12\n"
     ]
    }
   ],
   "source": [
    "count = 0\n",
    "\n",
    "print(\"started file: \" + str(file) + \" index: \" + str(count))\n",
    "sz, prei_one, prei_two, inter, selected_channels = read_compressed_df(df)\n",
    "patient = re.search('(.*).parquet.gzip', file).group(1)\n",
    "print(patient)\n",
    "sz_count = 0\n",
    "int_count = 0\n",
    "count = 0\n",
    "sz_win = []\n",
    "for channel in selected_channels:\n",
    "    if count < 1:\n",
    "        if len(inter) > 0 and inter.empty == False and int_count < 3:\n",
    "            inter_win = [get_window(channel=channel,start_index=i, data=inter) for i in range(get_max_window_iteration(inter, 4))]\n",
    "            for index, window in enumerate(inter_win):\n",
    "                if int_count > 25:continue\n",
    "                spec_transform_save_to_folder(win=window, index=index, channel=channel, patient_state = \"interictal\", patient=patient, plot_title=True)\n",
    "                int_count += 1\n",
    "            del inter_win\n",
    "\n",
    "        if len(sz) > 0 and sz.empty == False and sz_count < 3:\n",
    "            sz_win = [get_window(channel=channel, start_index=i, data=sz, is_sezure=True) for i in range(get_max_window_iteration(sz, 2))]\n",
    "            for index, window in enumerate(sz_win):\n",
    "                if sz_count > 35:continue\n",
    "                sz_count += 1\n",
    "                spec_transform_save_to_folder(channel=channel, index=index, win=window, patient_state=\"seizure\", patient=patient, plot_title=True)\n",
    "            \n",
    "        count += 1\n",
    "\n",
    "\n",
    "del sz, prei_one, prei_two, inter\n"
   ]
  },
  {
   "cell_type": "code",
   "execution_count": 115,
   "metadata": {},
   "outputs": [
    {
     "data": {
      "text/plain": [
       "26"
      ]
     },
     "execution_count": 115,
     "metadata": {},
     "output_type": "execute_result"
    }
   ],
   "source": [
    "53-27\n"
   ]
  },
  {
   "cell_type": "code",
   "execution_count": 81,
   "metadata": {},
   "outputs": [
    {
     "data": {
      "text/plain": [
       "datetime.datetime(1970, 1, 1, 4, 56, 53)"
      ]
     },
     "execution_count": 81,
     "metadata": {},
     "output_type": "execute_result"
    }
   ],
   "source": [
    "datetime.fromtimestamp(14213000.0/1000.0)"
   ]
  }
 ],
 "metadata": {
  "interpreter": {
   "hash": "b84e05540a307b538244af4550d97e316ec86dc0712246a760046706883909fb"
  },
  "kernelspec": {
   "display_name": "Python 3.9.7 64-bit ('speciale_01_01': conda)",
   "name": "python3"
  },
  "language_info": {
   "codemirror_mode": {
    "name": "ipython",
    "version": 3
   },
   "file_extension": ".py",
   "mimetype": "text/x-python",
   "name": "python",
   "nbconvert_exporter": "python",
   "pygments_lexer": "ipython3",
   "version": "3.9.7"
  },
  "orig_nbformat": 4
 },
 "nbformat": 4,
 "nbformat_minor": 2
}
